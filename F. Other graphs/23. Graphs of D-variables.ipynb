{
 "cells": [
  {
   "cell_type": "code",
   "execution_count": null,
   "metadata": {},
   "outputs": [],
   "source": [
    "import pandas as pd\n",
    "import geopandas as gpd\n",
    "import numpy as np\n",
    "import matplotlib.pyplot as plt\n",
    "import os\n",
    "\n",
    "import warnings\n",
    "\n",
    "\n",
    "%matplotlib inline"
   ]
  },
  {
   "cell_type": "code",
   "execution_count": null,
   "metadata": {},
   "outputs": [],
   "source": [
    "parent_dir = os.path.split(os.getcwd())[0]"
   ]
  },
  {
   "cell_type": "code",
   "execution_count": null,
   "metadata": {},
   "outputs": [],
   "source": [
    "zones = gpd.read_file(parent_dir + '\\\\Data\\\\New\\\\lms_zone_du_new.shp') # LMS Zone data"
   ]
  },
  {
   "cell_type": "code",
   "execution_count": null,
   "metadata": {},
   "outputs": [],
   "source": [
    "letters = ['a', 'b', 'c', 'd', 'e', 'f', 'g', 'h']"
   ]
  },
  {
   "cell_type": "code",
   "execution_count": null,
   "metadata": {},
   "outputs": [],
   "source": [
    "# Density\n",
    "dens = pd.read_csv((parent_dir + '\\\\Data\\\\New\\\\lms_zone_density.csv'), index_col=0)\n",
    "\n",
    "# Diversity\n",
    "landuse = pd.read_csv((parent_dir + '\\\\Data\\\\New\\\\lms_diversity_lu.csv'), index_col=0)\n",
    "hist = pd.read_csv((parent_dir + '\\\\Data\\\\New\\\\lms_zone_historical.csv'), index_col=0)\n",
    "\n",
    "# Design\n",
    "design = pd.read_csv((parent_dir + '\\\\Data\\\\New\\\\lms_zone_design.csv'), index_col=0) \n",
    "\n",
    "# Destination accessibility\n",
    "dest = pd.read_csv((parent_dir + '\\\\Data\\\\New\\\\lms_zone_dest_access.csv'), index_col=0) \n",
    "\n",
    "# Distance to transit\n",
    "transit = pd.read_csv((parent_dir + '\\\\Data\\\\New\\\\lms_zone_transit.csv'), index_col=0) \n",
    "\n",
    "# Demography\n",
    "demo = pd.read_csv((parent_dir + '\\\\Data\\\\New\\\\zone_demographics.csv'), index_col=0) "
   ]
  },
  {
   "cell_type": "code",
   "execution_count": null,
   "metadata": {},
   "outputs": [],
   "source": [
    "def plot_dvar(column, title, legend, vmax=-1):\n",
    "\n",
    "    f, ax = plt.subplots(1, 1)\n",
    "    f.set_figwidth(13)\n",
    "    f.set_figheight(6)\n",
    "\n",
    "    cmap = plt.get_cmap('YlOrRd')\n",
    "\n",
    "    if vmax == -1:\n",
    "        vmax = column.max()\n",
    "\n",
    "    zones.plot(ax=ax, column=column, cmap=cmap, vmax=vmax,\n",
    "            legend=True, legend_kwds={\"label\": legend})\n",
    "\n",
    "    ax.set_xticks([])\n",
    "    ax.set_yticks([])\n",
    "    ax.set_facecolor('lightskyblue')\n",
    "    ax.set_title(title);"
   ]
  },
  {
   "cell_type": "code",
   "execution_count": null,
   "metadata": {},
   "outputs": [],
   "source": [
    "dens"
   ]
  },
  {
   "cell_type": "code",
   "execution_count": null,
   "metadata": {},
   "outputs": [],
   "source": [
    "warnings.simplefilter(action='ignore', category=FutureWarning)"
   ]
  },
  {
   "cell_type": "markdown",
   "metadata": {},
   "source": [
    "## Density"
   ]
  },
  {
   "cell_type": "code",
   "execution_count": null,
   "metadata": {},
   "outputs": [],
   "source": [
    "f, ax = plt.subplots(4, 2)\n",
    "f.set_figwidth(10)\n",
    "f.set_figheight(18)\n",
    "\n",
    "cmap = plt.get_cmap('YlOrRd')\n",
    "\n",
    "id = [1, 2, 4, 5]\n",
    "title_list = ['Population density', 'Surrounding population density',\n",
    "         'Job density', 'Surrounding job density']\n",
    "title_type = ['people', 'jobs']\n",
    "\n",
    "k = 0\n",
    "\n",
    "for i in range(4):\n",
    "\n",
    "    column = dens.iloc[:, id[i]]\n",
    "\n",
    "    for j in range(2):\n",
    "\n",
    "        if j == 0: \n",
    "            vmax = column.max()\n",
    "            title = title_list[i]\n",
    "            \n",
    "        else:\n",
    "            vmax = 50\n",
    "            title = title_list[i] + f'\\n(capped at 50 {title_type[i // 2]}/ha)'\n",
    "        \n",
    "        legend = title_list[i] + f' [{title_type[i // 2]}/ha]'\n",
    "\n",
    "        zones.plot(ax=ax[i, j], column=column, cmap=cmap, vmax=vmax, vmin=0,\n",
    "        legend=True, legend_kwds={\"label\": legend})\n",
    "\n",
    "        ax[i, j].set_xticks([])\n",
    "        ax[i, j].set_yticks([])\n",
    "        ax[i, j].set_facecolor('lightskyblue')\n",
    "        ax[i, j].set_title(f'{letters[k]}. ' + title)\n",
    "\n",
    "        k += 1\n",
    "    \n",
    "# f.suptitle('Overview of the density variables', fontsize=25)"
   ]
  },
  {
   "cell_type": "markdown",
   "metadata": {},
   "source": [
    "## Diversity"
   ]
  },
  {
   "cell_type": "code",
   "execution_count": null,
   "metadata": {},
   "outputs": [],
   "source": [
    "landuse"
   ]
  },
  {
   "cell_type": "code",
   "execution_count": null,
   "metadata": {},
   "outputs": [],
   "source": [
    "landuse.mean()"
   ]
  },
  {
   "cell_type": "code",
   "execution_count": null,
   "metadata": {},
   "outputs": [],
   "source": [
    "f, ax = plt.subplots(4, 2)\n",
    "f.set_figwidth(10)\n",
    "f.set_figheight(18)\n",
    "\n",
    "cmap = plt.get_cmap('YlOrRd')\n",
    "\n",
    "k = 0\n",
    "\n",
    "for i in range(4):\n",
    "\n",
    "    for j in range(2):\n",
    "\n",
    "        column = landuse.iloc[:, k + 1]\n",
    "\n",
    "        if k < 5:\n",
    "            vmax = column.max()\n",
    "            title = landuse.columns[k + 1] + ' land use'\n",
    "            legend = 'Share of ' + title\n",
    "        \n",
    "        elif k == 5:\n",
    "            vmax = column.max()\n",
    "            title = 'Infrastructure land use'\n",
    "            legend = 'Share of ' + title\n",
    "\n",
    "        elif k == 6:\n",
    "            title = 'Entropy measure'\n",
    "            legend = title\n",
    "            vmax = 1\n",
    "        else:\n",
    "            title = 'National specialisation index'\n",
    "            legend = title\n",
    "            vmax = 1\n",
    "\n",
    "        zones.plot(ax=ax[i, j], column=column, cmap=cmap, vmin=0, vmax=vmax,\n",
    "        legend=True, legend_kwds={\"label\": legend})\n",
    "\n",
    "        ax[i, j].set_xticks([])\n",
    "        ax[i, j].set_yticks([])\n",
    "        ax[i, j].set_facecolor('lightskyblue')\n",
    "        ax[i, j].set_title(f'{letters[k]}. ' + title)\n",
    "\n",
    "        k += 1\n",
    "    \n",
    "# f.suptitle('Overview of the density variables', fontsize=25)"
   ]
  },
  {
   "cell_type": "code",
   "execution_count": null,
   "metadata": {},
   "outputs": [],
   "source": [
    "hist[hist.iloc[:, 1].isnull()]"
   ]
  },
  {
   "cell_type": "code",
   "execution_count": null,
   "metadata": {},
   "outputs": [],
   "source": [
    "f, ax = plt.subplots(2, 2)\n",
    "f.set_figwidth(10)\n",
    "f.set_figheight(10)\n",
    "\n",
    "cmap = plt.get_cmap('YlOrRd')\n",
    "\n",
    "k = 0\n",
    "\n",
    "title = ['Houses built before 1945', 'Houses built 1945 - 1975',\n",
    "         'Houses built 1975 - 2005', 'Houses built after 2005']\n",
    "\n",
    "for i in range(2):\n",
    "\n",
    "    for j in range(2):\n",
    "\n",
    "        column = hist.iloc[:, k + 1]\n",
    "\n",
    "        legend = 'Percentage of h' + title[k][1:]\n",
    "\n",
    "        zones.plot(ax=ax[i, j], column=0.6 * np.ones(1406), cmap='Greys', vmin=0, vmax=1)\n",
    "        zones.plot(ax=ax[i, j], column=column, cmap=cmap, vmin=0, vmax=100,\n",
    "        legend=True, legend_kwds={\"label\": legend})\n",
    "\n",
    "        ax[i, j].set_xticks([])\n",
    "        ax[i, j].set_yticks([])\n",
    "        ax[i, j].set_facecolor('lightskyblue')\n",
    "        ax[i, j].set_title(f'{letters[k]}. ' + title[k])\n",
    "\n",
    "        k += 1\n",
    "\n",
    "ax[1, 0].plot([], [], color='grey', label='Missing data', linewidth=5)\n",
    "ax[1, 0].legend(loc=[1.8, 1.12])"
   ]
  },
  {
   "cell_type": "code",
   "execution_count": null,
   "metadata": {},
   "outputs": [],
   "source": [
    "plot_dvar(hist.iloc[:, -1], 'Job-workers ratio', 'Job-workers ratio')"
   ]
  },
  {
   "cell_type": "markdown",
   "metadata": {},
   "source": [
    "## Design"
   ]
  },
  {
   "cell_type": "code",
   "execution_count": null,
   "metadata": {},
   "outputs": [],
   "source": [
    "design"
   ]
  },
  {
   "cell_type": "code",
   "execution_count": null,
   "metadata": {},
   "outputs": [],
   "source": [
    "f, ax = plt.subplots(1, 3)\n",
    "f.set_figwidth(15)\n",
    "f.set_figheight(5)\n",
    "\n",
    "cmap = plt.get_cmap('YlOrRd')\n",
    "\n",
    "title = ['Road density', 'Average road width', 'Bike and pedestrian roads']\n",
    "legend = ['Road density [km/km2]', 'Average road width [m]', 'Percentage of bike and pedestrian roads']\n",
    "\n",
    "id = [1, 2, 4]\n",
    "\n",
    "for i in range(3):\n",
    "\n",
    "    column = design.iloc[:, id[i]]\n",
    "\n",
    "    zones.plot(ax=ax[i], column=column, cmap=cmap,\n",
    "    legend=True, legend_kwds={\"label\": legend[i], 'shrink': 0.82})\n",
    "\n",
    "    ax[i].set_xticks([])\n",
    "    ax[i].set_yticks([])\n",
    "    ax[i].set_facecolor('lightskyblue')\n",
    "    ax[i].set_title(f'{letters[i]}. ' +title[i])"
   ]
  },
  {
   "cell_type": "markdown",
   "metadata": {},
   "source": [
    "## Destination accessibility"
   ]
  },
  {
   "cell_type": "code",
   "execution_count": null,
   "metadata": {},
   "outputs": [],
   "source": [
    "dest"
   ]
  },
  {
   "cell_type": "code",
   "execution_count": null,
   "metadata": {},
   "outputs": [],
   "source": [
    "f, ax = plt.subplots(3, 2)\n",
    "f.set_figwidth(10)\n",
    "f.set_figheight(14)\n",
    "\n",
    "cmap = plt.get_cmap('YlOrRd')\n",
    "\n",
    "k = 0\n",
    "\n",
    "title = ['Distance to food', 'Distance to commercial', 'Distance to health',\n",
    "         'Distance to recreation', 'Distance to education', 'Distance to points of interest']\n",
    "\n",
    "for i in range(3):\n",
    "\n",
    "    for j in range(2):\n",
    "\n",
    "        column = dest.iloc[:, k + 2]\n",
    "        legend = title[k] + ' [km]'\n",
    "\n",
    "        zones.plot(ax=ax[i, j], column=column, cmap=cmap,\n",
    "        legend=True, legend_kwds={\"label\": legend})\n",
    "\n",
    "        ax[i, j].set_xticks([])\n",
    "        ax[i, j].set_yticks([])\n",
    "        ax[i, j].set_facecolor('lightskyblue')\n",
    "        ax[i, j].set_title(f'{letters[k]}. ' + title[k])\n",
    "\n",
    "        k += 1"
   ]
  },
  {
   "cell_type": "markdown",
   "metadata": {},
   "source": [
    "## Distance to transit"
   ]
  },
  {
   "cell_type": "code",
   "execution_count": null,
   "metadata": {},
   "outputs": [],
   "source": [
    "transit"
   ]
  },
  {
   "cell_type": "code",
   "execution_count": null,
   "metadata": {},
   "outputs": [],
   "source": [
    "## Train\n",
    "\n",
    "f, ax = plt.subplots(2, 2)\n",
    "f.set_figwidth(10)\n",
    "f.set_figheight(10)\n",
    "\n",
    "cmap = plt.get_cmap('YlOrRd')\n",
    "\n",
    "k = 0\n",
    "\n",
    "title = ['Distance to closest station', 'Distance to closest IC station',\n",
    "         'Frequency of closest station', 'Frequency of closest IC station']\n",
    "\n",
    "for i in range(2):\n",
    "\n",
    "    for j in range(2):\n",
    "\n",
    "        column = transit.iloc[:, k + 2]\n",
    "\n",
    "        if i == 0:\n",
    "            legend = title[k] + ' [km]'\n",
    "        else:\n",
    "            legend = title[k] + ' [trains/ hour]'\n",
    "\n",
    "        # zones.plot(ax=ax[i, j], column=0.6 * np.ones(1406), cmap='Greys', vmin=0, vmax=1)\n",
    "        zones.plot(ax=ax[i, j], column=column, cmap=cmap,\n",
    "        legend=True, legend_kwds={\"label\": legend})\n",
    "\n",
    "        ax[i, j].set_xticks([])\n",
    "        ax[i, j].set_yticks([])\n",
    "        ax[i, j].set_facecolor('lightskyblue')\n",
    "        ax[i, j].set_title(f'{letters[k]}. ' + title[k])\n",
    "\n",
    "        k += 1\n",
    "\n",
    "# ax[1, 0].plot([], [], color='grey', label='Missing data', linewidth=5)\n",
    "# ax[1, 0].legend(loc=[1.8, 1.12])\n"
   ]
  },
  {
   "cell_type": "code",
   "execution_count": null,
   "metadata": {},
   "outputs": [],
   "source": [
    "## BTM\n",
    "\n",
    "f, ax = plt.subplots(4, 2)\n",
    "f.set_figwidth(10)\n",
    "f.set_figheight(18)\n",
    "\n",
    "cmap = plt.get_cmap('YlOrRd')\n",
    "\n",
    "k = 0\n",
    "\n",
    "title_list = ['BTM stops', 'bus stops', 'metro stops', 'tram stops',\n",
    "              'BTM lines', 'bus lines', 'metro lines', 'tram lines']\n",
    "\n",
    "\n",
    "for i in range(4):\n",
    "\n",
    "    for j in range(2):\n",
    "\n",
    "        column = transit.iloc[:, k + 6]\n",
    "\n",
    "        if k < 4:\n",
    "            title = 'Distance to closests ' + title_list[k]\n",
    "            legend = title + ' [km]'\n",
    "        else:\n",
    "            title = 'Average number of ' + title_list[k]\n",
    "            legend = title\n",
    "\n",
    "        zones.plot(ax=ax[i, j], column=0.6 * np.ones(1406), cmap='Greys', vmin=0, vmax=1)\n",
    "        zones.plot(ax=ax[i, j], column=column, cmap=cmap,\n",
    "        legend=True, legend_kwds={\"label\": legend})\n",
    "\n",
    "        ax[i, j].set_xticks([])\n",
    "        ax[i, j].set_yticks([])\n",
    "        ax[i, j].set_facecolor('lightskyblue')\n",
    "        ax[i, j].set_title(f'{letters[k]}. ' + title)\n",
    "\n",
    "        k += 1\n",
    "\n",
    "ax[1, 0].plot([], [], color='grey', label='Missing data', linewidth=5)\n",
    "ax[1, 0].legend(loc=[1.8, 1.12])\n"
   ]
  },
  {
   "cell_type": "code",
   "execution_count": null,
   "metadata": {},
   "outputs": [],
   "source": [
    "## BTM\n",
    "\n",
    "f, ax = plt.subplots(2, 2)\n",
    "f.set_figwidth(10)\n",
    "f.set_figheight(10)\n",
    "\n",
    "cmap = plt.get_cmap('YlOrRd')\n",
    "\n",
    "k = 0\n",
    "\n",
    "title_list = ['BTM stops', 'bus stops', 'metro stops', 'tram stops']\n",
    "\n",
    "\n",
    "for i in range(2):\n",
    "\n",
    "    for j in range(2):\n",
    "\n",
    "        column = transit.iloc[:, k + 14]\n",
    "\n",
    "\n",
    "        title = 'Average number of ' + title_list[k]\n",
    "        legend = title\n",
    "\n",
    "        zones.plot(ax=ax[i, j], column=0.6 * np.ones(1406), cmap='Greys', vmin=0, vmax=1)\n",
    "        zones.plot(ax=ax[i, j], column=column, cmap=cmap,\n",
    "        legend=True, legend_kwds={\"label\": legend})\n",
    "\n",
    "        ax[i, j].set_xticks([])\n",
    "        ax[i, j].set_yticks([])\n",
    "        ax[i, j].set_facecolor('lightskyblue')\n",
    "        ax[i, j].set_title(f'{letters[k]}. ' + title)\n",
    "\n",
    "        k += 1\n",
    "\n",
    "ax[1, 0].plot([], [], color='grey', label='Missing data', linewidth=5)\n",
    "ax[1, 0].legend(loc=[1.8, 1.12])"
   ]
  },
  {
   "cell_type": "markdown",
   "metadata": {},
   "source": [
    "## Demand management"
   ]
  },
  {
   "cell_type": "code",
   "execution_count": null,
   "metadata": {},
   "outputs": [],
   "source": [
    "demand = [design.Road_parking, transit.Parking_fare / 100]"
   ]
  },
  {
   "cell_type": "code",
   "execution_count": null,
   "metadata": {},
   "outputs": [],
   "source": [
    "f, ax = plt.subplots(1, 2)\n",
    "f.set_figwidth(12)\n",
    "f.set_figheight(5)\n",
    "\n",
    "cmap = plt.get_cmap('YlOrRd')\n",
    "\n",
    "title = ['Parking area next to roads', 'Parking fee']\n",
    "legend = ['Parking area next to roads [m2/ person]', 'Parking fee [Euros/ hour]']\n",
    "\n",
    "\n",
    "for i in range(2):\n",
    "\n",
    "    column = design.iloc[:, id[i]]\n",
    "\n",
    "    zones.plot(ax=ax[i], column=0.6 * np.ones(1406), cmap='Greys', vmin=0, vmax=1)\n",
    "    zones.plot(ax=ax[i], column=demand[i], cmap=cmap, \n",
    "    \n",
    "    legend=True, legend_kwds={\"label\": legend[i], 'shrink': 0.82})\n",
    "\n",
    "    ax[i].set_xticks([])\n",
    "    ax[i].set_yticks([])\n",
    "    ax[i].set_facecolor('lightskyblue')\n",
    "    ax[i].set_title(f'{letters[i]}. ' + title[i])\n",
    "\n",
    "ax[0].plot([], [], color='grey', label='Missing data', linewidth=5)\n",
    "ax[0].legend(loc=[2.4, 1.02])"
   ]
  },
  {
   "cell_type": "code",
   "execution_count": null,
   "metadata": {},
   "outputs": [],
   "source": []
  }
 ],
 "metadata": {
  "kernelspec": {
   "display_name": "geospatial",
   "language": "python",
   "name": "geospatial"
  },
  "language_info": {
   "codemirror_mode": {
    "name": "ipython",
    "version": 3
   },
   "file_extension": ".py",
   "mimetype": "text/x-python",
   "name": "python",
   "nbconvert_exporter": "python",
   "pygments_lexer": "ipython3",
   "version": "3.9.18"
  }
 },
 "nbformat": 4,
 "nbformat_minor": 2
}
