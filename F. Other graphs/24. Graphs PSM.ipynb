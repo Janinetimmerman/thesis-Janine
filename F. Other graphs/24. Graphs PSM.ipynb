{
 "cells": [
  {
   "cell_type": "code",
   "execution_count": null,
   "metadata": {},
   "outputs": [],
   "source": [
    "import pandas as pd\n",
    "import geopandas as gpd\n",
    "import numpy as np\n",
    "import matplotlib.pyplot as plt\n",
    "\n",
    "import os\n",
    "\n",
    "\n",
    "%matplotlib inline"
   ]
  },
  {
   "cell_type": "code",
   "execution_count": null,
   "metadata": {},
   "outputs": [],
   "source": [
    "parent_dir = os.path.split(os.getcwd())[0]"
   ]
  },
  {
   "cell_type": "code",
   "execution_count": null,
   "metadata": {},
   "outputs": [],
   "source": [
    "zones = gpd.read_file(parent_dir + '\\\\Data\\\\New\\\\lms_zone_du_new.shp') # LMS Zone data"
   ]
  },
  {
   "cell_type": "code",
   "execution_count": null,
   "metadata": {},
   "outputs": [],
   "source": [
    "labels_advanced = np.load(parent_dir + '\\\\Data\\\\New\\\\cluster_labels_advanced.npy')\n",
    "labels_simple = np.load(parent_dir + '\\\\Data\\\\New\\\\cluster_labels_simple.npy')\n",
    "labels_du = np.array(zones.deg_urba - 1)"
   ]
  },
  {
   "cell_type": "code",
   "execution_count": null,
   "metadata": {},
   "outputs": [],
   "source": [
    "n = 7\n",
    "m = 6"
   ]
  },
  {
   "cell_type": "code",
   "execution_count": null,
   "metadata": {},
   "outputs": [],
   "source": [
    "du_ao = pd.read_csv(parent_dir + '\\\\Data\\\\New\\\\ate_obe_DU_corrected.csv', index_col=0)\n",
    "simple_ao = pd.read_csv(parent_dir + '\\\\Data\\\\New\\\\ate_obe_simple_corrected.csv', index_col=0)\n",
    "advanced_ao = pd.read_csv(parent_dir + '\\\\Data\\\\New\\\\ate_obe_advanced_corrected.csv', index_col=0)"
   ]
  },
  {
   "cell_type": "code",
   "execution_count": null,
   "metadata": {},
   "outputs": [],
   "source": [
    "du_ao_f = pd.read_csv(parent_dir + '\\\\Data\\\\New\\\\ate_obe_DU.csv', index_col=0)\n",
    "simple_ao_f = pd.read_csv(parent_dir + '\\\\Data\\\\New\\\\ate_obe_simple.csv', index_col=0)\n",
    "advanced_ao_f = pd.read_csv(parent_dir + '\\\\Data\\\\New\\\\ate_obe_advanced.csv', index_col=0)"
   ]
  },
  {
   "cell_type": "code",
   "execution_count": null,
   "metadata": {},
   "outputs": [],
   "source": [
    "du_tb = pd.read_csv(parent_dir + '\\\\Data\\\\New\\\\modalsplit_matched_DU.csv', index_col=0)\n",
    "simple_tb = pd.read_csv(parent_dir + '\\\\Data\\\\New\\\\modalsplit_matched_simple.csv', index_col=0)\n",
    "advanced_tb = pd.read_csv(parent_dir + '\\\\Data\\\\New\\\\modalsplit_matched_advanced.csv', index_col=0)\n"
   ]
  },
  {
   "cell_type": "code",
   "execution_count": null,
   "metadata": {},
   "outputs": [],
   "source": [
    "du_p = pd.read_csv(parent_dir + '\\\\Data\\\\New\\\\p_DU.csv', index_col=0)\n",
    "simple_p = pd.read_csv(parent_dir + '\\\\Data\\\\New\\\\p_simple.csv', index_col=0)\n",
    "advanced_p = pd.read_csv(parent_dir + '\\\\Data\\\\New\\\\p_advanced.csv', index_col=0)"
   ]
  },
  {
   "cell_type": "code",
   "execution_count": null,
   "metadata": {},
   "outputs": [],
   "source": [
    "idx = np.zeros((21, 2))\n",
    "\n",
    "k = 0\n",
    "for i in range(n):\n",
    "    for j in range(n):\n",
    "\n",
    "        if (i != j) and (i > j):\n",
    "\n",
    "            idx[k] = [i, j]\n",
    "            k += 1\n"
   ]
  },
  {
   "cell_type": "code",
   "execution_count": null,
   "metadata": {},
   "outputs": [],
   "source": [
    "idx[2]"
   ]
  },
  {
   "cell_type": "code",
   "execution_count": null,
   "metadata": {},
   "outputs": [],
   "source": [
    "def plot_diff(c, df_ate_obe, df_ate_obe_f, df_tb):\n",
    "\n",
    "    cluster0 = idx[c][0]\n",
    "    cluster1 = idx[c][1]\n",
    "\n",
    "    col1 = ['Car driver', 'Car passenger', 'Train', 'BTM', 'Bike', 'Walking']\n",
    "\n",
    "    f, ax = plt.subplots(1, 3)\n",
    "    f.set_figwidth(12)\n",
    "\n",
    "    x = np.arange(6)\n",
    "\n",
    "    ax[0].bar(x - 0.18, df_tb.iloc[c, 13:19], width=0.25, label=f'Cluster {cluster0}')\n",
    "    ax[0].bar(x + 0.18, df_tb.iloc[c, 19:25], width=0.25, label=f'Cluster {cluster1}')\n",
    "    ax[0].set_title(f'Travel behaviour before matching')\n",
    "\n",
    "    ax[1].bar(x - 0.18, df_tb.iloc[c, 1:7], width=0.25, label=f'Cluster {cluster0}')\n",
    "    ax[1].bar(x + 0.18, df_tb.iloc[c, 7:13], width=0.25, label=f'Cluster {cluster1}')\n",
    "    ax[1].set_title(f'Travel behaviour after matching')\n",
    "\n",
    "    ax[2].bar(x - 0.18, df_ate_obe_f.iloc[c, 7:13], width=0.25, label='OBE (p > 0.05)', color='firebrick', alpha=0.3)\n",
    "    ax[2].bar(x + 0.18, df_ate_obe_f.iloc[c, 1:7], width=0.25, label='ATE (p > 0.05)', color='forestgreen', alpha=0.3)\n",
    "\n",
    "    ax[2].bar(x - 0.18, df_ate_obe.iloc[c, 7:13], width=0.25, label='OBE', color='firebrick')\n",
    "    ax[2].bar(x + 0.18, df_ate_obe.iloc[c, 1:7], width=0.25, label='ATE', color='forestgreen')\n",
    "\n",
    "    ax[2].set_title('Difference before (OBE) and after (ATE)')\n",
    "\n",
    "    for i in range(3):\n",
    "        ax[i].set_xticks(x, col1, rotation=45, ha='right')\n",
    "        if i < 2:\n",
    "            ax[i].set_ylim(0, df_tb.iloc[c, 1:25].max() + 5)\n",
    "            ax[i].set_yticks(np.arange(0, df_tb.iloc[c, 1:25].max() + 5, 5))\n",
    "        ax[i].grid(axis='y')\n",
    "        ax[i].set_axisbelow(True)\n",
    "        ax[i].legend()\n",
    "\n",
    "    f.suptitle(f'Travel behaviour cluster {cluster0} and cluster {cluster1}', fontsize='xx-large');"
   ]
  },
  {
   "cell_type": "code",
   "execution_count": null,
   "metadata": {},
   "outputs": [],
   "source": [
    "plot_diff(5, simple_ao, simple_ao_f, simple_tb)"
   ]
  },
  {
   "cell_type": "code",
   "execution_count": null,
   "metadata": {},
   "outputs": [],
   "source": [
    "plot_diff(2, advanced_ao, advanced_ao_f, advanced_tb)"
   ]
  },
  {
   "cell_type": "code",
   "execution_count": null,
   "metadata": {},
   "outputs": [],
   "source": [
    "simple_p"
   ]
  },
  {
   "cell_type": "code",
   "execution_count": null,
   "metadata": {},
   "outputs": [],
   "source": [
    "plot_diff(4, du_ao, du_ao_f, du_tb)"
   ]
  },
  {
   "cell_type": "code",
   "execution_count": null,
   "metadata": {},
   "outputs": [],
   "source": [
    "zones['labels_advanced'] = labels_advanced\n",
    "zones['labels_simple'] = labels_simple\n",
    "zones['labels_du'] = labels_du\n",
    "\n",
    "zones['pop_share'] = np.round(zones.INWONERS / zones.INWONERS.sum() * 100, 2)"
   ]
  },
  {
   "cell_type": "code",
   "execution_count": null,
   "metadata": {},
   "outputs": [],
   "source": [
    "zones[['INWONERS', 'pop_share', 'labels_advanced']].groupby('labels_advanced').sum()"
   ]
  },
  {
   "cell_type": "code",
   "execution_count": null,
   "metadata": {},
   "outputs": [],
   "source": [
    "zones[['INWONERS', 'pop_share', 'labels_simple']].groupby('labels_simple').sum()"
   ]
  },
  {
   "cell_type": "code",
   "execution_count": null,
   "metadata": {},
   "outputs": [],
   "source": [
    "zones[['INWONERS', 'pop_share', 'labels_du']].groupby('labels_du').sum()"
   ]
  },
  {
   "cell_type": "code",
   "execution_count": null,
   "metadata": {},
   "outputs": [],
   "source": []
  },
  {
   "cell_type": "code",
   "execution_count": null,
   "metadata": {},
   "outputs": [],
   "source": []
  }
 ],
 "metadata": {
  "kernelspec": {
   "display_name": "geospatial",
   "language": "python",
   "name": "geospatial"
  },
  "language_info": {
   "codemirror_mode": {
    "name": "ipython",
    "version": 3
   },
   "file_extension": ".py",
   "mimetype": "text/x-python",
   "name": "python",
   "nbconvert_exporter": "python",
   "pygments_lexer": "ipython3",
   "version": "3.9.18"
  }
 },
 "nbformat": 4,
 "nbformat_minor": 2
}
