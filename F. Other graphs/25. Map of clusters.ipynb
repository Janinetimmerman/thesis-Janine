{
 "cells": [
  {
   "cell_type": "code",
   "execution_count": null,
   "metadata": {},
   "outputs": [],
   "source": [
    "import pandas as pd\n",
    "import geopandas as gpd\n",
    "import numpy as np\n",
    "import matplotlib.pyplot as plt\n",
    "import os\n",
    "\n",
    "from matplotlib.colors import ListedColormap\n",
    "import folium\n",
    "\n",
    "\n",
    "%matplotlib inline"
   ]
  },
  {
   "cell_type": "code",
   "execution_count": null,
   "metadata": {},
   "outputs": [],
   "source": [
    "parent_dir = os.path.split(os.getcwd())[0]"
   ]
  },
  {
   "cell_type": "code",
   "execution_count": null,
   "metadata": {},
   "outputs": [],
   "source": [
    "zones = gpd.read_file(parent_dir + '\\\\Data\\\\New\\\\lms_zone_du_new.shp') # LMS Zone data"
   ]
  },
  {
   "cell_type": "code",
   "execution_count": null,
   "metadata": {},
   "outputs": [],
   "source": [
    "pc4 = gpd.read_file(parent_dir + '\\Data\\PC4 2022\\cbs_pc4_2019_vol.gpkg') # load PC4 zones according to the CBS"
   ]
  },
  {
   "cell_type": "code",
   "execution_count": null,
   "metadata": {},
   "outputs": [],
   "source": [
    "# Density\n",
    "dens = pd.read_csv((parent_dir + '\\\\Data\\\\New\\\\lms_zone_density.csv'), index_col=0)\n",
    "\n",
    "# Diversity\n",
    "landuse = pd.read_csv((parent_dir + '\\\\Data\\\\New\\\\lms_diversity_lu.csv'), index_col=0)\n",
    "hist = pd.read_csv((parent_dir + '\\\\Data\\\\New\\\\lms_zone_historical.csv'), index_col=0)\n",
    "\n",
    "# Design\n",
    "design = pd.read_csv((parent_dir + '\\\\Data\\\\New\\\\lms_zone_design.csv'), index_col=0) \n",
    "\n",
    "# Destination accessibility\n",
    "dest = pd.read_csv((parent_dir + '\\\\Data\\\\New\\\\lms_zone_dest_access.csv'), index_col=0) \n",
    "\n",
    "# Distance to transit\n",
    "transit = pd.read_csv((parent_dir + '\\\\Data\\\\New\\\\lms_zone_transit.csv'), index_col=0) \n",
    "\n",
    "# Demography\n",
    "demo = pd.read_csv((parent_dir + '\\\\Data\\\\New\\\\zone_demographics.csv'), index_col=0) "
   ]
  },
  {
   "cell_type": "code",
   "execution_count": null,
   "metadata": {},
   "outputs": [],
   "source": [
    "labels_advanced = np.load(parent_dir + '\\\\Data\\\\New\\\\cluster_labels_advanced.npy')\n",
    "labels_simple = np.load(parent_dir + '\\\\Data\\\\New\\\\cluster_labels_simple.npy')\n",
    "labels_du = np.array(zones.deg_urba - 1)"
   ]
  },
  {
   "cell_type": "code",
   "execution_count": null,
   "metadata": {},
   "outputs": [],
   "source": [
    "n = 7\n",
    "m = 6"
   ]
  },
  {
   "cell_type": "code",
   "execution_count": null,
   "metadata": {},
   "outputs": [],
   "source": [
    "# plt.style.use('tableau-colorblind10')"
   ]
  },
  {
   "cell_type": "code",
   "execution_count": null,
   "metadata": {},
   "outputs": [],
   "source": [
    "def plot_nl(n, labels_cluster, idx=np.arange(1406), colormap='Set1', title='Clustering',\n",
    "            cmap=ListedColormap([\"#56B4E9\",  \"#E69F00\", \"#F0E442\", \"#0072B2\", \"#009E73\", \"#CC79A7\",  \"#D55E00\", ])):\n",
    "\n",
    "    f, ax = plt.subplots(1, 1)\n",
    "    f.set_figwidth(15)\n",
    "    f.set_figheight(10)\n",
    "\n",
    "    zones.iloc[idx].plot(ax=ax, column=labels_cluster[idx], cmap=cmap, vmin=0, vmax=n - 1,\n",
    "            legend=True, legend_kwds={\"label\": \"Cluster number\", \"ticks\": np.arange(n)})\n",
    "    \n",
    "    \n",
    "    for i in range(n):\n",
    "        z = zones[labels_cluster == i]\n",
    "\n",
    "    ax.set_xticks([])\n",
    "    ax.set_yticks([])\n",
    "    ax.axis('off')\n",
    "#     ax.set_facecolor('lightcyan')\n",
    "    ax.set_title(title, fontsize=15);"
   ]
  },
  {
   "cell_type": "code",
   "execution_count": null,
   "metadata": {},
   "outputs": [],
   "source": [
    "ListedColormap([\"#E69F00\", \"#56B4E9\", \"#009E73\", \"#F0E442\", \"#0072B2\", \"#D55E00\", \"#CC79A7\", \"#000000\"])"
   ]
  },
  {
   "cell_type": "code",
   "execution_count": null,
   "metadata": {},
   "outputs": [],
   "source": [
    "plot_nl(n, labels_advanced, title='Weighted cluster set')"
   ]
  },
  {
   "cell_type": "code",
   "execution_count": null,
   "metadata": {},
   "outputs": [],
   "source": [
    "plot_nl(n, labels_simple, title='Unweighted cluster set',\n",
    "        cmap=ListedColormap([\"#CC79A7\", \"#E69F00\", \"#F0E442\",   \"#0072B2\", \"#009E73\", \"#56B4E9\",  \"#D55E00\",]))"
   ]
  },
  {
   "cell_type": "code",
   "execution_count": null,
   "metadata": {},
   "outputs": [],
   "source": [
    "idx = zones[zones.GEM_NAAM.isin(['Delft', 'Zoetermeer', 'Den Haag', 'Leiden'])].index\n",
    "idx = zones[zones.GEM_NAAM.isin(['Amsterdam'])].index\n",
    "# idx = zones[zones.PROV.isin([1])].index\n",
    "plot_nl(n, labels_simple, idx=idx,\n",
    "        cmap=ListedColormap([\"#CC79A7\", \"#E69F00\", \"#F0E442\",   \"#0072B2\", \"#009E73\", \"#56B4E9\",  \"#D55E00\",]))"
   ]
  },
  {
   "cell_type": "code",
   "execution_count": null,
   "metadata": {},
   "outputs": [],
   "source": [
    "zones.crs ='EPSG:28992'"
   ]
  },
  {
   "cell_type": "code",
   "execution_count": null,
   "metadata": {},
   "outputs": [],
   "source": [
    "labels_advanced == 3"
   ]
  },
  {
   "cell_type": "code",
   "execution_count": null,
   "metadata": {},
   "outputs": [],
   "source": [
    "m = folium.Map(location=[52.399190, 4.893658])\n",
    "\n",
    "colors = [\"#56B4E9\",  \"#E69F00\", \"#F0E442\", \"#0072B2\", \"#009E73\", \"#CC79A7\",  \"#D55E00\", ]\n",
    "\n",
    "folium.GeoJson(zones[labels_advanced == 0], style_function=lambda x: {'fillColor':colors[0], 'color':colors[0], 'alpha':0}).add_to(m)\n",
    "folium.GeoJson(zones[labels_advanced == 1], style_function=lambda x: {'fillColor':colors[1], 'color':colors[1], 'alpha':0}).add_to(m)\n",
    "folium.GeoJson(zones[labels_advanced == 2], style_function=lambda x: {'fillColor':colors[2], 'color':colors[2], 'alpha':0}).add_to(m)\n",
    "folium.GeoJson(zones[labels_advanced == 3], style_function=lambda x: {'fillColor':colors[3], 'color':colors[3], 'alpha':0}).add_to(m)\n",
    "folium.GeoJson(zones[labels_advanced == 4], style_function=lambda x: {'fillColor':colors[4], 'color':colors[4], 'alpha':0}).add_to(m)\n",
    "folium.GeoJson(zones[labels_advanced == 5], style_function=lambda x: {'fillColor':colors[5], 'color':colors[5], 'alpha':0}).add_to(m)\n",
    "folium.GeoJson(zones[labels_advanced == 6], style_function=lambda x: {'fillColor':colors[6], 'color':colors[6], 'alpha':0}).add_to(m)\n"
   ]
  },
  {
   "cell_type": "code",
   "execution_count": null,
   "metadata": {},
   "outputs": [],
   "source": [
    "m"
   ]
  },
  {
   "cell_type": "code",
   "execution_count": null,
   "metadata": {},
   "outputs": [],
   "source": [
    "pc4[pc4.postcode4.isin(['7241', '7242', '7244', '7240'])].plot()"
   ]
  },
  {
   "cell_type": "code",
   "execution_count": null,
   "metadata": {},
   "outputs": [],
   "source": [
    "m = folium.Map(location=[52.399190, 4.893658])\n",
    "\n",
    "colors = [\"#56B4E9\",  \"#E69F00\", \"#F0E442\", \"#0072B2\", \"#009E73\", \"#CC79A7\",  \"#D55E00\", ]\n",
    "\n",
    "folium.GeoJson(pc4[pc4.postcode4.isin(['7470', '7471', '7472'])], \n",
    "               style_function=lambda x: {'fillColor':colors[0], 'color':colors[0]}).add_to(m)\n",
    "\n",
    "m"
   ]
  },
  {
   "cell_type": "code",
   "execution_count": null,
   "metadata": {},
   "outputs": [],
   "source": [
    "zones[zones.GEM_NAAM.isin(['Lochem', 'Hof van Twente'])].iloc[np.r_[2, 5]].plot()"
   ]
  },
  {
   "cell_type": "code",
   "execution_count": null,
   "metadata": {},
   "outputs": [],
   "source": [
    "landuse[zones.GEM_NAAM.isin(['Lochem', 'Hof van Twente'])].iloc[np.r_[2, 5]]"
   ]
  },
  {
   "cell_type": "code",
   "execution_count": null,
   "metadata": {},
   "outputs": [],
   "source": []
  },
  {
   "cell_type": "code",
   "execution_count": null,
   "metadata": {},
   "outputs": [],
   "source": []
  },
  {
   "cell_type": "code",
   "execution_count": null,
   "metadata": {},
   "outputs": [],
   "source": []
  }
 ],
 "metadata": {
  "kernelspec": {
   "display_name": "geospatial",
   "language": "python",
   "name": "geospatial"
  },
  "language_info": {
   "codemirror_mode": {
    "name": "ipython",
    "version": 3
   },
   "file_extension": ".py",
   "mimetype": "text/x-python",
   "name": "python",
   "nbconvert_exporter": "python",
   "pygments_lexer": "ipython3",
   "version": "3.9.18"
  }
 },
 "nbformat": 4,
 "nbformat_minor": 2
}
