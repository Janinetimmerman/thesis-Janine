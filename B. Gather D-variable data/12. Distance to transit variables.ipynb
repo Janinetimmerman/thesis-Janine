{
 "cells": [
  {
   "cell_type": "code",
   "execution_count": null,
   "metadata": {},
   "outputs": [],
   "source": [
    "import pandas as pd\n",
    "import geopandas as gpd\n",
    "import numpy as np\n",
    "import matplotlib.pyplot as plt\n",
    "from pylab import cm\n",
    "import os\n",
    "from scipy import spatial\n",
    "\n",
    "%matplotlib inline"
   ]
  },
  {
   "cell_type": "code",
   "execution_count": null,
   "metadata": {},
   "outputs": [],
   "source": [
    "parent_dir = os.path.split(os.getcwd())[0]"
   ]
  },
  {
   "cell_type": "code",
   "execution_count": null,
   "metadata": {},
   "outputs": [],
   "source": [
    "zones = gpd.read_file(parent_dir + '\\\\Data\\\\New\\\\lms_zone_du_new.shp') # LMS Zone data"
   ]
  },
  {
   "cell_type": "code",
   "execution_count": null,
   "metadata": {},
   "outputs": [],
   "source": [
    "ov = gpd.read_file(parent_dir + '\\\\Data\\\\ov\\\\Openbaar_Vervoer_Nederland.shp')"
   ]
  },
  {
   "cell_type": "code",
   "execution_count": null,
   "metadata": {},
   "outputs": [],
   "source": [
    "stations = pd.read_csv(parent_dir + '\\\\Data\\\\LMS\\\\Zone data\\\\Stations2018.txt', delimiter='\\t', encoding =\"ISO-8859-1\")"
   ]
  },
  {
   "cell_type": "code",
   "execution_count": null,
   "metadata": {},
   "outputs": [],
   "source": [
    "transit_data = zones[['ZONE_ID']]"
   ]
  },
  {
   "cell_type": "markdown",
   "metadata": {},
   "source": [
    "## Parking fare"
   ]
  },
  {
   "cell_type": "code",
   "execution_count": null,
   "metadata": {},
   "outputs": [],
   "source": [
    "transit_data.loc[:, 'Parking_fare'] = zones.PT_KP"
   ]
  },
  {
   "cell_type": "code",
   "execution_count": null,
   "metadata": {},
   "outputs": [],
   "source": [
    "transit_data"
   ]
  },
  {
   "cell_type": "markdown",
   "metadata": {},
   "source": [
    "## Distance to train station"
   ]
  },
  {
   "cell_type": "markdown",
   "metadata": {},
   "source": [
    "LMS determines many different train stations. We only determine the closest (and maybe closest intercity station?)"
   ]
  },
  {
   "cell_type": "code",
   "execution_count": null,
   "metadata": {},
   "outputs": [],
   "source": [
    "stations"
   ]
  },
  {
   "cell_type": "code",
   "execution_count": null,
   "metadata": {},
   "outputs": [],
   "source": [
    "coord = stations[['StationID', 'Xcoord', 'Ycoord']]\n",
    "coord = coord.set_index('StationID')\n",
    "coord = coord[(coord.Xcoord > 0) & (coord.Ycoord > 0)] # Filter all stations with no coordinates"
   ]
  },
  {
   "cell_type": "code",
   "execution_count": null,
   "metadata": {},
   "outputs": [],
   "source": [
    "points = zones[['XCOORD', 'YCOORD']] # df with all coordinated centroids zone"
   ]
  },
  {
   "cell_type": "code",
   "execution_count": null,
   "metadata": {},
   "outputs": [],
   "source": [
    "A = np.array(coord) # Make array from station coordinates"
   ]
  },
  {
   "cell_type": "code",
   "execution_count": null,
   "metadata": {},
   "outputs": [],
   "source": [
    "p = np.array(points) # Make array from all zone centroid coordinates\n"
   ]
  },
  {
   "cell_type": "code",
   "execution_count": null,
   "metadata": {},
   "outputs": [],
   "source": [
    "dist, index = spatial.KDTree(A).query(p) # Calculate closest station for each point"
   ]
  },
  {
   "cell_type": "code",
   "execution_count": null,
   "metadata": {},
   "outputs": [],
   "source": [
    "closest_station = stations.iloc[index]\n",
    "closest_station = closest_station.reset_index()"
   ]
  },
  {
   "cell_type": "code",
   "execution_count": null,
   "metadata": {},
   "outputs": [],
   "source": [
    "closest_station.loc[:, 'ZONE_ID'] = transit_data.ZONE_ID\n",
    "closest_station.loc[:, 'Distance'] = np.round(dist / 1000, 2)"
   ]
  },
  {
   "cell_type": "code",
   "execution_count": null,
   "metadata": {},
   "outputs": [],
   "source": [
    "closest_station # Dataframe matching each LMS zone with the closest train station."
   ]
  },
  {
   "cell_type": "code",
   "execution_count": null,
   "metadata": {},
   "outputs": [],
   "source": [
    "zones['Distance_TS'] = dist / 1000"
   ]
  },
  {
   "cell_type": "code",
   "execution_count": null,
   "metadata": {},
   "outputs": [],
   "source": [
    "f, ax = plt.subplots(1, 1)\n",
    "f.set_figwidth(13)\n",
    "f.set_figheight(6)\n",
    "\n",
    "cmap = cm.get_cmap('YlOrRd')\n",
    "\n",
    "zones.plot(ax=ax, column='Distance_TS', cmap=cmap,\n",
    "         legend=True, legend_kwds={\"label\": \"Distance to closest train station [km]\"})\n",
    "\n",
    "ax.set_xticks([])\n",
    "ax.set_yticks([])\n",
    "ax.set_facecolor('lightskyblue')\n",
    "ax.set_title('Distance to closest train station');"
   ]
  },
  {
   "cell_type": "markdown",
   "metadata": {},
   "source": [
    "Now do the same for intercity stations"
   ]
  },
  {
   "cell_type": "code",
   "execution_count": null,
   "metadata": {},
   "outputs": [],
   "source": [
    "ic_stations = stations[(stations.AMICFrequency > 0) | (stations.PMICFrequency > 0) | (stations.OPICFrequency > 0)]"
   ]
  },
  {
   "cell_type": "code",
   "execution_count": null,
   "metadata": {},
   "outputs": [],
   "source": [
    "ic_coord = ic_stations[['StationID', 'Xcoord', 'Ycoord']]\n",
    "ic_coord = ic_coord.set_index('StationID')\n",
    "ic_coord = ic_coord[(ic_coord.Xcoord > 0) & (ic_coord.Ycoord > 0)] # Filter all stations with no coordinates"
   ]
  },
  {
   "cell_type": "code",
   "execution_count": null,
   "metadata": {},
   "outputs": [],
   "source": [
    "A_ic = np.array(ic_coord) # Make array from station coordinates"
   ]
  },
  {
   "cell_type": "code",
   "execution_count": null,
   "metadata": {},
   "outputs": [],
   "source": [
    "ic_dist, ic_index = spatial.KDTree(A_ic).query(p) # Calculate closest station for each point"
   ]
  },
  {
   "cell_type": "code",
   "execution_count": null,
   "metadata": {},
   "outputs": [],
   "source": [
    "ic_closest_station = ic_stations.iloc[ic_index]\n",
    "ic_closest_station = ic_closest_station.reset_index()"
   ]
  },
  {
   "cell_type": "code",
   "execution_count": null,
   "metadata": {},
   "outputs": [],
   "source": [
    "ic_closest_station.loc[:, 'ZONE_ID'] = transit_data.ZONE_ID\n",
    "ic_closest_station.loc[:, 'Distance'] = np.round(ic_dist / 1000, 2)"
   ]
  },
  {
   "cell_type": "code",
   "execution_count": null,
   "metadata": {},
   "outputs": [],
   "source": [
    "zones['Distance_TS_ic'] = ic_dist / 1000"
   ]
  },
  {
   "cell_type": "code",
   "execution_count": null,
   "metadata": {},
   "outputs": [],
   "source": [
    "f, ax = plt.subplots(1, 1)\n",
    "f.set_figwidth(13)\n",
    "f.set_figheight(6)\n",
    "\n",
    "cmap = cm.get_cmap('YlOrRd')\n",
    "\n",
    "zones.plot(ax=ax, column='Distance_TS_ic', cmap=cmap,\n",
    "         legend=True, legend_kwds={\"label\": \"Distance to closest intercity train station [km]\"})\n",
    "\n",
    "ax.set_xticks([])\n",
    "ax.set_yticks([])\n",
    "ax.set_facecolor('lightskyblue')\n",
    "ax.set_title('Distance to closest intercity train station');"
   ]
  },
  {
   "cell_type": "code",
   "execution_count": null,
   "metadata": {},
   "outputs": [],
   "source": [
    "transit_data.loc[:, 'Distance_station'] = np.round(dist / 1000, 2)\n",
    "transit_data.loc[:, 'Distance_ic_station'] = np.round(ic_dist / 1000, 2)"
   ]
  },
  {
   "cell_type": "code",
   "execution_count": null,
   "metadata": {},
   "outputs": [],
   "source": [
    "transit_data"
   ]
  },
  {
   "cell_type": "markdown",
   "metadata": {},
   "source": [
    "## Frequency of trains"
   ]
  },
  {
   "cell_type": "code",
   "execution_count": null,
   "metadata": {},
   "outputs": [],
   "source": [
    "freq = closest_station[['AMTotalFrequency', 'OPTotalFrequency', 'PMTotalFrequency']].mean(axis=1)\n",
    "freq"
   ]
  },
  {
   "cell_type": "code",
   "execution_count": null,
   "metadata": {},
   "outputs": [],
   "source": [
    "ic_freq = ic_closest_station[['AMTotalFrequency', 'OPTotalFrequency', 'PMTotalFrequency']].mean(axis=1)\n",
    "ic_freq"
   ]
  },
  {
   "cell_type": "code",
   "execution_count": null,
   "metadata": {},
   "outputs": [],
   "source": [
    "transit_data.loc[:, 'Freq_station'] = np.round(freq, 1)\n",
    "transit_data.loc[:, 'Freq_ic_station'] = np.round(ic_freq, 1)"
   ]
  },
  {
   "cell_type": "code",
   "execution_count": null,
   "metadata": {},
   "outputs": [],
   "source": [
    "transit_data"
   ]
  },
  {
   "cell_type": "markdown",
   "metadata": {},
   "source": [
    "## Other Public transport stops"
   ]
  },
  {
   "cell_type": "code",
   "execution_count": null,
   "metadata": {},
   "outputs": [],
   "source": [
    "set(ov.modaliteit)"
   ]
  },
  {
   "cell_type": "code",
   "execution_count": null,
   "metadata": {},
   "outputs": [],
   "source": [
    "ov = ov[ov.modaliteit.isin(['Bus', 'Metro', 'Tram'])]"
   ]
  },
  {
   "cell_type": "code",
   "execution_count": null,
   "metadata": {},
   "outputs": [],
   "source": [
    "ov = ov.to_crs('EPSG:28992') # Get to right coordinate system"
   ]
  },
  {
   "cell_type": "code",
   "execution_count": null,
   "metadata": {},
   "outputs": [],
   "source": [
    "ov.head()"
   ]
  },
  {
   "cell_type": "code",
   "execution_count": null,
   "metadata": {},
   "outputs": [],
   "source": [
    "ov = ov[~ov.duplicated(subset=['stop_name', 'modaliteit'])] ## Remove duplicated"
   ]
  },
  {
   "cell_type": "code",
   "execution_count": null,
   "metadata": {},
   "outputs": [],
   "source": [
    "len(ov)"
   ]
  },
  {
   "cell_type": "code",
   "execution_count": null,
   "metadata": {},
   "outputs": [],
   "source": [
    "ov"
   ]
  },
  {
   "cell_type": "code",
   "execution_count": null,
   "metadata": {},
   "outputs": [],
   "source": [
    "ov_arr = np.vstack([ov.geometry.x, ov.geometry.y]).T"
   ]
  },
  {
   "cell_type": "code",
   "execution_count": null,
   "metadata": {},
   "outputs": [],
   "source": [
    "ov.plot(markersize=0.1)"
   ]
  },
  {
   "cell_type": "markdown",
   "metadata": {},
   "source": [
    "To get a better idea of the closest pt stops, calculate the 6 nearest stops, as long as they are within 5 km.\n",
    "(6 because often stops come in sets of 2)"
   ]
  },
  {
   "cell_type": "code",
   "execution_count": null,
   "metadata": {},
   "outputs": [],
   "source": [
    "dist_ov, index_ov = spatial.KDTree(ov_arr).query(p, k=1000, distance_upper_bound=2500) # Calculate 5 closest btm stop for each point\n",
    "\n",
    "\n",
    "index_ov[dist_ov > 2500] = -1\n",
    "dist_ov[dist_ov > 2500] = np.nan\n",
    "# dist_ov = np.mean(dist_ov, axis=1) # Calculate mean of 6 nearest stops"
   ]
  },
  {
   "cell_type": "code",
   "execution_count": null,
   "metadata": {},
   "outputs": [],
   "source": [
    "index_ov"
   ]
  },
  {
   "cell_type": "code",
   "execution_count": null,
   "metadata": {},
   "outputs": [],
   "source": [
    "btm_stops = np.sum(index_ov > -1, axis=1)"
   ]
  },
  {
   "cell_type": "code",
   "execution_count": null,
   "metadata": {},
   "outputs": [],
   "source": [
    "btm_stops"
   ]
  },
  {
   "cell_type": "markdown",
   "metadata": {},
   "source": [
    "Now do the same for bus, tram and metro individually"
   ]
  },
  {
   "cell_type": "code",
   "execution_count": null,
   "metadata": {},
   "outputs": [],
   "source": [
    "bus = ov[ov.modaliteit == 'Bus']\n",
    "bus_arr = np.vstack([bus.geometry.x, bus.geometry.y]).T\n",
    "dist_bus, index_bus = spatial.KDTree(bus_arr).query(p, k=1000, distance_upper_bound=2500) # Calculate closest bus stop for each point\n",
    "\n",
    "\n",
    "\n",
    "\n",
    "index_bus[dist_bus > 5000] = -1\n",
    "dist_bus[dist_bus > 5000] = np.nan\n",
    "# dist_bus = np.mean(dist_bus, axis=1) # Calculate mean of 6 nearest stops\n",
    "bus_stops = np.sum(index_bus > -1, axis=1)"
   ]
  },
  {
   "cell_type": "code",
   "execution_count": null,
   "metadata": {},
   "outputs": [],
   "source": [
    "metro = ov[ov.modaliteit == 'Metro']\n",
    "metro_arr = np.vstack([metro.geometry.x, metro.geometry.y]).T\n",
    "dist_metro, index_metro = spatial.KDTree(metro_arr).query(p, k=1000, distance_upper_bound=2500) # Calculate closest bus stop for each point\n",
    "\n",
    "index_metro[dist_metro > 2500] = -1\n",
    "dist_metro[dist_metro > 2500] = np.nan\n",
    "# dist_metro = np.mean(dist_metro, axis=1) # Calculate mean of 6 nearest stops\n",
    "\n",
    "metro_stops = np.sum(index_metro > -1, axis=1)"
   ]
  },
  {
   "cell_type": "code",
   "execution_count": null,
   "metadata": {},
   "outputs": [],
   "source": [
    "tram = ov[ov.modaliteit == 'Tram']\n",
    "tram_arr = np.vstack([tram.geometry.x, tram.geometry.y]).T\n",
    "dist_tram, index_tram = spatial.KDTree(tram_arr).query(p, k=1000, distance_upper_bound=2500) # Calculate closest bus stop for each point\n",
    "\n",
    "index_tram[dist_tram > 5000] = -1\n",
    "dist_tram[dist_tram > 5000] = np.nan\n",
    "# dist_tram = np.mean(dist_tram, axis=1) # Calculate mean of 6 nearest stops\n",
    "\n",
    "tram_stops = np.sum(index_tram > -1, axis=1)"
   ]
  },
  {
   "cell_type": "code",
   "execution_count": null,
   "metadata": {},
   "outputs": [],
   "source": [
    "# zones['OV_dist'] = dist_ov / 1000\n",
    "# zones['Bus_dist'] = dist_bus / 1000\n",
    "# zones['Metro_dist'] = dist_metro / 1000\n",
    "# zones['Tram_dist'] = dist_tram / 1000"
   ]
  },
  {
   "cell_type": "code",
   "execution_count": null,
   "metadata": {},
   "outputs": [],
   "source": [
    "zones['OV_stops'] = btm_stops\n",
    "zones['Bus_stops'] = bus_stops\n",
    "zones['Metro_stops'] = metro_stops\n",
    "zones['Tram_stops'] = tram_stops"
   ]
  },
  {
   "cell_type": "code",
   "execution_count": null,
   "metadata": {},
   "outputs": [],
   "source": [
    "zones"
   ]
  },
  {
   "cell_type": "markdown",
   "metadata": {},
   "source": [
    "Let's say, all distances to metro and tram farther than 5 km, is set to nan. Because when you are very far away, it shouldn't matter if you're 50 km from a metro stop or 100 km. Both are not reachable"
   ]
  },
  {
   "cell_type": "code",
   "execution_count": null,
   "metadata": {},
   "outputs": [],
   "source": [
    "# index_metro[dist_metro > 5000] = -1\n",
    "# index_tram[dist_tram > 5000] = -1\n",
    "\n",
    "# dist_metro[dist_metro > 5000] = np.nan\n",
    "# dist_tram[dist_tram > 5000] = np.nan"
   ]
  },
  {
   "cell_type": "code",
   "execution_count": null,
   "metadata": {},
   "outputs": [],
   "source": [
    "# zones['Metro_dist'] = dist_metro / 1000\n",
    "# zones['Tram_dist'] = dist_tram / 1000"
   ]
  },
  {
   "cell_type": "code",
   "execution_count": null,
   "metadata": {},
   "outputs": [],
   "source": [
    "f, ax = plt.subplots(1, 1)\n",
    "f.set_figwidth(13)\n",
    "f.set_figheight(6)\n",
    "\n",
    "cmap = cm.get_cmap('YlOrRd')\n",
    "\n",
    "zones.plot(ax=ax, column='OV_stops', cmap=cmap,\n",
    "         legend=True, legend_kwds={\"label\": \"Distance to ov stop [km]\"})\n",
    "\n",
    "ax.set_xticks([])\n",
    "ax.set_yticks([])\n",
    "ax.set_facecolor('lightskyblue')\n",
    "ax.set_title('Distance to closest ov stop');"
   ]
  },
  {
   "cell_type": "markdown",
   "metadata": {},
   "source": [
    "Add values to dataframe"
   ]
  },
  {
   "cell_type": "code",
   "execution_count": null,
   "metadata": {},
   "outputs": [],
   "source": [
    "transit_data.loc[:, 'Distance_btm'] = np.round(dist_ov / 1000, 2)\n",
    "transit_data.loc[:, 'Distance_bus'] = np.round(dist_bus / 1000, 2)\n",
    "transit_data.loc[:, 'Distance_metro'] = np.round(dist_metro / 1000, 2)\n",
    "transit_data.loc[:, 'Distance_tram'] = np.round(dist_tram / 1000, 2)"
   ]
  },
  {
   "cell_type": "code",
   "execution_count": null,
   "metadata": {},
   "outputs": [],
   "source": []
  },
  {
   "cell_type": "code",
   "execution_count": null,
   "metadata": {},
   "outputs": [],
   "source": [
    "transit_data"
   ]
  },
  {
   "cell_type": "markdown",
   "metadata": {},
   "source": [
    "## Quality OV stops"
   ]
  },
  {
   "cell_type": "markdown",
   "metadata": {},
   "source": [
    "We are going to count the number of different lines of the nearest stop for each zone. The more different lines, the better the connection with the rest of the network."
   ]
  },
  {
   "cell_type": "code",
   "execution_count": null,
   "metadata": {},
   "outputs": [],
   "source": [
    "ov_lines = np.zeros((4, 1406))\n",
    "ov_df = [ov, bus, metro, tram]\n",
    "indices = [index_ov, index_bus, index_metro, index_tram]\n",
    "\n",
    "\n",
    "for z in range(1, 1407):\n",
    "    \n",
    "    for i in range(4):\n",
    "        index = indices[i][z - 1]\n",
    "        index = index[index >= 0] # Take only the valid indices\n",
    "\n",
    "        str_arr = np.array(ov_df[i].iloc[index].lijnen)\n",
    "        str_arr = str_arr.astype(str)\n",
    "        count = np.char.count(str_arr, sub='Bus') + np.char.count(str_arr, sub='Metro') + np.char.count(str_arr, sub='tram')\n",
    "\n",
    "        if len(count) > 0:\n",
    "            ov_lines[i, z - 1] = np.mean(count)\n",
    "        else:\n",
    "            ov_lines[i, z - 1] = np.nan\n",
    "\n",
    "\n",
    "    "
   ]
  },
  {
   "cell_type": "code",
   "execution_count": null,
   "metadata": {},
   "outputs": [],
   "source": [
    "transit_data.loc[:, 'Btm_lines'] = np.round(ov_lines[0], 2)\n",
    "transit_data.loc[:, 'Bus_lines'] = np.round(ov_lines[1], 2)\n",
    "transit_data.loc[:, 'Metro_lines'] = np.round(ov_lines[2], 2)\n",
    "transit_data.loc[:, 'Tram_lines'] = np.round(ov_lines[3], 2)\n"
   ]
  },
  {
   "cell_type": "code",
   "execution_count": null,
   "metadata": {},
   "outputs": [],
   "source": [
    "transit_data.loc[:, 'btm_stops'] = btm_stops\n",
    "transit_data.loc[:, 'Bus_stops'] = bus_stops\n",
    "transit_data.loc[:, 'Metro_stops'] = metro_stops\n",
    "transit_data.loc[:, 'Tram_stops'] = tram_stops"
   ]
  },
  {
   "cell_type": "code",
   "execution_count": null,
   "metadata": {},
   "outputs": [],
   "source": [
    "transit_data"
   ]
  },
  {
   "cell_type": "markdown",
   "metadata": {},
   "source": [
    "## Save to csv"
   ]
  },
  {
   "cell_type": "code",
   "execution_count": null,
   "metadata": {},
   "outputs": [],
   "source": [
    "# transit_data.to_csv(parent_dir + '\\\\Data\\\\New\\\\lms_zone_transit.csv')"
   ]
  },
  {
   "cell_type": "code",
   "execution_count": null,
   "metadata": {},
   "outputs": [],
   "source": [
    "new_transit_data = pd.read_csv(parent_dir + '\\\\Data\\\\New\\\\lms_zone_transit.csv', index_col=0)"
   ]
  },
  {
   "cell_type": "code",
   "execution_count": null,
   "metadata": {},
   "outputs": [],
   "source": [
    "new_transit_data = new_transit_data.iloc[:, 1:].copy()"
   ]
  },
  {
   "cell_type": "code",
   "execution_count": null,
   "metadata": {},
   "outputs": [],
   "source": [
    "new_transit_data.loc[:, 'btm_stops'] = btm_stops\n",
    "new_transit_data.loc[:, 'Bus_stops'] = bus_stops\n",
    "new_transit_data.loc[:, 'Metro_stops'] = metro_stops\n",
    "new_transit_data.loc[:, 'Tram_stops'] = tram_stops"
   ]
  },
  {
   "cell_type": "code",
   "execution_count": null,
   "metadata": {},
   "outputs": [],
   "source": [
    "new_transit_data"
   ]
  },
  {
   "cell_type": "code",
   "execution_count": null,
   "metadata": {},
   "outputs": [],
   "source": [
    "new_transit_data.to_csv(parent_dir + '\\\\Data\\\\New\\\\lms_zone_transit.csv')"
   ]
  },
  {
   "cell_type": "code",
   "execution_count": null,
   "metadata": {},
   "outputs": [],
   "source": []
  }
 ],
 "metadata": {
  "kernelspec": {
   "display_name": "geospatial",
   "language": "python",
   "name": "geospatial"
  },
  "language_info": {
   "codemirror_mode": {
    "name": "ipython",
    "version": 3
   },
   "file_extension": ".py",
   "mimetype": "text/x-python",
   "name": "python",
   "nbconvert_exporter": "python",
   "pygments_lexer": "ipython3",
   "version": "3.9.18"
  }
 },
 "nbformat": 4,
 "nbformat_minor": 2
}
