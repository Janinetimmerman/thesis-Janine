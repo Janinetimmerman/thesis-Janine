{
 "cells": [
  {
   "cell_type": "code",
   "execution_count": null,
   "metadata": {},
   "outputs": [],
   "source": [
    "import pandas as pd\n",
    "import geopandas as gpd\n",
    "import numpy as np\n",
    "import matplotlib.pyplot as plt\n",
    "from pylab import cm\n",
    "import os\n",
    "from scipy.spatial.distance import pdist, squareform\n",
    "\n",
    "%matplotlib inline"
   ]
  },
  {
   "cell_type": "code",
   "execution_count": null,
   "metadata": {},
   "outputs": [],
   "source": [
    "parent_dir = os.path.split(os.getcwd())[0]"
   ]
  },
  {
   "cell_type": "code",
   "execution_count": null,
   "metadata": {},
   "outputs": [],
   "source": [
    "zones = gpd.read_file(parent_dir + '\\\\Data\\\\New\\\\lms_zone_du_new.shp') # LMS Zone data"
   ]
  },
  {
   "cell_type": "code",
   "execution_count": null,
   "metadata": {},
   "outputs": [],
   "source": [
    "road = gpd.read_file(parent_dir + '\\\\Data\\\\Weg\\\\Wegvakken.shp')"
   ]
  },
  {
   "cell_type": "code",
   "execution_count": null,
   "metadata": {},
   "outputs": [],
   "source": [
    "road_width = pd.read_csv(parent_dir + '\\\\Data\\\\Weg\\\\wkd_005-wegbreedte.csv', delimiter=';')"
   ]
  },
  {
   "cell_type": "code",
   "execution_count": null,
   "metadata": {},
   "outputs": [],
   "source": [
    "park_vlak = pd.read_csv(parent_dir + '\\\\Data\\\\Weg\\\\wkd_006-parkvlak.csv', delimiter=';')\n",
    "park_punt = pd.read_csv(parent_dir + '\\\\Data\\\\Weg\\\\Parkeerpunten.csv', delimiter=';')"
   ]
  },
  {
   "cell_type": "code",
   "execution_count": null,
   "metadata": {},
   "outputs": [],
   "source": [
    "weg_cat = pd.read_csv(parent_dir + '\\\\Data\\\\Weg\\\\wegcategorisering.csv', delimiter=';')"
   ]
  },
  {
   "cell_type": "code",
   "execution_count": null,
   "metadata": {},
   "outputs": [],
   "source": [
    "# road22 = gpd.read_file(parent_dir + '\\\\Data\\\\Weg\\\\Wegvakken22.shp')"
   ]
  },
  {
   "cell_type": "code",
   "execution_count": null,
   "metadata": {},
   "outputs": [],
   "source": [
    "design_data = zones[['ZONE_ID']]"
   ]
  },
  {
   "cell_type": "markdown",
   "metadata": {},
   "source": [
    "## Assign roads to LMS zones"
   ]
  },
  {
   "cell_type": "code",
   "execution_count": null,
   "metadata": {},
   "outputs": [],
   "source": [
    "f, ax = plt.subplots(1, 1)\n",
    "f.set_figwidth(12)\n",
    "\n",
    "road.plot(ax=ax)\n",
    "zones.plot(ax=ax, edgecolor='red', facecolor='None')\n",
    "\n",
    "\n",
    "ax.set_xlim(70000, 90000)\n",
    "ax.set_ylim(430000, 450000)\n",
    "ax.set_xticks([], [])\n",
    "ax.set_yticks([], [])\n",
    "              \n"
   ]
  },
  {
   "cell_type": "code",
   "execution_count": null,
   "metadata": {},
   "outputs": [],
   "source": [
    "zones.crs ='EPSG:28992'"
   ]
  },
  {
   "cell_type": "markdown",
   "metadata": {},
   "source": [
    "First, assign each road section to the closest LMS zone."
   ]
  },
  {
   "cell_type": "code",
   "execution_count": null,
   "metadata": {},
   "outputs": [],
   "source": [
    "zone_road = zones.sjoin_nearest(road, how='right', max_distance=100)"
   ]
  },
  {
   "cell_type": "code",
   "execution_count": null,
   "metadata": {},
   "outputs": [],
   "source": [
    "zone_road.head()"
   ]
  },
  {
   "cell_type": "markdown",
   "metadata": {},
   "source": [
    "Now do some checks to see if the roads are assigned logically."
   ]
  },
  {
   "cell_type": "code",
   "execution_count": null,
   "metadata": {},
   "outputs": [],
   "source": [
    "x = 1144 ## Choose LMS zone"
   ]
  },
  {
   "cell_type": "code",
   "execution_count": null,
   "metadata": {},
   "outputs": [],
   "source": [
    "wvk_id = zone_road[zone_road.ZONE_ID == x].WVK_ID"
   ]
  },
  {
   "cell_type": "code",
   "execution_count": null,
   "metadata": {},
   "outputs": [],
   "source": [
    "f, ax = plt.subplots(1, 1)\n",
    "\n",
    "zones[zones.ZONE_ID == x].plot(ax=ax, edgecolor='red', facecolor='none', linewidth=2)\n",
    "\n",
    "for id in wvk_id:\n",
    "    road[road.WVK_ID == id].plot(ax=ax, edgecolor='black')\n",
    "\n",
    "ax.set_xticks([], [])\n",
    "ax.set_yticks([], [])\n",
    "\n",
    "ax.set_title('All road segments belonging to a random LMS zone')"
   ]
  },
  {
   "cell_type": "markdown",
   "metadata": {},
   "source": [
    "## Road network density"
   ]
  },
  {
   "cell_type": "markdown",
   "metadata": {},
   "source": [
    "Looking randomly at zome zones, the match looks pretty good. Now calculate the total length of road for each zone."
   ]
  },
  {
   "cell_type": "code",
   "execution_count": null,
   "metadata": {},
   "outputs": [],
   "source": [
    "road_dens = np.zeros(1406)\n",
    "\n",
    "for z in range(1, 1407):\n",
    "    wvk_id = zone_road[zone_road.ZONE_ID == z].WVK_ID # Get all roads for LMS zone\n",
    "\n",
    "    length = road[road.WVK_ID.isin(wvk_id)].geometry.length.sum() / 1000\n",
    "    road_dens[z - 1] = np.round(length / (zones[zones.ZONE_ID == z].OPP.iloc[0] / 100), 2)\n",
    "    "
   ]
  },
  {
   "cell_type": "code",
   "execution_count": null,
   "metadata": {},
   "outputs": [],
   "source": [
    "road_dens"
   ]
  },
  {
   "cell_type": "code",
   "execution_count": null,
   "metadata": {},
   "outputs": [],
   "source": [
    "design_data.loc[:, 'Road_density'] = road_dens"
   ]
  },
  {
   "cell_type": "code",
   "execution_count": null,
   "metadata": {},
   "outputs": [],
   "source": [
    "design_data"
   ]
  },
  {
   "cell_type": "code",
   "execution_count": null,
   "metadata": {},
   "outputs": [],
   "source": [
    "zones['road_dens'] = road_dens"
   ]
  },
  {
   "cell_type": "code",
   "execution_count": null,
   "metadata": {},
   "outputs": [],
   "source": [
    "f, ax = plt.subplots(1, 1)\n",
    "f.set_figwidth(13)\n",
    "f.set_figheight(6)\n",
    "\n",
    "cmap = cm.get_cmap('YlOrRd')\n",
    "\n",
    "zones.plot(ax=ax, column='road_dens', cmap=cmap, \n",
    "         legend=True, legend_kwds={\"label\": \"Road density [km/km^2]\"})\n",
    "\n",
    "ax.set_xticks([])\n",
    "ax.set_yticks([])\n",
    "ax.set_facecolor('lightskyblue')\n",
    "ax.set_title('Road density');"
   ]
  },
  {
   "cell_type": "markdown",
   "metadata": {},
   "source": [
    "## Road width"
   ]
  },
  {
   "cell_type": "code",
   "execution_count": null,
   "metadata": {},
   "outputs": [],
   "source": [
    "road_width.loc[road_width.BREEDTE == 'onbekend', 'BREEDTE'] = np.nan"
   ]
  },
  {
   "cell_type": "code",
   "execution_count": null,
   "metadata": {},
   "outputs": [],
   "source": [
    "# pc4.loc[:, 'postcode4'] = pc4['postcode4'].astype(int)\n",
    "road_width.loc[:, 'BREEDTE'] = road_width['BREEDTE'].astype(float)"
   ]
  },
  {
   "cell_type": "code",
   "execution_count": null,
   "metadata": {},
   "outputs": [],
   "source": [
    "road_w = np.zeros(1406)\n",
    "\n",
    "for z in range(1, 1407):\n",
    "    wvk_id = zone_road[zone_road.ZONE_ID == z].WVK_ID # Get all roads for LMS zone\n",
    "\n",
    "    w = road_width[road_width.WEGVAK_ID.isin(wvk_id)].BREEDTE\n",
    "    road_w[z - 1] = w.mean()\n",
    "    # length = road[road.WVK_ID.isin(wvk_id)].geometry.length.sum() / 1000\n",
    "    # road_dens[z - 1] = np.round(length / (zones[zones.ZONE_ID == z].OPP.iloc[0] / 100), 2)"
   ]
  },
  {
   "cell_type": "code",
   "execution_count": null,
   "metadata": {},
   "outputs": [],
   "source": [
    "road_w = np.round(road_w, 2)"
   ]
  },
  {
   "cell_type": "code",
   "execution_count": null,
   "metadata": {},
   "outputs": [],
   "source": [
    "zones['road_width'] = road_w"
   ]
  },
  {
   "cell_type": "code",
   "execution_count": null,
   "metadata": {},
   "outputs": [],
   "source": [
    "f, ax = plt.subplots(1, 1)\n",
    "f.set_figwidth(13)\n",
    "f.set_figheight(6)\n",
    "\n",
    "cmap = cm.get_cmap('YlOrRd')\n",
    "\n",
    "zones.plot(ax=ax, column='road_width', cmap=cmap,\n",
    "         legend=True, legend_kwds={\"label\": \"Road width [m]\"})\n",
    "\n",
    "ax.set_xticks([])\n",
    "ax.set_yticks([])\n",
    "ax.set_facecolor('lightskyblue')\n",
    "ax.set_title('Road width');"
   ]
  },
  {
   "cell_type": "code",
   "execution_count": null,
   "metadata": {},
   "outputs": [],
   "source": [
    "design_data.loc[:, 'Road_width'] = road_w"
   ]
  },
  {
   "cell_type": "code",
   "execution_count": null,
   "metadata": {},
   "outputs": [],
   "source": [
    "design_data"
   ]
  },
  {
   "cell_type": "markdown",
   "metadata": {},
   "source": [
    "## Biking"
   ]
  },
  {
   "cell_type": "markdown",
   "metadata": {},
   "source": [
    "#### Get roads from 2022"
   ]
  },
  {
   "cell_type": "markdown",
   "metadata": {},
   "source": [
    "Combine roads with zone data and check if it seems okay"
   ]
  },
  {
   "cell_type": "code",
   "execution_count": null,
   "metadata": {},
   "outputs": [],
   "source": [
    "zone_road22 = zones.sjoin_nearest(road, how='right', max_distance=100)"
   ]
  },
  {
   "cell_type": "code",
   "execution_count": null,
   "metadata": {},
   "outputs": [],
   "source": [
    "x = 888\n",
    "\n",
    "wvk_id = zone_road[zone_road.ZONE_ID == x].WVK_ID"
   ]
  },
  {
   "cell_type": "code",
   "execution_count": null,
   "metadata": {},
   "outputs": [],
   "source": [
    "fl_id = weg_cat[(weg_cat.WEGVAK_ID.isin(wvk_id)) &\n",
    "                    (weg_cat.WEG_CAT.isin(['fietspad', 'voetpad']))].WEGVAK_ID"
   ]
  },
  {
   "cell_type": "code",
   "execution_count": null,
   "metadata": {},
   "outputs": [],
   "source": [
    "f, ax = plt.subplots(1, 1)\n",
    "\n",
    "zones[zones.ZONE_ID == x].plot(ax=ax, edgecolor='green', facecolor='none', linewidth=2)\n",
    "\n",
    "for id in wvk_id:\n",
    "    road[road.WVK_ID == id].plot(ax=ax, edgecolor='black')\n",
    "\n",
    "for id in fl_id:\n",
    "    road[road.WVK_ID == id].plot(ax=ax, edgecolor='red')\n",
    "\n",
    "ax.set_xticks([], [])\n",
    "ax.set_yticks([], [])\n",
    "ax.plot([], [], color='red', label='Bike/pedestian path')\n",
    "ax.plot([], [], color='black', label='Other road segments')\n",
    "\n",
    "ax.legend()\n",
    "\n",
    "ax.set_title('All bike and pedestrian paths of a random LMS zone')\n",
    "    "
   ]
  },
  {
   "cell_type": "code",
   "execution_count": null,
   "metadata": {},
   "outputs": [],
   "source": [
    "road_f = np.zeros(1406)\n",
    "\n",
    "for z in range(1, 1407):\n",
    "    wvk_id = zone_road22[zone_road22.ZONE_ID == z].WVK_ID # Get all roads for LMS zone\n",
    "\n",
    "    fl_id = weg_cat[(weg_cat.WEGVAK_ID.isin(wvk_id)) &\n",
    "                    (weg_cat.WEG_CAT.isin(['fietspad', 'voetpad']))].WEGVAK_ID\n",
    "\n",
    "    length_tot = road22[road22.WVK_ID.isin(wvk_id)].geometry.length.sum()\n",
    "    length_fl = road22[road22.WVK_ID.isin(fl_id)].geometry.length.sum()\n",
    "\n",
    "    road_f[z - 1] = np.round(length_fl / length_tot * 100, 3)\n",
    "    \n",
    "    # if zones[zones.ZONE_ID == z].INWONERS.iloc[0] > 0:\n",
    "    #     road_c[z - 1] = (c / (zones[zones.ZONE_ID == z].INWONERS.iloc[0]))\n",
    "    # else:\n",
    "    #     road_c[z - 1] = np.nan"
   ]
  },
  {
   "cell_type": "code",
   "execution_count": null,
   "metadata": {},
   "outputs": [],
   "source": [
    "length_fl"
   ]
  },
  {
   "cell_type": "code",
   "execution_count": null,
   "metadata": {},
   "outputs": [],
   "source": [
    "road_f"
   ]
  },
  {
   "cell_type": "code",
   "execution_count": null,
   "metadata": {},
   "outputs": [],
   "source": [
    "zones['Bike_perc'] = road_f"
   ]
  },
  {
   "cell_type": "code",
   "execution_count": null,
   "metadata": {},
   "outputs": [],
   "source": [
    "f, ax = plt.subplots(1, 1)\n",
    "f.set_figwidth(13)\n",
    "f.set_figheight(6)\n",
    "\n",
    "cmap = cm.get_cmap('YlOrRd')\n",
    "\n",
    "zones.plot(ax=ax, column='Bike_perc', cmap=cmap, \n",
    "         legend=True, legend_kwds={\"label\": \"Percentage of bike/pedestrian paths\"})\n",
    "\n",
    "ax.set_xticks([])\n",
    "ax.set_yticks([])\n",
    "ax.set_facecolor('lightskyblue')\n",
    "ax.set_title('Percentage road that is for bike/pedestrian');"
   ]
  },
  {
   "cell_type": "code",
   "execution_count": null,
   "metadata": {},
   "outputs": [],
   "source": [
    "f, ax = plt.subplots(1, 1)\n",
    "f.set_figwidth(13)\n",
    "f.set_figheight(6)\n",
    "\n",
    "cmap = cm.get_cmap('YlOrRd')\n",
    "\n",
    "zones.plot(ax=ax, column='Bike_perc', cmap=cmap, vmax=15,\n",
    "         legend=True, legend_kwds={\"label\": \"Percentage of bike/pedestrian paths\"})\n",
    "\n",
    "ax.set_xticks([])\n",
    "ax.set_yticks([])\n",
    "ax.set_facecolor('lightskyblue')\n",
    "ax.set_title('Percentage road that is for bike/pedestrian (capped at 15%)');"
   ]
  },
  {
   "cell_type": "code",
   "execution_count": null,
   "metadata": {},
   "outputs": [],
   "source": [
    "set(weg_cat.WEG_CAT)"
   ]
  },
  {
   "cell_type": "code",
   "execution_count": null,
   "metadata": {},
   "outputs": [],
   "source": [
    "design_data.loc[:, 'Bike_walk_percentage'] = road_f"
   ]
  },
  {
   "cell_type": "markdown",
   "metadata": {},
   "source": [
    "## Parking"
   ]
  },
  {
   "cell_type": "code",
   "execution_count": null,
   "metadata": {},
   "outputs": [],
   "source": [
    "park_vlak"
   ]
  },
  {
   "cell_type": "code",
   "execution_count": null,
   "metadata": {},
   "outputs": [],
   "source": [
    "road_c = np.zeros(1406)\n",
    "\n",
    "for z in range(1, 1407):\n",
    "    wvk_id = zone_road[zone_road.ZONE_ID == z].WVK_ID # Get all roads for LMS zone\n",
    "\n",
    "    c = park_vlak[park_vlak.WEGVAK_ID.isin(wvk_id)].OPPERVLAK.sum()\n",
    "    if zones[zones.ZONE_ID == z].INWONERS.iloc[0] > 0:\n",
    "        road_c[z - 1] = (c / (zones[zones.ZONE_ID == z].INWONERS.iloc[0]))\n",
    "    else:\n",
    "        road_c[z - 1] = np.nan\n",
    "    \n",
    "    # road_w[z - 1] = w.mean()"
   ]
  },
  {
   "cell_type": "code",
   "execution_count": null,
   "metadata": {},
   "outputs": [],
   "source": [
    "road_c"
   ]
  },
  {
   "cell_type": "code",
   "execution_count": null,
   "metadata": {},
   "outputs": [],
   "source": [
    "zones['road_c'] = road_c"
   ]
  },
  {
   "cell_type": "code",
   "execution_count": null,
   "metadata": {},
   "outputs": [],
   "source": [
    "road_c[road_c == 0]"
   ]
  },
  {
   "cell_type": "code",
   "execution_count": null,
   "metadata": {},
   "outputs": [],
   "source": [
    "zones.road_c"
   ]
  },
  {
   "cell_type": "code",
   "execution_count": null,
   "metadata": {},
   "outputs": [],
   "source": [
    "f, ax = plt.subplots(1, 1)\n",
    "f.set_figwidth(13)\n",
    "f.set_figheight(6)\n",
    "\n",
    "cmap = cm.get_cmap('YlOrRd')\n",
    "\n",
    "zones.plot(ax=ax, column='road_c', cmap=cmap, vmax=10,\n",
    "         legend=True, legend_kwds={\"label\": \"Road parking places\"})\n",
    "\n",
    "ax.set_xticks([])\n",
    "ax.set_yticks([])\n",
    "ax.set_facecolor('lightskyblue')\n",
    "ax.set_title('Road parking');"
   ]
  },
  {
   "cell_type": "code",
   "execution_count": null,
   "metadata": {},
   "outputs": [],
   "source": [
    "road_c = np.round(road_c, 2)"
   ]
  },
  {
   "cell_type": "code",
   "execution_count": null,
   "metadata": {},
   "outputs": [],
   "source": [
    "road_c[road_c > 40] = np.nan"
   ]
  },
  {
   "cell_type": "code",
   "execution_count": null,
   "metadata": {},
   "outputs": [],
   "source": [
    "plt.hist(road_c)"
   ]
  },
  {
   "cell_type": "code",
   "execution_count": null,
   "metadata": {},
   "outputs": [],
   "source": [
    "design_data.loc[:, 'Road_parking'] = road_c"
   ]
  },
  {
   "cell_type": "code",
   "execution_count": null,
   "metadata": {},
   "outputs": [],
   "source": [
    "design_data"
   ]
  },
  {
   "cell_type": "markdown",
   "metadata": {},
   "source": [
    "## Save to csv"
   ]
  },
  {
   "cell_type": "code",
   "execution_count": null,
   "metadata": {},
   "outputs": [],
   "source": [
    "design_data.to_csv(parent_dir + '\\\\Data\\\\New\\\\lms_zone_design.csv')"
   ]
  },
  {
   "cell_type": "code",
   "execution_count": null,
   "metadata": {},
   "outputs": [],
   "source": []
  }
 ],
 "metadata": {
  "kernelspec": {
   "display_name": "geospatial",
   "language": "python",
   "name": "geospatial"
  },
  "language_info": {
   "codemirror_mode": {
    "name": "ipython",
    "version": 3
   },
   "file_extension": ".py",
   "mimetype": "text/x-python",
   "name": "python",
   "nbconvert_exporter": "python",
   "pygments_lexer": "ipython3",
   "version": "3.9.18"
  }
 },
 "nbformat": 4,
 "nbformat_minor": 2
}
