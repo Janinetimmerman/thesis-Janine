{
 "cells": [
  {
   "cell_type": "code",
   "execution_count": null,
   "metadata": {},
   "outputs": [],
   "source": [
    "import pandas as pd\n",
    "import geopandas as gpd\n",
    "import numpy as np\n",
    "import os\n",
    "from scipy.spatial.distance import pdist, squareform\n",
    "\n",
    "%matplotlib inline"
   ]
  },
  {
   "cell_type": "code",
   "execution_count": null,
   "metadata": {},
   "outputs": [],
   "source": [
    "parent_dir = os.path.split(os.getcwd())[0]"
   ]
  },
  {
   "cell_type": "code",
   "execution_count": null,
   "metadata": {},
   "outputs": [],
   "source": [
    "zones = gpd.read_file(parent_dir + '\\\\Data\\\\New\\\\lms_zone_du_new.shp') # LMS Zone data"
   ]
  },
  {
   "cell_type": "code",
   "execution_count": null,
   "metadata": {},
   "outputs": [],
   "source": [
    "density_data = zones[['ZONE_ID']]"
   ]
  },
  {
   "cell_type": "markdown",
   "metadata": {},
   "source": [
    "Determine all the neccesary density variables and gather them in one dataframe. The population density and degree of urbanisation have already been determined before."
   ]
  },
  {
   "cell_type": "code",
   "execution_count": null,
   "metadata": {},
   "outputs": [],
   "source": [
    "density_data.loc[:, 'Pop_dens'] = np.round(zones.Pop_dens, 2) # people / ha\n",
    "density_data.loc[:, 'Surrounding_pop_dens'] = np.round(zones.pop_dens_s, 2)\n",
    "density_data.loc[:, 'DU'] = np.round(zones.deg_urba, 2)\n",
    "\n",
    "density_data.loc[:, 'Job_dens'] = np.round(zones.BANENTOT / zones.OPP, 2) # jobs / ha"
   ]
  },
  {
   "cell_type": "code",
   "execution_count": null,
   "metadata": {},
   "outputs": [],
   "source": [
    "density_data"
   ]
  },
  {
   "cell_type": "markdown",
   "metadata": {},
   "source": [
    "Now determine the job density"
   ]
  },
  {
   "cell_type": "code",
   "execution_count": null,
   "metadata": {},
   "outputs": [],
   "source": [
    "def job_dens_sur(gdf):\n",
    "    \"\"\"\n",
    "    Determine the degree of urbanisation of the LMS zones\n",
    "    \"\"\"\n",
    "\n",
    "    points = zones[['XCOORD', 'YCOORD']] # df with all coordinated centroids zone\n",
    "    \n",
    "    # Distances between all points\n",
    "    distances = pd.DataFrame(squareform(pdist(points)), columns=points.index, index=points.index) \n",
    "\n",
    "    # All neigbour zones within a distance of 3 km\n",
    "    close_zones = distances[(distances <= 3000) & (distances != 0)]\n",
    "\n",
    "    # Create new columns\n",
    "    gdf['Surrounding_job_dens'] = np.zeros((len(gdf)))\n",
    "\n",
    "\n",
    "    # Get population density surrounding zones\n",
    "    for i in close_zones.index:\n",
    "        zone_list = close_zones.loc[i]\n",
    "\n",
    "        index_list = list(map(tuple, np.argwhere(~np.isnan(zone_list.values))))\n",
    "\n",
    "        sur_area = zones.loc[i]['OPP']\n",
    "        sur_job = zones.loc[i]['BANENTOT']\n",
    "        \n",
    "        for j in range(len(index_list)):\n",
    "            zone_id = index_list[j][0]\n",
    "\n",
    "            sur_area += zones.loc[zone_id]['OPP']\n",
    "            sur_job += zones.loc[zone_id]['BANENTOT']\n",
    "        \n",
    "        gdf.loc[i, 'Surrounding_job_dens'] = np.round(sur_job / sur_area, 2)\n",
    "    \n",
    "    return gdf"
   ]
  },
  {
   "cell_type": "code",
   "execution_count": null,
   "metadata": {},
   "outputs": [],
   "source": [
    "density_data = job_dens_sur(density_data)"
   ]
  },
  {
   "cell_type": "code",
   "execution_count": null,
   "metadata": {},
   "outputs": [],
   "source": [
    "density_data"
   ]
  },
  {
   "cell_type": "markdown",
   "metadata": {},
   "source": [
    "## Save to csv"
   ]
  },
  {
   "cell_type": "code",
   "execution_count": null,
   "metadata": {},
   "outputs": [],
   "source": [
    "density_data.to_csv(parent_dir + '\\\\Data\\\\New\\\\lms_zone_density.csv')"
   ]
  }
 ],
 "metadata": {
  "kernelspec": {
   "display_name": "geospatial",
   "language": "python",
   "name": "geospatial"
  },
  "language_info": {
   "codemirror_mode": {
    "name": "ipython",
    "version": 3
   },
   "file_extension": ".py",
   "mimetype": "text/x-python",
   "name": "python",
   "nbconvert_exporter": "python",
   "pygments_lexer": "ipython3",
   "version": "3.9.18"
  }
 },
 "nbformat": 4,
 "nbformat_minor": 2
}
