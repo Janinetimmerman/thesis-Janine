{
 "cells": [
  {
   "cell_type": "code",
   "execution_count": null,
   "metadata": {},
   "outputs": [],
   "source": [
    "import pandas as pd\n",
    "import geopandas as gpd\n",
    "import numpy as np\n",
    "import matplotlib.pyplot as plt\n",
    "from pylab import cm\n",
    "import os\n",
    "\n",
    "%matplotlib inline"
   ]
  },
  {
   "cell_type": "code",
   "execution_count": null,
   "metadata": {},
   "outputs": [],
   "source": [
    "parent_dir = os.path.split(os.getcwd())[0]"
   ]
  },
  {
   "cell_type": "code",
   "execution_count": null,
   "metadata": {},
   "outputs": [],
   "source": [
    "landuse = pd.read_csv(parent_dir + '\\\\Data\\\\New\\\\landuse_lms.csv')\n",
    "landuse_orig = pd.read_csv(parent_dir + '\\\\Data\\\\Wijk buurt\\\\85217NED_UntypedDataSet_28032024_162743.csv', delimiter=';')"
   ]
  },
  {
   "cell_type": "code",
   "execution_count": null,
   "metadata": {},
   "outputs": [],
   "source": [
    "zones = gpd.read_file(parent_dir + '\\\\Data\\\\New\\\\lms_zone_du_new.shp')"
   ]
  },
  {
   "cell_type": "code",
   "execution_count": null,
   "metadata": {},
   "outputs": [],
   "source": [
    "landuse_area = pd.read_csv(parent_dir + '\\\\Data\\\\New\\\\landuse_lms_area.csv')\n"
   ]
  },
  {
   "cell_type": "markdown",
   "metadata": {},
   "source": [
    "Get some number on total land-use to see if it is significant"
   ]
  },
  {
   "cell_type": "code",
   "execution_count": null,
   "metadata": {},
   "outputs": [],
   "source": [
    "nl_tot = landuse_orig.iloc[0]\n",
    "tot_area = nl_tot.TotaleOppervlakte_4\n",
    "landuse_orig.iloc[0:1].columns"
   ]
  },
  {
   "cell_type": "code",
   "execution_count": null,
   "metadata": {},
   "outputs": [],
   "source": [
    "residential = nl_tot.Woonterrein_10\n",
    "print(f'Tot area: {residential}, ratio: {residential / tot_area * 100:.2f}%')"
   ]
  },
  {
   "cell_type": "code",
   "execution_count": null,
   "metadata": {},
   "outputs": [],
   "source": [
    "services = nl_tot.TerreinVoorDetailhandelEnHoreca_11 + nl_tot.TerreinVoorOpenbareVoorzieningen_12 + nl_tot.TerreinVoorSociaalCultureleVoorz_13\n",
    "print(f'Tot area: {services}, ratio: {services / tot_area * 100:.2f}%')"
   ]
  },
  {
   "cell_type": "code",
   "execution_count": null,
   "metadata": {},
   "outputs": [],
   "source": [
    "industrial = nl_tot.Bedrijventerrein_14 + nl_tot.TotaalSemiBebouwdTerrein_15 - nl_tot.Begraafplaats_18\n",
    "print(f'Tot area: {industrial}, ratio: {industrial / tot_area * 100:.2f}%')"
   ]
  },
  {
   "cell_type": "code",
   "execution_count": null,
   "metadata": {},
   "outputs": [],
   "source": [
    "recr_green_water = (nl_tot.TotaalRecreatieterrein_22 + nl_tot.TotaalBosEnOpenNatuurlijkTerrein_31 \n",
    "                    + nl_tot.TotaalBinnenwater_35 + nl_tot.TotaalBuitenwater_45 + nl_tot.Begraafplaats_18)\n",
    "print(f'Tot area: {recr_green_water}, ratio: {recr_green_water / tot_area * 100:.2f}%')                                                           "
   ]
  },
  {
   "cell_type": "code",
   "execution_count": null,
   "metadata": {},
   "outputs": [],
   "source": [
    "argiculture = nl_tot.TotaalAgrarischTerrein_28\n",
    "print(f'Tot area: {argiculture}, ratio: {argiculture / tot_area * 100:.2f}%')    "
   ]
  },
  {
   "cell_type": "code",
   "execution_count": null,
   "metadata": {},
   "outputs": [],
   "source": [
    "infra = nl_tot.TotaalVerkeersterrein_5\n",
    "print(f'Tot area: {infra}, ratio: {infra / tot_area * 100:.2f}%')    \n"
   ]
  },
  {
   "cell_type": "code",
   "execution_count": null,
   "metadata": {},
   "outputs": [],
   "source": [
    "residential + services + industrial + recr_green_water + argiculture + infra"
   ]
  },
  {
   "cell_type": "code",
   "execution_count": null,
   "metadata": {},
   "outputs": [],
   "source": [
    "landuse['Residential'] = landuse.Woonterrein_10\n",
    "landuse['Services'] = (landuse.TerreinVoorDetailhandelEnHoreca_11 \n",
    "                       + landuse.TerreinVoorOpenbareVoorzieningen_12 \n",
    "                       + landuse.TerreinVoorSociaalCultureleVoorz_13)\n",
    "landuse['Industrial'] = landuse.Bedrijventerrein_14 + landuse.TotaalSemiBebouwdTerrein_15 - landuse.Begraafplaats_18\n",
    "landuse['Nature'] = (landuse.TotaalRecreatieterrein_22 + landuse.TotaalBosEnOpenNatuurlijkTerrein_31 \n",
    "                    + landuse.TotaalBinnenwater_35 + landuse.TotaalBuitenwater_45 + landuse.Begraafplaats_18)\n",
    "landuse['Agricultural'] = landuse.TotaalAgrarischTerrein_28\n",
    "landuse['Infra'] = landuse.TotaalVerkeersterrein_5"
   ]
  },
  {
   "cell_type": "code",
   "execution_count": null,
   "metadata": {},
   "outputs": [],
   "source": [
    "landuse['Residential_area'] = landuse_area.Woonterrein_10\n",
    "landuse['Services_area'] = (landuse_area.TerreinVoorDetailhandelEnHoreca_11 \n",
    "                       + landuse_area.TerreinVoorOpenbareVoorzieningen_12 \n",
    "                       + landuse_area.TerreinVoorSociaalCultureleVoorz_13)\n",
    "landuse['Industrial_area'] = landuse_area.Bedrijventerrein_14 + landuse_area.TotaalSemiBebouwdTerrein_15 - landuse_area.Begraafplaats_18\n",
    "landuse['Nature_area'] = (landuse_area.TotaalRecreatieterrein_22 + landuse_area.TotaalBosEnOpenNatuurlijkTerrein_31 \n",
    "                    + landuse_area.TotaalBinnenwater_35 + landuse_area.TotaalBuitenwater_45 + landuse_area.Begraafplaats_18)\n",
    "landuse['Agricultural_area'] = landuse_area.TotaalAgrarischTerrein_28\n",
    "landuse['Infra_area'] = landuse_area.TotaalVerkeersterrein_5"
   ]
  },
  {
   "cell_type": "code",
   "execution_count": null,
   "metadata": {},
   "outputs": [],
   "source": [
    "tot_area_arr = np.array([residential, services, industrial, recr_green_water, argiculture, infra]) / tot_area"
   ]
  },
  {
   "cell_type": "code",
   "execution_count": null,
   "metadata": {},
   "outputs": [],
   "source": [
    "landuse"
   ]
  },
  {
   "cell_type": "code",
   "execution_count": null,
   "metadata": {},
   "outputs": [],
   "source": [
    "labels = ['Residential', 'Services', 'Industrial',\n",
    "          'Nature', 'Agricultural', 'Infra']"
   ]
  },
  {
   "cell_type": "code",
   "execution_count": null,
   "metadata": {},
   "outputs": [],
   "source": [
    "e = np.zeros(len(landuse))\n",
    "s = np.zeros(len(landuse))\n",
    "\n",
    "for i in range(6):\n",
    "    e_j = np.round((landuse[labels[i]] * np.log(landuse[labels[i]])) / np.log(6), 3)\n",
    "    e_j[e_j != e_j] = 0\n",
    "    e -= e_j\n",
    "\n",
    "    nsi_j = landuse[labels[i] + '_area'] / landuse[labels[i] + '_area'].sum()\n",
    "    landuse[labels[i] + '_nsi'] = nsi_j\n",
    "\n",
    "    s += np.abs(landuse[labels[i]] - tot_area_arr[i])\n",
    "\n",
    "landuse['Entropy'] = e"
   ]
  },
  {
   "cell_type": "code",
   "execution_count": null,
   "metadata": {},
   "outputs": [],
   "source": [
    "landuse['Special'] = np.round(s * 0.5, 3)"
   ]
  },
  {
   "cell_type": "code",
   "execution_count": null,
   "metadata": {},
   "outputs": [],
   "source": [
    "landuse[labels[5] + '_area'].sum()"
   ]
  },
  {
   "cell_type": "code",
   "execution_count": null,
   "metadata": {},
   "outputs": [],
   "source": [
    "landuse"
   ]
  },
  {
   "cell_type": "markdown",
   "metadata": {},
   "source": [
    "## Make some plots to observe indices"
   ]
  },
  {
   "cell_type": "code",
   "execution_count": null,
   "metadata": {},
   "outputs": [],
   "source": [
    "zone_landuse = zones.merge(landuse, on='ZONE_ID')"
   ]
  },
  {
   "cell_type": "markdown",
   "metadata": {},
   "source": [
    "Entropy"
   ]
  },
  {
   "cell_type": "code",
   "execution_count": null,
   "metadata": {},
   "outputs": [],
   "source": [
    "f, ax = plt.subplots(1, 2)\n",
    "f.set_figwidth(13)\n",
    "f.set_figheight(6)\n",
    "\n",
    "cmap = cm.get_cmap('OrRd')\n",
    "# cmap_cbs = cm.get_cmap('YlOrRd_r', 5)\n",
    "\n",
    "zone_landuse.plot(ax=ax[0], column='Entropy', cmap=cmap, vmax=1, vmin=0,\n",
    "         legend=True, legend_kwds={\"label\": \"Entropy measure\"})\n",
    "\n",
    "zone_landuse.plot(ax=ax[1], column='Special', legend=True, cmap=cmap,\n",
    "         legend_kwds={\"label\": \"National specialisation index\"})\n",
    "\n",
    "ax[0].set_title('Entropy measure')\n",
    "ax[1].set_title('National specialisation index')\n",
    "\n",
    "ax[0].set_facecolor('lightskyblue')\n",
    "ax[1].set_facecolor('lightskyblue')"
   ]
  },
  {
   "cell_type": "code",
   "execution_count": null,
   "metadata": {},
   "outputs": [],
   "source": [
    "landuse_index = landuse[['ZONE_ID', 'Residential', 'Services', 'Industrial', 'Nature',\n",
    "       'Agricultural', 'Infra', 'Entropy', 'Special']]\n",
    "\n",
    "landuse_index"
   ]
  },
  {
   "cell_type": "markdown",
   "metadata": {},
   "source": [
    "## Save to csv"
   ]
  },
  {
   "cell_type": "code",
   "execution_count": null,
   "metadata": {},
   "outputs": [],
   "source": [
    "landuse_index.to_csv(parent_dir + '\\\\Data\\\\New\\\\lms_diversity_lu.csv')"
   ]
  }
 ],
 "metadata": {
  "kernelspec": {
   "display_name": "geospatial",
   "language": "python",
   "name": "geospatial"
  },
  "language_info": {
   "codemirror_mode": {
    "name": "ipython",
    "version": 3
   },
   "file_extension": ".py",
   "mimetype": "text/x-python",
   "name": "python",
   "nbconvert_exporter": "python",
   "pygments_lexer": "ipython3",
   "version": "3.9.18"
  }
 },
 "nbformat": 4,
 "nbformat_minor": 2
}
