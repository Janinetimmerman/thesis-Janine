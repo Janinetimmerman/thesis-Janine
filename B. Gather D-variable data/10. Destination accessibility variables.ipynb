{
 "cells": [
  {
   "cell_type": "code",
   "execution_count": null,
   "metadata": {},
   "outputs": [],
   "source": [
    "import pandas as pd\n",
    "import geopandas as gpd\n",
    "import numpy as np\n",
    "import matplotlib.pyplot as plt\n",
    "from pylab import cm\n",
    "import os\n",
    "from scipy.spatial.distance import pdist, squareform\n",
    "\n",
    "\n",
    "%matplotlib inline"
   ]
  },
  {
   "cell_type": "code",
   "execution_count": null,
   "metadata": {},
   "outputs": [],
   "source": [
    "parent_dir = os.path.split(os.getcwd())[0]"
   ]
  },
  {
   "cell_type": "code",
   "execution_count": null,
   "metadata": {},
   "outputs": [],
   "source": [
    "zones = gpd.read_file(parent_dir + '\\\\Data\\\\New\\\\lms_zone_du_new.shp') # LMS Zone data\n",
    "dens = pd.read_csv((parent_dir + '\\\\Data\\\\New\\\\lms_zone_density.csv'), index_col=0)"
   ]
  },
  {
   "cell_type": "code",
   "execution_count": null,
   "metadata": {},
   "outputs": [],
   "source": [
    "pc4 = gpd.read_file(parent_dir + '\\Data\\PC4 2022\\cbs_pc4_2019_vol.gpkg') # PC4 data"
   ]
  },
  {
   "cell_type": "code",
   "execution_count": null,
   "metadata": {},
   "outputs": [],
   "source": [
    "lms_pc4_match = pd.read_csv(parent_dir + '\\\\Data\\\\New\\\\lms_pc4_match_v2.csv') # df matching PC4 with LMS zones"
   ]
  },
  {
   "cell_type": "code",
   "execution_count": null,
   "metadata": {},
   "outputs": [],
   "source": [
    "pc4.loc[:, 'postcode4'] = pc4['postcode4'].astype(int)\n",
    "pc4_numeric = pc4.select_dtypes(include=['int16', 'int32', 'int64', 'float16', 'float32', 'float64'])\n",
    "pc4[pc4_numeric < 0] = np.nan"
   ]
  },
  {
   "cell_type": "code",
   "execution_count": null,
   "metadata": {},
   "outputs": [],
   "source": [
    "dest_data = zones[['ZONE_ID']]"
   ]
  },
  {
   "cell_type": "markdown",
   "metadata": {},
   "source": [
    "## Distance to city centre - determine the centre locations"
   ]
  },
  {
   "cell_type": "code",
   "execution_count": null,
   "metadata": {},
   "outputs": [],
   "source": [
    "zones['double_dens'] = dens.Job_dens + dens.Pop_dens"
   ]
  },
  {
   "cell_type": "code",
   "execution_count": null,
   "metadata": {},
   "outputs": [],
   "source": [
    "f, ax = plt.subplots(1, 1)\n",
    "f.set_figwidth(13)\n",
    "f.set_figheight(6)\n",
    "\n",
    "cmap = cm.get_cmap('YlOrRd')\n",
    "\n",
    "zones.plot(ax=ax, column='double_dens', cmap=cmap, vmax=30,\n",
    "         legend=True, legend_kwds={\"label\": \"Job and population density [jobs + people/ ha]\"})\n",
    "\n",
    "ax.set_xticks([])\n",
    "ax.set_yticks([])\n",
    "ax.set_facecolor('lightskyblue')\n",
    "ax.set_title('Job and population density; capped at 30 jobs + people / ha');"
   ]
  },
  {
   "cell_type": "code",
   "execution_count": null,
   "metadata": {},
   "outputs": [],
   "source": [
    "zones['Dens30plus'] = 0\n",
    "zones['Dens30plust'] = 0\n"
   ]
  },
  {
   "cell_type": "code",
   "execution_count": null,
   "metadata": {},
   "outputs": [],
   "source": [
    "zones.loc[zones.double_dens >= 20, 'Dens30plus'] = 1\n",
    "zones.loc[zones.double_dens >= 20, 'Dens30plust'] = 1"
   ]
  },
  {
   "cell_type": "code",
   "execution_count": null,
   "metadata": {},
   "outputs": [],
   "source": [
    "f, ax = plt.subplots(1, 1)\n",
    "f.set_figwidth(13)\n",
    "f.set_figheight(6)\n",
    "\n",
    "cmap = cm.get_cmap('YlOrRd')\n",
    "\n",
    "zones.plot(ax=ax, column='Dens30plus', cmap=cmap,\n",
    "         legend=True, legend_kwds={\"label\": \"Center zones\"})\n",
    "\n",
    "ax.set_facecolor('lightskyblue')\n",
    "ax.set_title('Zones marked with combined density >= 20')\n",
    "ax.set_xticks([])\n",
    "ax.set_yticks([])"
   ]
  },
  {
   "cell_type": "markdown",
   "metadata": {},
   "source": [
    "There has to be some distance between city centres. Perhaps only select one zone per municipality?"
   ]
  },
  {
   "cell_type": "code",
   "execution_count": null,
   "metadata": {},
   "outputs": [],
   "source": [
    "for gem in set(zones.GEM_NAAM):\n",
    "    high_dens_zones = zones[(zones.GEM_NAAM == gem) & (zones.Dens30plus == 1)]\n",
    "    \n",
    "    if len(high_dens_zones) > 0:\n",
    "        max_val = high_dens_zones.double_dens.max()\n",
    "        zones.loc[(zones.GEM_NAAM == gem) & (zones.double_dens < max_val), 'Dens30plus'] = 0\n",
    "    \n",
    "    # break"
   ]
  },
  {
   "cell_type": "code",
   "execution_count": null,
   "metadata": {},
   "outputs": [],
   "source": [
    "f, ax = plt.subplots(1, 1)\n",
    "f.set_figwidth(13)\n",
    "f.set_figheight(6)\n",
    "\n",
    "cmap = cm.get_cmap('YlOrRd')\n",
    "\n",
    "zones.plot(ax=ax, column='Dens30plus', cmap=cmap,\n",
    "         legend=True, legend_kwds={\"label\": \"Center zones\"})\n",
    "\n",
    "ax.set_facecolor('lightskyblue')\n",
    "ax.set_title('City center zones (max 1 per municipality)')\n",
    "ax.set_xticks([])\n",
    "ax.set_yticks([])"
   ]
  },
  {
   "cell_type": "markdown",
   "metadata": {},
   "source": [
    "With this definition and zones with more than 20 units/ ha, the center zones are not too big, only one is bigger than 2000 ha"
   ]
  },
  {
   "cell_type": "code",
   "execution_count": null,
   "metadata": {},
   "outputs": [],
   "source": [
    "zones[(zones.Dens30plus == 1) & (zones.OPP > 2000)]"
   ]
  },
  {
   "cell_type": "markdown",
   "metadata": {},
   "source": [
    "In total there are 131 center zones."
   ]
  },
  {
   "cell_type": "code",
   "execution_count": null,
   "metadata": {},
   "outputs": [],
   "source": [
    "len(zones[(zones.Dens30plus == 1)])"
   ]
  },
  {
   "cell_type": "markdown",
   "metadata": {},
   "source": [
    "## Calculate distance to city centre"
   ]
  },
  {
   "cell_type": "markdown",
   "metadata": {},
   "source": [
    "Set index as lms zone to make the following calculations more clear"
   ]
  },
  {
   "cell_type": "code",
   "execution_count": null,
   "metadata": {},
   "outputs": [],
   "source": [
    "# zones_id = zones.set_index(zones['ZONE_ID']).copy()"
   ]
  },
  {
   "cell_type": "code",
   "execution_count": null,
   "metadata": {},
   "outputs": [],
   "source": [
    "points = zones[['XCOORD', 'YCOORD']] # df with all coordinated centroids zone\n",
    "    \n",
    "# Distances between all points\n",
    "distances = pd.DataFrame(squareform(pdist(points)), columns=points.index, index=points.index) \n",
    "\n",
    "# Get distances to all center zones\n",
    "distances = distances[zones.Dens30plus == 1]\n",
    "\n",
    "# # All neigbour zones within a distance of 3 km\n",
    "# close_zones = distances[(distances <= 3000) & (distances != 0)]"
   ]
  },
  {
   "cell_type": "code",
   "execution_count": null,
   "metadata": {},
   "outputs": [],
   "source": [
    "distances"
   ]
  },
  {
   "cell_type": "code",
   "execution_count": null,
   "metadata": {},
   "outputs": [],
   "source": [
    "dist_to_center = distances.min()"
   ]
  },
  {
   "cell_type": "code",
   "execution_count": null,
   "metadata": {},
   "outputs": [],
   "source": [
    "dist_to_center = np.round(dist_to_center / 1000, 2)"
   ]
  },
  {
   "cell_type": "code",
   "execution_count": null,
   "metadata": {},
   "outputs": [],
   "source": [
    "dist_to_center"
   ]
  },
  {
   "cell_type": "code",
   "execution_count": null,
   "metadata": {},
   "outputs": [],
   "source": [
    "dest_data.loc[:, 'Dist_to_center'] = dist_to_center"
   ]
  },
  {
   "cell_type": "code",
   "execution_count": null,
   "metadata": {},
   "outputs": [],
   "source": [
    "dest_data"
   ]
  },
  {
   "cell_type": "code",
   "execution_count": null,
   "metadata": {},
   "outputs": [],
   "source": [
    "zones['Dist_center'] = dist_to_center"
   ]
  },
  {
   "cell_type": "code",
   "execution_count": null,
   "metadata": {},
   "outputs": [],
   "source": [
    "f, ax = plt.subplots(1, 1)\n",
    "f.set_figwidth(13)\n",
    "f.set_figheight(6)\n",
    "\n",
    "cmap = cm.get_cmap('YlOrRd')\n",
    "\n",
    "zones.plot(ax=ax, column='Dist_center', cmap=cmap, vmax=30,\n",
    "         legend=True, legend_kwds={\"label\": \"Distance to city centre [km]\"})\n",
    "\n",
    "ax.set_xticks([])\n",
    "ax.set_yticks([])\n",
    "ax.set_facecolor('lightskyblue')\n",
    "ax.set_title('Distance to a city centre');"
   ]
  },
  {
   "cell_type": "code",
   "execution_count": null,
   "metadata": {},
   "outputs": [],
   "source": [
    "f, ax = plt.subplots(2, 2)\n",
    "\n",
    "f.set_figwidth(13)\n",
    "f.set_figheight(13)\n",
    "\n",
    "cmap = cm.get_cmap('YlOrRd')\n",
    "\n",
    "zones.plot(ax=ax[0, 0], column='double_dens', cmap=cmap, vmax=30,\n",
    "         legend=True, legend_kwds={\"label\": \"Job and population density [jobs + people/ ha]\"})\n",
    "\n",
    "zones.plot(ax=ax[0, 1], column='Dens30plust', cmap=cmap,\n",
    "         legend=True, legend_kwds={\"label\": \"Center zones\"})\n",
    "\n",
    "zones.plot(ax=ax[1, 0], column='Dens30plus', cmap=cmap,\n",
    "         legend=True, legend_kwds={\"label\": \"Center zones\"})\n",
    "\n",
    "zones.plot(ax=ax[1, 1], column='Dist_center', cmap=cmap, vmax=30,\n",
    "         legend=True, legend_kwds={\"label\": \"Distance to city centre [km]\"})\n",
    "\n",
    "for i in range(2):\n",
    "    for j in range(2):\n",
    "        ax[i, j].set_xticks([])\n",
    "        ax[i, j].set_yticks([])\n",
    "        ax[i, j].set_facecolor('lightskyblue')\n",
    "\n",
    "\n",
    "ax[0, 0].set_title('a. Combined density (capped at 30 units/ha)')\n",
    "ax[0, 1].set_title('b. All zones with density >= 20 units/ha')\n",
    "ax[1, 0].set_title('c. All selected centre zones')\n",
    "ax[1, 1].set_title('d. Distance to city centre')\n",
    "\n"
   ]
  },
  {
   "cell_type": "markdown",
   "metadata": {},
   "source": [
    "## Average distance to points of interest"
   ]
  },
  {
   "cell_type": "code",
   "execution_count": null,
   "metadata": {},
   "outputs": [],
   "source": [
    "food = pc4.iloc[:, np.r_[0:2, 40, 52, 56, 64]]\n",
    "commercial = pc4.iloc[:, np.r_[0:2, 44, 48]]\n",
    "health = pc4.iloc[:, np.r_[0:2, 118, 122, 130, 131]]\n",
    "recreation = pc4.iloc[:, np.r_[0:2, 80, 84, 88, 92, 96, 97, 98, 101]]\n",
    "education = pc4.iloc[:, np.r_[0:2, 102, 106, 110, 68, 72]]\n",
    "\n",
    "PoI = [food, commercial, health, recreation, education]\n"
   ]
  },
  {
   "cell_type": "code",
   "execution_count": null,
   "metadata": {},
   "outputs": [],
   "source": [
    "PoI_arr = np.zeros((5, 1406))\n",
    "\n",
    "\n",
    "\n",
    "for z in range(1, 1407):\n",
    "\n",
    "    for c in range(5):\n",
    "        # Select all postal codes belonging to the LMS zone\n",
    "        postal_codes = lms_pc4_match[lms_pc4_match.LMS == z].PC4\n",
    "        x = PoI[c][PoI[c].postcode4.isin(postal_codes)]\n",
    "\n",
    "        # Calculate the mean distance for all points of interest in the category\n",
    "        a = x.iloc[:, 2:].mean(axis=1)\n",
    "\n",
    "        # Determine the weighted average for all zones\n",
    "        # [~a.isnull()] is included to make sure that possible nan values in the distances\n",
    "        # are handled correctly\n",
    "        if x.iloc[:, 1][~a.isnull()].sum() > 0: # Check if not 0 or null inhabitants\n",
    "            PoI_arr[c, z - 1] = (a[~a.isnull()] * x.iloc[:, 1][~a.isnull()]).sum() / x.iloc[:, 1][~a.isnull()].sum()\n",
    "        \n",
    "        else:\n",
    "            PoI_arr[c, z - 1] = np.nan\n"
   ]
  },
  {
   "cell_type": "code",
   "execution_count": null,
   "metadata": {},
   "outputs": [],
   "source": [
    "PoI_arr = np.round(PoI_arr, 2)"
   ]
  },
  {
   "cell_type": "code",
   "execution_count": null,
   "metadata": {},
   "outputs": [],
   "source": [
    "PoI_arr"
   ]
  },
  {
   "cell_type": "code",
   "execution_count": null,
   "metadata": {},
   "outputs": [],
   "source": [
    "dest_data.loc[:, 'Dist_food'] = PoI_arr[0]\n",
    "dest_data.loc[:, 'Dist_commercial'] = PoI_arr[1]\n",
    "dest_data.loc[:, 'Dist_health'] = PoI_arr[2]\n",
    "dest_data.loc[:, 'Dist_recreation'] = PoI_arr[3]\n",
    "dest_data.loc[:, 'Dist_education'] = PoI_arr[4]\n"
   ]
  },
  {
   "cell_type": "code",
   "execution_count": null,
   "metadata": {},
   "outputs": [],
   "source": [
    "dest_data.loc[:, 'Dist_point_of_interest'] = np.round(np.nanmean(PoI_arr, axis=0), 2)"
   ]
  },
  {
   "cell_type": "code",
   "execution_count": null,
   "metadata": {},
   "outputs": [],
   "source": [
    "dest_data"
   ]
  },
  {
   "cell_type": "code",
   "execution_count": null,
   "metadata": {},
   "outputs": [],
   "source": [
    "zones['Dist_PoI'] = np.round(np.nanmean(PoI_arr, axis=0), 2)\n",
    "zones.loc[:, 'Dist_food'] = PoI_arr[0]\n",
    "zones.loc[:, 'Dist_commercial'] = PoI_arr[1]\n",
    "zones.loc[:, 'Dist_health'] = PoI_arr[2]\n",
    "zones.loc[:, 'Dist_recreation'] = PoI_arr[3]\n",
    "zones.loc[:, 'Dist_education'] = PoI_arr[4]"
   ]
  },
  {
   "cell_type": "code",
   "execution_count": null,
   "metadata": {},
   "outputs": [],
   "source": [
    "f, ax = plt.subplots(1, 1)\n",
    "f.set_figwidth(13)\n",
    "f.set_figheight(6)\n",
    "\n",
    "cmap = cm.get_cmap('YlOrRd')\n",
    "\n",
    "zones.plot(ax=ax, column='Dist_PoI', cmap=cmap,\n",
    "         legend=True, legend_kwds={\"label\": \"Average distance to points of interest [km]\"})\n",
    "\n",
    "ax.set_xticks([])\n",
    "ax.set_yticks([])\n",
    "ax.set_facecolor('lightskyblue')\n",
    "ax.set_title('Distance to points of interest');"
   ]
  },
  {
   "cell_type": "markdown",
   "metadata": {},
   "source": [
    "## Save to csv"
   ]
  },
  {
   "cell_type": "code",
   "execution_count": null,
   "metadata": {},
   "outputs": [],
   "source": [
    "dest_data.to_csv(parent_dir + '\\\\Data\\\\New\\\\lms_zone_dest_access.csv')"
   ]
  },
  {
   "cell_type": "code",
   "execution_count": null,
   "metadata": {},
   "outputs": [],
   "source": [
    "pd.read_csv(parent_dir + '\\\\Data\\\\New\\\\lms_zone_dest_access.csv')"
   ]
  },
  {
   "cell_type": "code",
   "execution_count": null,
   "metadata": {},
   "outputs": [],
   "source": []
  }
 ],
 "metadata": {
  "kernelspec": {
   "display_name": "geospatial",
   "language": "python",
   "name": "geospatial"
  },
  "language_info": {
   "codemirror_mode": {
    "name": "ipython",
    "version": 3
   },
   "file_extension": ".py",
   "mimetype": "text/x-python",
   "name": "python",
   "nbconvert_exporter": "python",
   "pygments_lexer": "ipython3",
   "version": "3.9.18"
  }
 },
 "nbformat": 4,
 "nbformat_minor": 2
}
