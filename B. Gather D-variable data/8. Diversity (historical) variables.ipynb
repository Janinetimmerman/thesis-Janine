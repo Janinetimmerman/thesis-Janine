{
 "cells": [
  {
   "cell_type": "code",
   "execution_count": null,
   "metadata": {},
   "outputs": [],
   "source": [
    "import pandas as pd\n",
    "import geopandas as gpd\n",
    "import numpy as np\n",
    "import matplotlib.pyplot as plt\n",
    "import os\n",
    "\n",
    "%matplotlib inline"
   ]
  },
  {
   "cell_type": "code",
   "execution_count": null,
   "metadata": {},
   "outputs": [],
   "source": [
    "parent_dir = os.path.split(os.getcwd())[0]"
   ]
  },
  {
   "cell_type": "code",
   "execution_count": null,
   "metadata": {},
   "outputs": [],
   "source": [
    "zones = gpd.read_file(parent_dir + '\\\\Data\\\\New\\\\lms_zone_du_new.shp') # LMS Zone data\n",
    "pc4 = gpd.read_file(parent_dir + '\\Data\\PC4 2022\\cbs_pc4_2019_vol.gpkg') # PC4 data"
   ]
  },
  {
   "cell_type": "code",
   "execution_count": null,
   "metadata": {},
   "outputs": [],
   "source": [
    "lms_pc4_match = pd.read_csv(parent_dir + '\\\\Data\\\\New\\\\lms_pc4_match_v2.csv') # df matching PC4 with LMS zones"
   ]
  },
  {
   "cell_type": "code",
   "execution_count": null,
   "metadata": {},
   "outputs": [],
   "source": [
    "pc4.loc[:, 'postcode4'] = pc4['postcode4'].astype(int)\n",
    "pc4_numeric = pc4.select_dtypes(include=['int16', 'int32', 'int64', 'float16', 'float32', 'float64'])\n",
    "pc4[pc4_numeric < 0] = np.nan"
   ]
  },
  {
   "cell_type": "code",
   "execution_count": null,
   "metadata": {},
   "outputs": [],
   "source": [
    "hist_data = zones[['ZONE_ID']]"
   ]
  },
  {
   "cell_type": "markdown",
   "metadata": {},
   "source": [
    "## Historical development"
   ]
  },
  {
   "cell_type": "markdown",
   "metadata": {},
   "source": [
    "This notebook will determine some data about the historical development of the city for each zone"
   ]
  },
  {
   "cell_type": "code",
   "execution_count": null,
   "metadata": {},
   "outputs": [],
   "source": [
    "pc4.iloc[:, np.r_[0, 19:28]]"
   ]
  },
  {
   "cell_type": "code",
   "execution_count": null,
   "metadata": {},
   "outputs": [],
   "source": [
    "w45min = np.zeros(1406)\n",
    "w45_75 = np.zeros(1406)\n",
    "w75_05 = np.zeros(1406)\n",
    "w05plus = np.zeros(1406)\n",
    "\n",
    "for z in range(1, 1407):\n",
    "    postal_codes = lms_pc4_match[lms_pc4_match.LMS == z].PC4\n",
    "    x = pc4[pc4.postcode4.isin(postal_codes)].iloc[:, np.r_[0, 19:28]]\n",
    "\n",
    "    tot_won = x['aantal_woningen'].sum()\n",
    "\n",
    "    if tot_won.sum() > 0:\n",
    "\n",
    "        w45min[z - 1] = np.round(x.iloc[:, 2].sum() / tot_won * 100, 2)\n",
    "        w45_75[z - 1] = np.round(x.iloc[:, 3:5].sum().sum() / tot_won * 100, 2)\n",
    "        w75_05[z - 1] = np.round(x.iloc[:, 5:8].sum().sum() / tot_won * 100, 2)\n",
    "        w05plus[z - 1] = np.round(x.iloc[:, 8:10].sum().sum() / tot_won * 100, 2)"
   ]
  },
  {
   "cell_type": "code",
   "execution_count": null,
   "metadata": {},
   "outputs": [],
   "source": [
    "w45min, w45_75, w75_05, w05plus"
   ]
  },
  {
   "cell_type": "code",
   "execution_count": null,
   "metadata": {},
   "outputs": [],
   "source": [
    "hist_data.loc[:, 'House_45_less'] = w45min\n",
    "hist_data.loc[:, 'House_45_75'] = w45_75\n",
    "hist_data.loc[:, 'House_75_05'] = w75_05\n",
    "hist_data.loc[:, 'House_05_more'] = w05plus"
   ]
  },
  {
   "cell_type": "code",
   "execution_count": null,
   "metadata": {},
   "outputs": [],
   "source": [
    "hist_data"
   ]
  },
  {
   "cell_type": "markdown",
   "metadata": {},
   "source": [
    "Because in many cases the data is censored, we need to check if the percentage add up to 100 (or at least get close to)"
   ]
  },
  {
   "cell_type": "code",
   "execution_count": null,
   "metadata": {},
   "outputs": [],
   "source": [
    "tot = w45min + w45_75 + w75_05 + w05plus\n",
    "tot"
   ]
  },
  {
   "cell_type": "code",
   "execution_count": null,
   "metadata": {},
   "outputs": [],
   "source": [
    "plt.hist(tot, bins=50);"
   ]
  },
  {
   "cell_type": "markdown",
   "metadata": {},
   "source": []
  },
  {
   "cell_type": "code",
   "execution_count": null,
   "metadata": {},
   "outputs": [],
   "source": [
    "print('Percentages below 95%:\\n', tot[tot < 95])\n",
    "print('Percentages below 90%:\\n', tot[tot < 90])\n",
    "print('Percentages below 85%:\\n', tot[tot < 85])\n"
   ]
  },
  {
   "cell_type": "code",
   "execution_count": null,
   "metadata": {},
   "outputs": [],
   "source": [
    "len(tot[tot < 95]) / len(tot) * 100"
   ]
  },
  {
   "cell_type": "markdown",
   "metadata": {},
   "source": [
    "When removing all rows with values lower than 95%, only 2% of the data is removed and there are not really unreliable numbers left"
   ]
  },
  {
   "cell_type": "code",
   "execution_count": null,
   "metadata": {},
   "outputs": [],
   "source": [
    "hist_data.iloc[tot < 95, 1:] = np.nan"
   ]
  },
  {
   "cell_type": "code",
   "execution_count": null,
   "metadata": {},
   "outputs": [],
   "source": [
    "hist_data"
   ]
  },
  {
   "cell_type": "markdown",
   "metadata": {},
   "source": [
    "## Job - workers ratio"
   ]
  },
  {
   "cell_type": "markdown",
   "metadata": {},
   "source": [
    "Use working population (so people that do work or want to work) and divide by the number of jobs"
   ]
  },
  {
   "cell_type": "code",
   "execution_count": null,
   "metadata": {},
   "outputs": [],
   "source": [
    "hist_data.loc[:, 'Job-workers ratio'] = np.round((zones.BBV_MAN + zones.BBV_VROUW) / zones.BANENTOT, 3)"
   ]
  },
  {
   "cell_type": "code",
   "execution_count": null,
   "metadata": {},
   "outputs": [],
   "source": [
    "hist_data"
   ]
  },
  {
   "cell_type": "markdown",
   "metadata": {},
   "source": [
    "## Save to csv"
   ]
  },
  {
   "cell_type": "code",
   "execution_count": null,
   "metadata": {},
   "outputs": [],
   "source": [
    "hist_data.to_csv(parent_dir + '\\\\Data\\\\New\\\\lms_zone_historical.csv')"
   ]
  },
  {
   "cell_type": "markdown",
   "metadata": {},
   "source": []
  },
  {
   "cell_type": "code",
   "execution_count": null,
   "metadata": {},
   "outputs": [],
   "source": []
  }
 ],
 "metadata": {
  "kernelspec": {
   "display_name": "geospatial",
   "language": "python",
   "name": "geospatial"
  },
  "language_info": {
   "codemirror_mode": {
    "name": "ipython",
    "version": 3
   },
   "file_extension": ".py",
   "mimetype": "text/x-python",
   "name": "python",
   "nbconvert_exporter": "python",
   "pygments_lexer": "ipython3",
   "version": "3.9.18"
  }
 },
 "nbformat": 4,
 "nbformat_minor": 2
}
