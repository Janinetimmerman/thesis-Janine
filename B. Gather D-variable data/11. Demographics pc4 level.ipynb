{
 "cells": [
  {
   "cell_type": "code",
   "execution_count": null,
   "metadata": {},
   "outputs": [],
   "source": [
    "import pandas as pd\n",
    "import geopandas as gpd\n",
    "import numpy as np\n",
    "import matplotlib.pyplot as plt\n",
    "import os\n",
    "\n",
    "%matplotlib inline"
   ]
  },
  {
   "cell_type": "code",
   "execution_count": null,
   "metadata": {},
   "outputs": [],
   "source": [
    "parent_dir = os.path.split(os.getcwd())[0]"
   ]
  },
  {
   "cell_type": "code",
   "execution_count": null,
   "metadata": {},
   "outputs": [],
   "source": [
    "zones = gpd.read_file(parent_dir + '\\\\Data\\\\New\\\\lms_zone_du_new.shp') # LMS Zone data\n",
    "pc4 = gpd.read_file(parent_dir + '\\Data\\PC4 2022\\cbs_pc4_2019_vol.gpkg') # PC4 data\n",
    "# buurt = gpd.read_file(parent_dir + '\\\\Data\\\\Wijk buurt\\\\WijkBuurtkaart_2017_v3\\\\buurt_2017_v3.shp') # Buurt data\n",
    "\n",
    "\n",
    "\n",
    "lms_pc4_match = pd.read_csv(parent_dir + '\\\\Data\\\\New\\\\lms_pc4_match_v2.csv') # df matching PC4 with LMS zones\n",
    "# lms_buurt_match = gpd.read_file(parent_dir + '\\\\Data\\\\New\\\\buurt_lms_match.shp') # df matching buurt with LMS zones"
   ]
  },
  {
   "cell_type": "code",
   "execution_count": null,
   "metadata": {},
   "outputs": [],
   "source": [
    "rijbewijs = pd.read_excel(parent_dir + '\\\\Data\\\\PC4 2022\\\\auto_atlas_pc4_levering3.xlsx', sheet_name=5, skiprows=8, skipfooter=2)"
   ]
  },
  {
   "cell_type": "code",
   "execution_count": null,
   "metadata": {},
   "outputs": [],
   "source": [
    "rijbewijs = rijbewijs[['Postcode 4 gebied', 'Unnamed: 2']]"
   ]
  },
  {
   "cell_type": "code",
   "execution_count": null,
   "metadata": {},
   "outputs": [],
   "source": [
    "pc4.loc[:, 'postcode4'] = pc4['postcode4'].astype(int)"
   ]
  },
  {
   "cell_type": "markdown",
   "metadata": {},
   "source": [
    "Change all unknown values to NaN"
   ]
  },
  {
   "cell_type": "code",
   "execution_count": null,
   "metadata": {},
   "outputs": [],
   "source": [
    "pc4_numeric = pc4.select_dtypes(include=['int16', 'int32', 'int64', 'float16', 'float32', 'float64'])\n",
    "pc4[pc4_numeric < 0] = np.nan"
   ]
  },
  {
   "cell_type": "markdown",
   "metadata": {},
   "source": [
    "## Create dataframe for results"
   ]
  },
  {
   "cell_type": "code",
   "execution_count": null,
   "metadata": {},
   "outputs": [],
   "source": [
    "zone_data = zones[['ZONE_ID']]"
   ]
  },
  {
   "cell_type": "markdown",
   "metadata": {},
   "source": [
    "## Leeftijd & geslacht"
   ]
  },
  {
   "cell_type": "code",
   "execution_count": null,
   "metadata": {},
   "outputs": [],
   "source": [
    "zone_data.loc[:, 'Tot_population'] = zones.iloc[:, 33]"
   ]
  },
  {
   "cell_type": "code",
   "execution_count": null,
   "metadata": {},
   "outputs": [],
   "source": [
    "ages = zones.iloc[:, 15:34]\n",
    "ages"
   ]
  },
  {
   "cell_type": "code",
   "execution_count": null,
   "metadata": {},
   "outputs": [],
   "source": [
    "labels = ['Age_average', 'Age_0_11', 'Age_12_17', 'Age_18_34', 'Age_35_54', 'Age_55_74', 'Age_75+']\n",
    "mean_age = [2.5, 8.5, 13, 16, 26, 44.5, 59.5, 69.5, 80] # Aanname, 75+ groep is gemiddeld 80"
   ]
  },
  {
   "cell_type": "markdown",
   "metadata": {},
   "source": [
    "Average age"
   ]
  },
  {
   "cell_type": "code",
   "execution_count": null,
   "metadata": {},
   "outputs": [],
   "source": [
    "age_tot = 0\n",
    "\n",
    "for i in range(len(mean_age)):\n",
    "    \n",
    "    age_tot += mean_age[i] * (ages.iloc[:, i] + ages.iloc[:, i + 9])\n",
    "\n",
    "zone_data.loc[:, labels[0]] = np.round(age_tot / zones.iloc[:, 33], 2)"
   ]
  },
  {
   "cell_type": "markdown",
   "metadata": {},
   "source": [
    "Age per category"
   ]
  },
  {
   "cell_type": "code",
   "execution_count": null,
   "metadata": {},
   "outputs": [],
   "source": [
    "index_list = [[0, 1], [2, 3], [4], [5], [6, 7], [8]] \n",
    "\n",
    "for i in range(len(index_list)):\n",
    "\n",
    "    age_group = 0\n",
    "\n",
    "    for j in range(len(index_list[i])):\n",
    "        age_group += ages.iloc[:, index_list[i][j]]\n",
    "        age_group += ages.iloc[:, index_list[i][j] + 9]\n",
    "\n",
    "    zone_data.loc[:, labels[i + 1]] = np.round(age_group / zones.iloc[:, 33] * 100, 2)\n",
    "    \n"
   ]
  },
  {
   "cell_type": "markdown",
   "metadata": {},
   "source": [
    "Gender"
   ]
  },
  {
   "cell_type": "code",
   "execution_count": null,
   "metadata": {},
   "outputs": [],
   "source": [
    "m_tot = ages.iloc[:, 0:9].sum(axis=1)\n",
    "v_tot = ages.iloc[:, 9:18].sum(axis=1)\n",
    "\n",
    "zone_data.loc[:, 'Man'] = np.round(m_tot / zones.iloc[:, 33] * 100, 1)\n",
    "zone_data.loc[:, 'Woman'] = np.round(v_tot / zones.iloc[:, 33] * 100, 1)\n"
   ]
  },
  {
   "cell_type": "code",
   "execution_count": null,
   "metadata": {},
   "outputs": [],
   "source": [
    "zone_data"
   ]
  },
  {
   "cell_type": "markdown",
   "metadata": {},
   "source": [
    "## Income"
   ]
  },
  {
   "cell_type": "code",
   "execution_count": null,
   "metadata": {},
   "outputs": [],
   "source": [
    "zone_data.loc[:, 'Income_hh_average'] =  zones.INK_GEM"
   ]
  },
  {
   "cell_type": "markdown",
   "metadata": {},
   "source": [
    "Ignore zones without the useful data"
   ]
  },
  {
   "cell_type": "code",
   "execution_count": null,
   "metadata": {},
   "outputs": [],
   "source": [
    "high_inc = np.zeros(1406)\n",
    "low_inc = np.zeros(1406)\n",
    "\n",
    "for z in range(1, 1407): # Loop over all LMS zones\n",
    "# for z in [1]:\n",
    "    postal_codes = lms_pc4_match[lms_pc4_match.LMS == z].PC4\n",
    "    x = pc4[pc4.postcode4.isin(postal_codes)][['postcode4', 'aantal_part_huishoudens', \n",
    "                                               'percentage_laag_inkomen_huishouden',\n",
    "                                               'percentage_hoog_inkomen_huishouden']]\n",
    "    \n",
    "    if x['aantal_part_huishoudens'].sum() > 0:\n",
    "\n",
    "        high_inc[z - 1] = ((x['aantal_part_huishoudens'] * x['percentage_hoog_inkomen_huishouden']).sum() \n",
    "                            / x['aantal_part_huishoudens'].sum())\n",
    "        low_inc[z - 1] = ((x['aantal_part_huishoudens'] * x['percentage_laag_inkomen_huishouden']).sum() \n",
    "                            / x['aantal_part_huishoudens'].sum())\n",
    "\n",
    "    else:\n",
    "        high_inc[z - 1] = np.nan\n",
    "        low_inc[z - 1] = np.nan"
   ]
  },
  {
   "cell_type": "code",
   "execution_count": null,
   "metadata": {},
   "outputs": [],
   "source": [
    "zone_data.loc[:, 'High_income'] = np.round(high_inc, 2)\n",
    "zone_data.loc[:, 'Low_income'] = np.round(low_inc, 2)"
   ]
  },
  {
   "cell_type": "code",
   "execution_count": null,
   "metadata": {},
   "outputs": [],
   "source": [
    "zone_data[(zone_data.High_income.isnull()) | (zone_data.Low_income.isnull())]"
   ]
  },
  {
   "cell_type": "code",
   "execution_count": null,
   "metadata": {},
   "outputs": [],
   "source": [
    "len(zone_data[(zone_data.High_income.isnull()) | (zone_data.Low_income.isnull())])"
   ]
  },
  {
   "cell_type": "markdown",
   "metadata": {},
   "source": [
    "So 11 LMS zones have no income data. Most of those do have only a few inhabitants according to the LMS data, except for 3. Their corresponding Pc4 zones have presumably been assigned to nearby zones."
   ]
  },
  {
   "cell_type": "code",
   "execution_count": null,
   "metadata": {},
   "outputs": [],
   "source": [
    "zone_data"
   ]
  },
  {
   "cell_type": "markdown",
   "metadata": {},
   "source": [
    "## Household"
   ]
  },
  {
   "cell_type": "code",
   "execution_count": null,
   "metadata": {},
   "outputs": [],
   "source": [
    "hh_types = np.zeros((5, 1406))\n",
    "\n",
    "\n",
    "for z in range(1, 1407):\n",
    "    postal_codes = lms_pc4_match[lms_pc4_match.LMS == z].PC4\n",
    "    x = pc4[pc4.postcode4.isin(postal_codes)][['postcode4', 'aantal_part_huishoudens', \n",
    "                                               'aantal_eenpersoonshuishoudens',\n",
    "                                               'aantal_meerpersoonshuishoudens_zonder_kind',\n",
    "                                               'aantal_eenouderhuishoudens',\n",
    "                                               'aantal_tweeouderhuishoudens',\n",
    "                                               'gemiddelde_huishoudensgrootte']]\n",
    "    \n",
    "    if x['aantal_part_huishoudens'].sum() > 0:\n",
    "        \n",
    "        for h in range(5):\n",
    "            \n",
    "            if h < 4:\n",
    "                h_percent = x.iloc[:, 2 + h] / x.iloc[:, 1] * 100 # Calculate percentage for household type\n",
    "\n",
    "            else:\n",
    "                h_percent = x.iloc[:, 2 + h] # Average household size (h = 4) is absolute\n",
    "\n",
    "            hh_types[h, z - 1] = (x.iloc[:, 1] * h_percent).sum() / x.iloc[:, 1].sum() # Calculate weighted average\n",
    "    \n",
    "    else:\n",
    "        hh_types[:, z - 1] = np.array([np.nan] * 5)\n",
    "        \n",
    "hh_types = np.round(hh_types, 2)\n",
    "        "
   ]
  },
  {
   "cell_type": "code",
   "execution_count": null,
   "metadata": {},
   "outputs": [],
   "source": [
    "labels =  ['1PersonHousehold', '2+PersonHousehold', '1ParentHousehold', '2ParentHousehold', 'Household_Size']\n",
    "\n",
    "for i in range(5):\n",
    "    zone_data.loc[:, labels[i]] = hh_types[i]"
   ]
  },
  {
   "cell_type": "code",
   "execution_count": null,
   "metadata": {},
   "outputs": [],
   "source": [
    "zone_data"
   ]
  },
  {
   "cell_type": "markdown",
   "metadata": {},
   "source": [
    "## Working population"
   ]
  },
  {
   "cell_type": "markdown",
   "metadata": {},
   "source": [
    "For the working population, there will be differentiated between man and woman. So first determine the total number of man and woman for each zone:"
   ]
  },
  {
   "cell_type": "code",
   "execution_count": null,
   "metadata": {},
   "outputs": [],
   "source": [
    "tot_man = zones.iloc[:, 15:24].sum(axis=1)\n",
    "tot_vrouw = zones.iloc[:, 24:33].sum(axis=1)"
   ]
  },
  {
   "cell_type": "markdown",
   "metadata": {},
   "source": [
    "Total Beroepsbevolking (working people, and people that want to work)"
   ]
  },
  {
   "cell_type": "code",
   "execution_count": null,
   "metadata": {},
   "outputs": [],
   "source": [
    "bbv_woman = np.round(zones.loc[:, 'BBV_VROUW'] / tot_vrouw * 100, 2)\n",
    "bbv_man = np.round(zones.loc[:, 'BBV_MAN'] / tot_man * 100, 2)"
   ]
  },
  {
   "cell_type": "markdown",
   "metadata": {},
   "source": [
    "Part time workers (12-30 h) and Fulltime workers (30+ h)"
   ]
  },
  {
   "cell_type": "code",
   "execution_count": null,
   "metadata": {},
   "outputs": [],
   "source": [
    "pt_woman = np.round(zones.loc[:, 'PT_VROUW'] / zones.loc[:, 'BBV_VROUW'] * 100, 2)\n",
    "pt_man = np.round(zones.loc[:, 'PT_MAN'] / zones.loc[:, 'BBV_MAN'] * 100, 2)\n"
   ]
  },
  {
   "cell_type": "code",
   "execution_count": null,
   "metadata": {},
   "outputs": [],
   "source": [
    "ft_woman = np.round((zones.loc[:, 'WERKZ_V'] - zones.loc[:, 'PT_VROUW']) / zones.loc[:, 'BBV_VROUW'] * 100, 2)\n",
    "ft_man = np.round((zones.loc[:, 'WERKZ_M'] - zones.loc[:, 'PT_MAN']) / zones.loc[:, 'BBV_MAN'] * 100, 2)\n"
   ]
  },
  {
   "cell_type": "code",
   "execution_count": null,
   "metadata": {},
   "outputs": [],
   "source": [
    "zone_data.loc[:, 'Work_Pop_M'] = bbv_man\n",
    "zone_data.loc[:, 'Work_Pop_V'] = bbv_woman\n",
    "\n",
    "zone_data.loc[:, 'PT_M'] = pt_man\n",
    "zone_data.loc[:, 'PT_V'] = pt_woman\n",
    "\n",
    "zone_data.loc[:, 'FT_M'] = ft_man\n",
    "zone_data.loc[:, 'FT_V'] = ft_woman"
   ]
  },
  {
   "cell_type": "code",
   "execution_count": null,
   "metadata": {},
   "outputs": [],
   "source": [
    "zone_data"
   ]
  },
  {
   "cell_type": "markdown",
   "metadata": {},
   "source": [
    "## Car ownership"
   ]
  },
  {
   "cell_type": "code",
   "execution_count": null,
   "metadata": {},
   "outputs": [],
   "source": [
    "zone_data.loc[:, 'Cars_HH'] = np.round(zones.ACT_WAG / zones.HUISH, 2)"
   ]
  },
  {
   "cell_type": "code",
   "execution_count": null,
   "metadata": {},
   "outputs": [],
   "source": [
    "zone_data"
   ]
  },
  {
   "cell_type": "markdown",
   "metadata": {},
   "source": [
    "## Drivers Licence"
   ]
  },
  {
   "cell_type": "markdown",
   "metadata": {},
   "source": [
    "First, correct number of licences, assuming that the 'niet in te delen' licences are evenly distributed over the other postal codes"
   ]
  },
  {
   "cell_type": "code",
   "execution_count": null,
   "metadata": {},
   "outputs": [],
   "source": [
    "p_increase_rb = rijbewijs['Unnamed: 2'].iloc[-1] / rijbewijs['Unnamed: 2'].sum()"
   ]
  },
  {
   "cell_type": "code",
   "execution_count": null,
   "metadata": {},
   "outputs": [],
   "source": [
    "rijbewijs.loc[:, 'Rijbewijs']  = rijbewijs['Unnamed: 2'] * (1 + p_increase_rb)\n",
    "rijbewijs"
   ]
  },
  {
   "cell_type": "code",
   "execution_count": null,
   "metadata": {},
   "outputs": [],
   "source": [
    "rb = np.zeros(1406)\n",
    "\n",
    "for z in range(1, 1407):\n",
    "    postal_codes = lms_pc4_match[lms_pc4_match.LMS == z].PC4\n",
    "\n",
    "    x = pc4[pc4.postcode4.isin(postal_codes)][['postcode4', 'aantal_inwoners']]\n",
    "    x_r = rijbewijs[rijbewijs['Postcode 4 gebied'].isin(postal_codes)]\n",
    "\n",
    "    x_r = x_r.merge(x, left_on='Postcode 4 gebied', right_on='postcode4')\n",
    "    \n",
    "    p_rb = x_r.Rijbewijs / x_r.aantal_inwoners\n",
    "\n",
    "    if x_r.aantal_inwoners.sum() > 0:\n",
    "        rb[z - 1] = np.round((p_rb * x_r.aantal_inwoners).sum() / x_r.aantal_inwoners.sum() * 100, 2)\n",
    "    \n",
    "    else:\n",
    "        rb[z - 1] = np.nan"
   ]
  },
  {
   "cell_type": "code",
   "execution_count": null,
   "metadata": {},
   "outputs": [],
   "source": [
    "plt.hist(rb, bins=50)"
   ]
  },
  {
   "cell_type": "markdown",
   "metadata": {},
   "source": [
    "Filter very high and very low values."
   ]
  },
  {
   "cell_type": "code",
   "execution_count": null,
   "metadata": {},
   "outputs": [],
   "source": [
    "rb[rb > 100] = np.nan"
   ]
  },
  {
   "cell_type": "code",
   "execution_count": null,
   "metadata": {},
   "outputs": [],
   "source": [
    "rb[rb < 20] = np.nan"
   ]
  },
  {
   "cell_type": "code",
   "execution_count": null,
   "metadata": {},
   "outputs": [],
   "source": [
    "plt.hist(rb, bins=50)"
   ]
  },
  {
   "cell_type": "code",
   "execution_count": null,
   "metadata": {},
   "outputs": [],
   "source": [
    "zone_data.loc[:, 'Driver_licence'] = rb"
   ]
  },
  {
   "cell_type": "code",
   "execution_count": null,
   "metadata": {},
   "outputs": [],
   "source": [
    "zone_data"
   ]
  },
  {
   "cell_type": "markdown",
   "metadata": {},
   "source": [
    "## Student OV"
   ]
  },
  {
   "cell_type": "markdown",
   "metadata": {},
   "source": [
    "Do not make a distinction between weekend/week and MBO/HO"
   ]
  },
  {
   "cell_type": "code",
   "execution_count": null,
   "metadata": {},
   "outputs": [],
   "source": [
    "tot_ov = zones[['HOWEEK', 'MBOWEEK', 'HOWKND', 'MBOWKND']].sum(axis=1)\n",
    "p_ov = np.round(tot_ov / zones.INWONERS * 100, 2)"
   ]
  },
  {
   "cell_type": "code",
   "execution_count": null,
   "metadata": {},
   "outputs": [],
   "source": [
    "zone_data.loc[:, 'Student_OV'] = p_ov"
   ]
  },
  {
   "cell_type": "code",
   "execution_count": null,
   "metadata": {},
   "outputs": [],
   "source": [
    "zone_data"
   ]
  },
  {
   "cell_type": "markdown",
   "metadata": {},
   "source": [
    "## Save to csv"
   ]
  },
  {
   "cell_type": "code",
   "execution_count": null,
   "metadata": {},
   "outputs": [],
   "source": [
    "zone_data.to_csv(parent_dir + '\\\\Data\\\\New\\\\zone_demographics.csv')"
   ]
  },
  {
   "cell_type": "code",
   "execution_count": null,
   "metadata": {},
   "outputs": [],
   "source": [
    "pd.read_csv(parent_dir + '\\\\Data\\\\New\\\\zone_demographics.csv', index_col=0)"
   ]
  },
  {
   "cell_type": "code",
   "execution_count": null,
   "metadata": {},
   "outputs": [],
   "source": []
  }
 ],
 "metadata": {
  "kernelspec": {
   "display_name": "geospatial",
   "language": "python",
   "name": "geospatial"
  },
  "language_info": {
   "codemirror_mode": {
    "name": "ipython",
    "version": 3
   },
   "file_extension": ".py",
   "mimetype": "text/x-python",
   "name": "python",
   "nbconvert_exporter": "python",
   "pygments_lexer": "ipython3",
   "version": "3.9.18"
  }
 },
 "nbformat": 4,
 "nbformat_minor": 2
}
