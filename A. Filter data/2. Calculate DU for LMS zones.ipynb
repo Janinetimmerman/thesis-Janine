{
 "cells": [
  {
   "cell_type": "markdown",
   "metadata": {},
   "source": [
    "# Determine degree of urbanisation for the LMS zones"
   ]
  },
  {
   "cell_type": "markdown",
   "metadata": {},
   "source": [
    "Import modules"
   ]
  },
  {
   "cell_type": "code",
   "execution_count": null,
   "metadata": {},
   "outputs": [],
   "source": [
    "import pandas as pd\n",
    "import geopandas as gpd\n",
    "import numpy as np\n",
    "import matplotlib.pyplot as plt\n",
    "from pylab import cm\n",
    "from scipy.spatial.distance import pdist, squareform\n",
    "import os\n",
    "\n",
    "%matplotlib inline"
   ]
  },
  {
   "cell_type": "code",
   "execution_count": null,
   "metadata": {},
   "outputs": [],
   "source": [
    "pd.set_option('display.max_columns', None)"
   ]
  },
  {
   "cell_type": "markdown",
   "metadata": {},
   "source": [
    "Load the data and merge the data"
   ]
  },
  {
   "cell_type": "code",
   "execution_count": null,
   "metadata": {},
   "outputs": [],
   "source": [
    "parent_dir = os.path.split(os.getcwd())[0] # Get parent directory"
   ]
  },
  {
   "cell_type": "code",
   "execution_count": null,
   "metadata": {},
   "outputs": [],
   "source": [
    "lms_zones = gpd.read_file(parent_dir + '\\\\Data\\\\LMS\\\\Zone data\\\\LMS_Zones.shp') # load shapefile lms zones\n",
    "zone_data = pd.read_excel(parent_dir + '\\Data\\LMS\\Zone data\\SEG data _LMS_versie_23_nov_2020.xlsx', \n",
    "                          sheet_name='ZON_18_LMS_versie_23_nov_2020') # load data of the lms zones\n",
    "pc4 = gpd.read_file(parent_dir + '\\Data\\PC4 2022\\cbs_pc4_2019_vol.gpkg') # load PC4 zones according to the CBS"
   ]
  },
  {
   "cell_type": "code",
   "execution_count": null,
   "metadata": {},
   "outputs": [],
   "source": [
    "lms_gdf = lms_zones.merge(zone_data, on='ZONE_ID') # Merge lms zone data and shapefile\n",
    "lms_gdf = lms_gdf.set_index(lms_gdf['ZONE_ID'])"
   ]
  },
  {
   "cell_type": "code",
   "execution_count": null,
   "metadata": {},
   "outputs": [],
   "source": [
    "pc4.geometry.area.mean() / 10 ** 6"
   ]
  },
  {
   "cell_type": "code",
   "execution_count": null,
   "metadata": {},
   "outputs": [],
   "source": []
  },
  {
   "cell_type": "code",
   "execution_count": null,
   "metadata": {},
   "outputs": [],
   "source": [
    "# Keep only the zones in the Netherlands\n",
    "lms_gdf = lms_gdf[lms_gdf.LAND == 1]\n",
    "lms_gdf.plot()"
   ]
  },
  {
   "cell_type": "markdown",
   "metadata": {},
   "source": [
    "Calculate the population density of each zone in inhabitants/ ha"
   ]
  },
  {
   "cell_type": "code",
   "execution_count": null,
   "metadata": {},
   "outputs": [],
   "source": [
    "lms_gdf['Pop_dens'] = lms_gdf['INWONERS'] / lms_gdf['OPP']"
   ]
  },
  {
   "cell_type": "code",
   "execution_count": null,
   "metadata": {},
   "outputs": [],
   "source": [
    "f, ax = plt.subplots(1, 1)\n",
    "f.set_figwidth(13)\n",
    "f.set_figheight(6)\n",
    "ax.set_title('Population density LMS zones (capped at 85 p/ha)')\n",
    "cmap = cm.get_cmap('YlOrRd')\n",
    "\n",
    "lms_gdf.plot(ax=ax, column='Pop_dens', cmap=cmap, vmax=85,\n",
    "         legend=True, legend_kwds={\"label\": \"Population density [p/ha]\"});"
   ]
  },
  {
   "cell_type": "markdown",
   "metadata": {},
   "source": [
    "Determine the degree of urbanisation based on LMS documentation"
   ]
  },
  {
   "cell_type": "code",
   "execution_count": null,
   "metadata": {},
   "outputs": [],
   "source": [
    "def deg_urban(gdf):\n",
    "    \"\"\"\n",
    "    Determine the degree of urbanisation of the LMS zones\n",
    "    \"\"\"\n",
    "\n",
    "    points = gdf[['XCOORD', 'YCOORD']] # df with all coordinated centroids zone\n",
    "    \n",
    "    # Distances between all points\n",
    "    distances = pd.DataFrame(squareform(pdist(points)), columns=points.index, index=points.index) \n",
    "\n",
    "    # All neigbour zones within a distance of 3 km\n",
    "    close_zones = distances[(distances <= 3000) & (distances != 0)]\n",
    "\n",
    "    # Create new columns\n",
    "    gdf['pop_dens_sur'] = np.zeros((len(gdf)))\n",
    "    gdf['max_pop_dens'] = np.zeros((len(gdf)))\n",
    "    gdf['deg_urba'] = np.zeros((len(gdf)))\n",
    "\n",
    "    # Get population density surrounding zones\n",
    "    for i in close_zones.index:\n",
    "        zone_list = close_zones.loc[i]\n",
    "\n",
    "        index_list = list(map(tuple, np.argwhere(~np.isnan(zone_list.values))))\n",
    "\n",
    "        sur_area = gdf.loc[i]['OPP']\n",
    "        sur_pop = gdf.loc[i]['INWONERS']\n",
    "        \n",
    "        for j in range(len(index_list)):\n",
    "            zone_id = index_list[j][0] + 1\n",
    "\n",
    "            sur_area += gdf.loc[zone_id]['OPP']\n",
    "            sur_pop += gdf.loc[zone_id]['INWONERS']\n",
    "        \n",
    "        gdf.loc[i, 'pop_dens_sur'] = sur_pop / sur_area\n",
    "\n",
    "\n",
    "\n",
    "    # Get zone with highest population density\n",
    "    for i in close_zones.index:\n",
    "        zone_list = close_zones.loc[i]\n",
    "        index_list = list(map(tuple, np.argwhere(~np.isnan(zone_list.values))))\n",
    "\n",
    "        pop_dens_dict = {}\n",
    "        pop_dens_dict[i] = gdf.loc[i]['pop_dens_sur']\n",
    "        \n",
    "        for j in range(len(index_list)):\n",
    "            zone_id = index_list[j][0] + 1\n",
    "            pop_dens_dict[zone_id] = gdf.loc[zone_id]['pop_dens_sur']\n",
    "\n",
    "        max_dens = max(pop_dens_dict.values())\n",
    "        lms_gdf.loc[i, 'max_pop_dens'] = max_dens\n",
    "\n",
    "    pop_range = [-1, 2.5, 6, 25, 50, 85, np.inf]\n",
    "\n",
    "    for i in range(6):\n",
    "        index_du = gdf.max_pop_dens[(gdf.max_pop_dens > pop_range[i]) & (gdf.max_pop_dens <= pop_range[i + 1])].index\n",
    "        gdf.loc[index_du, 'deg_urba'] = i + 1\n",
    "    \n",
    "    return gdf\n",
    "        \n"
   ]
  },
  {
   "cell_type": "code",
   "execution_count": null,
   "metadata": {},
   "outputs": [],
   "source": [
    "lms_gdf = deg_urban(lms_gdf)"
   ]
  },
  {
   "cell_type": "markdown",
   "metadata": {},
   "source": [
    "Plot the degree of urbanisation on the map"
   ]
  },
  {
   "cell_type": "code",
   "execution_count": null,
   "metadata": {},
   "outputs": [],
   "source": [
    "f, ax = plt.subplots(1, 1)\n",
    "f.set_figwidth(13)\n",
    "f.set_figheight(6)\n",
    "\n",
    "cmap = cm.get_cmap('YlOrRd', 6)\n",
    "\n",
    "lms_gdf.plot(ax=ax, column='deg_urba', cmap=cmap, vmax=6.5,\n",
    "         legend=True, legend_kwds={\"label\": \"Degree of urbanisation\"})\n",
    "\n",
    "ax.set_facecolor('lightskyblue')\n",
    "ax.set_title('Degree of urbanisation - LMS')\n",
    "\n",
    "ax.set_yticks([])\n",
    "ax.set_xticks([])\n"
   ]
  },
  {
   "cell_type": "markdown",
   "metadata": {},
   "source": [
    "And now compare the degree of urbanisation of LMS with the CBS"
   ]
  },
  {
   "cell_type": "code",
   "execution_count": null,
   "metadata": {},
   "outputs": [],
   "source": [
    "index_gdf = pc4.stedelijkheid[pc4.stedelijkheid < 1].index\n",
    "pc4.loc[index_gdf, 'stedelijkheid'] = np.nan"
   ]
  },
  {
   "cell_type": "code",
   "execution_count": null,
   "metadata": {},
   "outputs": [],
   "source": [
    "f, ax = plt.subplots(1, 2)\n",
    "f.set_figwidth(13)\n",
    "f.set_figheight(6)\n",
    "\n",
    "cmap = cm.get_cmap('YlOrRd', 6)\n",
    "cmap_cbs = cm.get_cmap('YlOrRd_r', 5)\n",
    "\n",
    "lms_gdf.plot(ax=ax[0], column='deg_urba', cmap=cmap, vmax=6.5,\n",
    "         legend=True, legend_kwds={\"label\": \"Degree of urbanisation LMS\", \"ticks\": np.arange(1, 7)})\n",
    "\n",
    "pc4.plot(ax=ax[1], column='stedelijkheid', legend=True, cmap=cmap_cbs,\n",
    "         legend_kwds={\"label\": \"Degree of urbanisation CBS\", \"ticks\": np.arange(1, 6)})\n",
    "\n",
    "ax[0].set_title('Degree of urbanisation according to the LMS')\n",
    "ax[1].set_title('Degree of urbanisation according to the CBS')\n",
    "\n",
    "ax[0].set_facecolor('lightskyblue')\n",
    "ax[1].set_facecolor('lightskyblue')\n",
    "\n",
    "ax[0].set_yticks([])\n",
    "ax[0].set_xticks([])\n",
    "\n",
    "ax[1].set_yticks([])\n",
    "ax[1].set_xticks([])\n"
   ]
  },
  {
   "cell_type": "markdown",
   "metadata": {},
   "source": [
    "All zones have been assigned a degree of urbanisation"
   ]
  },
  {
   "cell_type": "code",
   "execution_count": null,
   "metadata": {},
   "outputs": [],
   "source": [
    "lms_gdf[lms_gdf.deg_urba == 0]"
   ]
  },
  {
   "cell_type": "code",
   "execution_count": null,
   "metadata": {},
   "outputs": [],
   "source": [
    "lms_gdf"
   ]
  },
  {
   "cell_type": "code",
   "execution_count": null,
   "metadata": {},
   "outputs": [],
   "source": [
    "lms_gdf = lms_gdf.drop(columns='ZONE_ID')"
   ]
  },
  {
   "cell_type": "markdown",
   "metadata": {},
   "source": [
    "Save dataframe with degree of urbanisation"
   ]
  },
  {
   "cell_type": "code",
   "execution_count": null,
   "metadata": {},
   "outputs": [],
   "source": [
    "# lms_gdf.to_file(parent_dir + '\\\\Data\\\\New\\\\lms_zone_du_new2.shp')"
   ]
  },
  {
   "cell_type": "code",
   "execution_count": null,
   "metadata": {},
   "outputs": [],
   "source": []
  }
 ],
 "metadata": {
  "kernelspec": {
   "display_name": "geospatial",
   "language": "python",
   "name": "geospatial"
  },
  "language_info": {
   "codemirror_mode": {
    "name": "ipython",
    "version": 3
   },
   "file_extension": ".py",
   "mimetype": "text/x-python",
   "name": "python",
   "nbconvert_exporter": "python",
   "pygments_lexer": "ipython3",
   "version": "3.9.18"
  }
 },
 "nbformat": 4,
 "nbformat_minor": 2
}
