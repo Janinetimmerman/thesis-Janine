{
 "cells": [
  {
   "cell_type": "markdown",
   "metadata": {},
   "source": [
    "In this notebook the neighbourhood zones are matched with the LMS zones."
   ]
  },
  {
   "cell_type": "code",
   "execution_count": null,
   "metadata": {},
   "outputs": [],
   "source": [
    "import pandas as pd\n",
    "import geopandas as gpd\n",
    "import numpy as np\n",
    "import matplotlib.pyplot as plt\n",
    "import os\n",
    "\n",
    "%matplotlib inline"
   ]
  },
  {
   "cell_type": "markdown",
   "metadata": {},
   "source": [
    "Load files"
   ]
  },
  {
   "cell_type": "code",
   "execution_count": null,
   "metadata": {},
   "outputs": [],
   "source": [
    "parent_dir = os.path.split(os.getcwd())[0] # Get parent directory"
   ]
  },
  {
   "cell_type": "code",
   "execution_count": null,
   "metadata": {},
   "outputs": [],
   "source": [
    "lms_du = gpd.read_file(parent_dir + '\\\\Data\\\\New\\\\lms_zone_du_new.shp')\n",
    "buurt = gpd.read_file(parent_dir + '\\\\Data\\\\Wijk buurt\\\\WijkBuurtkaart_2017_v3\\\\buurt_2017_v3.shp')\n",
    "wijk = gpd.read_file(parent_dir + '\\\\Data\\\\Wijk buurt\\\\WijkBuurtkaart_2017_v3\\\\wijk_2017_v3.shp')"
   ]
  },
  {
   "cell_type": "code",
   "execution_count": null,
   "metadata": {},
   "outputs": [],
   "source": [
    "landuse = pd.read_csv(parent_dir + '\\\\Data\\\\Wijk buurt\\\\85217NED_UntypedDataSet_28032024_162743.csv', delimiter=';')"
   ]
  },
  {
   "cell_type": "code",
   "execution_count": null,
   "metadata": {},
   "outputs": [],
   "source": [
    "pc4 = gpd.read_file(parent_dir + '\\Data\\PC4 2022\\cbs_pc4_2019_vol.gpkg') # load PC4 zones according to the CBS"
   ]
  },
  {
   "cell_type": "code",
   "execution_count": null,
   "metadata": {},
   "outputs": [],
   "source": [
    "# Remove zones with only water\n",
    "buurt = buurt[buurt.WATER == 'NEE']\n",
    "wijk = wijk[wijk.WATER == 'NEE']"
   ]
  },
  {
   "cell_type": "markdown",
   "metadata": {},
   "source": [
    "Make plots of the 'wijken' and 'buurten'"
   ]
  },
  {
   "cell_type": "code",
   "execution_count": null,
   "metadata": {},
   "outputs": [],
   "source": [
    "f, ax = plt.subplots(1, 1)\n",
    "\n",
    "buurt.plot(ax=ax, facecolor='none')\n",
    "# wijk.plot(ax=ax, facecolor='none', edgecolor='blue')\n",
    "lms_du.plot(ax=ax, facecolor='none', edgecolor='red', linewidth=4, alpha=0.2)\n",
    "# pc4.plot(ax=ax, facecolor='none', edgecolor='green')\n",
    "\n",
    "ax.set_xlim(200000, 240000)\n",
    "ax.set_ylim(500000, 525000)\n",
    "ax.plot([], [], color='red', linewidth=4, alpha=0.3, label='LMS')\n",
    "ax.plot([], [], color='black', label='Neighbourhood')\n",
    "ax.set_xticks([])\n",
    "ax.set_yticks([])\n",
    "ax.set_title('Example of neighbourhood zones and LMS zones')\n",
    "ax.legend()"
   ]
  },
  {
   "cell_type": "code",
   "execution_count": null,
   "metadata": {},
   "outputs": [],
   "source": [
    "f, ax = plt.subplots(1, 1)\n",
    "\n",
    "# buurt.plot(ax=ax, facecolor='none', label='Buurt')\n",
    "wijk.plot(ax=ax, facecolor='none', edgecolor='blue')\n",
    "lms_du.plot(ax=ax, facecolor='none', edgecolor='red', linewidth=4, alpha=0.3)\n",
    "# pc4.plot(ax=ax, facecolor='none', edgecolor='green')\n",
    "\n",
    "ax.set_xlim(200000, 240000)\n",
    "ax.set_ylim(500000, 525000)\n",
    "ax.plot([], [], color='red', linewidth=4, alpha=0.3, label='LMS')\n",
    "ax.plot([], [], color='blue', label='Wijk')\n",
    "\n",
    "ax.legend()"
   ]
  },
  {
   "cell_type": "markdown",
   "metadata": {},
   "source": [
    "LMS zones seem to follow the Buurt zones relatively close, looking at this sample. Wijk level is also fine, but a bit less exact. There will be continued with the buurten (=neighbourhood)"
   ]
  },
  {
   "cell_type": "code",
   "execution_count": null,
   "metadata": {},
   "outputs": [],
   "source": [
    "# Get centroids of the neighbourhood zones\n",
    "buurt_cent = buurt[['BU_CODE', 'BU_NAAM', 'geometry']]\n",
    "buurt_cent.loc[:, 'geometry'] = buurt.geometry.centroid"
   ]
  },
  {
   "cell_type": "code",
   "execution_count": null,
   "metadata": {},
   "outputs": [],
   "source": [
    "lms_du.crs ='EPSG:28992' # give LMS zones right coordinate system"
   ]
  },
  {
   "cell_type": "code",
   "execution_count": null,
   "metadata": {},
   "outputs": [],
   "source": [
    "new_gdf = lms_du.sjoin_nearest(buurt_cent, how='left', distance_col='dist_zone') # Match neigbourhood zone with LMS zone"
   ]
  },
  {
   "cell_type": "code",
   "execution_count": null,
   "metadata": {},
   "outputs": [],
   "source": [
    "new_gdf.head()"
   ]
  },
  {
   "cell_type": "code",
   "execution_count": null,
   "metadata": {},
   "outputs": [],
   "source": [
    "duplicates = new_gdf[new_gdf['BU_CODE'].duplicated(keep=False)]"
   ]
  },
  {
   "cell_type": "code",
   "execution_count": null,
   "metadata": {},
   "outputs": [],
   "source": [
    "dup = np.array(duplicates.BU_CODE)\n",
    "x = dup[12]"
   ]
  },
  {
   "cell_type": "markdown",
   "metadata": {},
   "source": [
    "Again, there are some duplicates.\n",
    "\n",
    "\n",
    "For the indices 0, 2, and 18 it is obvious in which LMS zone the Buurt belongs. \n",
    "The other duplicate buurts are part of both zones and the assumption is made that the buurts are fully in both LMS zones "
   ]
  },
  {
   "cell_type": "code",
   "execution_count": null,
   "metadata": {},
   "outputs": [],
   "source": [
    "# for i in range(0, len(dup), 2):\n",
    "for i in [0, 2, 18]:\n",
    "\n",
    "    x = dup[i]\n",
    "\n",
    "    f, ax = plt.subplots(1, 1)\n",
    "\n",
    "    lms_plot = new_gdf[new_gdf['BU_CODE'] == x].iloc[0:1].plot(ax=ax, facecolor='none', edgecolor='lightgrey', linewidth=4)\n",
    "    lms_plot = new_gdf[new_gdf['BU_CODE'] == x].iloc[1:2].plot(ax=ax, facecolor='none', edgecolor='lightgreen', linewidth=4)\n",
    "\n",
    "    buurt_plot = buurt[buurt['BU_CODE'] == x].plot(ax=ax, facecolor='none', edgecolor='red', linestyle='--', linewidth=2)\n",
    "    buurt_cent[buurt_cent['BU_CODE'] == x].plot(ax=ax, label='Centroid buurt zone')\n",
    "\n",
    "    ax.plot([], [], label=f'LMS zone {i}', color='grey')\n",
    "    ax.plot([], [], label=f'LMS zone {i + 1}', color='lightgreen')\n",
    "\n",
    "    ax.plot([], [], label='Buurt zones', color='red', linestyle='--')\n",
    "\n",
    "    plt.legend()\n",
    "\n",
    "## 0, 2, 16, 18"
   ]
  },
  {
   "cell_type": "markdown",
   "metadata": {},
   "source": [
    "Remove rows 0, 3 and 18"
   ]
  },
  {
   "cell_type": "code",
   "execution_count": null,
   "metadata": {},
   "outputs": [],
   "source": [
    "bu_list = duplicates.iloc[[0, 3, 18]].BU_CODE\n",
    "index_list = duplicates.iloc[[0, 3, 18]].index"
   ]
  },
  {
   "cell_type": "code",
   "execution_count": null,
   "metadata": {},
   "outputs": [],
   "source": [
    "new_gdf = new_gdf.loc[~((new_gdf.index.isin(index_list)) & (new_gdf.BU_CODE.isin(bu_list)))]"
   ]
  },
  {
   "cell_type": "code",
   "execution_count": null,
   "metadata": {},
   "outputs": [],
   "source": [
    "new_gdf.head()"
   ]
  },
  {
   "cell_type": "markdown",
   "metadata": {},
   "source": [
    "### Check if there are LMS zones not included"
   ]
  },
  {
   "cell_type": "code",
   "execution_count": null,
   "metadata": {},
   "outputs": [],
   "source": [
    "len(set(new_gdf.ZONE_ID))"
   ]
  },
  {
   "cell_type": "code",
   "execution_count": null,
   "metadata": {},
   "outputs": [],
   "source": [
    "set(np.arange(1, 1407)) - set(new_gdf.ZONE_ID)"
   ]
  },
  {
   "cell_type": "markdown",
   "metadata": {},
   "source": [
    "Zones 916 and 1377 do not have land-use data currently\n",
    "\n",
    "There are clearly 'buurten' near enough, so now find the nearest buurt to add to that LMS zone, so there is at least some information about land-use."
   ]
  },
  {
   "cell_type": "markdown",
   "metadata": {},
   "source": [
    "### LMS zone 916"
   ]
  },
  {
   "cell_type": "code",
   "execution_count": null,
   "metadata": {},
   "outputs": [],
   "source": [
    "lms_du[lms_du.ZONE_ID.isin([916, 922])].plot()"
   ]
  },
  {
   "cell_type": "code",
   "execution_count": null,
   "metadata": {},
   "outputs": [],
   "source": [
    "f, ax = plt.subplots(1, 1)\n",
    "\n",
    "buurt.plot(ax=ax, facecolor='none')\n",
    "# wijk.plot(ax=ax, facecolor='none', edgecolor='blue')\n",
    "lms_du.plot(ax=ax, facecolor='none', edgecolor='red', linewidth=4, alpha=0.2)\n",
    "# pc4.plot(ax=ax, facecolor='none', edgecolor='green')\n",
    "\n",
    "ax.set_xlim(92000, 94000)\n",
    "ax.set_ylim(438000, 440000)\n",
    "ax.plot([], [], color='red', linewidth=4, alpha=0.3, label='LMS')\n",
    "ax.plot([], [], color='black', label='Buurt')\n",
    "ax.set_xticks([])\n",
    "ax.set_yticks([])\n",
    "ax.set_title('2 LMS zones within 1 neighbourhood zone')\n",
    "\n",
    "ax.legend()"
   ]
  },
  {
   "cell_type": "markdown",
   "metadata": {},
   "source": [
    "With some zooming around the map, for LMS zone 916, 922 shares the same buurt."
   ]
  },
  {
   "cell_type": "code",
   "execution_count": null,
   "metadata": {},
   "outputs": [],
   "source": [
    "bu_code_916 = list(new_gdf[new_gdf.ZONE_ID == 922].BU_CODE)[0]\n",
    "bu_code_916"
   ]
  },
  {
   "cell_type": "code",
   "execution_count": null,
   "metadata": {},
   "outputs": [],
   "source": [
    "buurt[buurt.BU_CODE == bu_code_916].plot()"
   ]
  },
  {
   "cell_type": "code",
   "execution_count": null,
   "metadata": {},
   "outputs": [],
   "source": [
    "lms_du_916 = lms_du[lms_du.ZONE_ID.isin([916])].sjoin_nearest(buurt_cent, how='left', distance_col='dist_zone')\n",
    "lms_du_916"
   ]
  },
  {
   "cell_type": "markdown",
   "metadata": {},
   "source": [
    "New Buurt code is the same as the one manually found"
   ]
  },
  {
   "cell_type": "markdown",
   "metadata": {},
   "source": [
    "### LMS zone 1377"
   ]
  },
  {
   "cell_type": "code",
   "execution_count": null,
   "metadata": {},
   "outputs": [],
   "source": [
    "lms_du[lms_du.ZONE_ID.isin([1377])].plot()"
   ]
  },
  {
   "cell_type": "code",
   "execution_count": null,
   "metadata": {},
   "outputs": [],
   "source": [
    "f, ax = plt.subplots(1, 1)\n",
    "\n",
    "buurt.plot(ax=ax, facecolor='none')\n",
    "# wijk.plot(ax=ax, facecolor='none', edgecolor='blue')\n",
    "lms_du.plot(ax=ax, facecolor='none', edgecolor='red', linewidth=4, alpha=0.2)\n",
    "# pc4.plot(ax=ax, facecolor='none', edgecolor='green')\n",
    "\n",
    "ax.set_xlim(135000, 145000)\n",
    "ax.set_ylim(483000, 488000)\n",
    "ax.plot([], [], color='red', linewidth=4, alpha=0.3, label='LMS')\n",
    "ax.plot([], [], color='black', label='Buurt')\n",
    "\n",
    "ax.legend()"
   ]
  },
  {
   "cell_type": "markdown",
   "metadata": {},
   "source": [
    "Less clear to which zone the 'buurt' belongs. So first merge and then check if it is logical."
   ]
  },
  {
   "cell_type": "code",
   "execution_count": null,
   "metadata": {},
   "outputs": [],
   "source": [
    "lms_du_1377 = lms_du[lms_du.ZONE_ID.isin([1377])].sjoin_nearest(buurt_cent, how='left', distance_col='dist_zone')\n",
    "lms_du_1377"
   ]
  },
  {
   "cell_type": "markdown",
   "metadata": {},
   "source": [
    "This is not the most logical buurt... Try again"
   ]
  },
  {
   "cell_type": "code",
   "execution_count": null,
   "metadata": {},
   "outputs": [],
   "source": [
    "fig, ax = plt.subplots(1, 1)\n",
    "\n",
    "buurt[buurt.BU_CODE == list(lms_du_1377.BU_CODE)[0]].plot(ax=ax, facecolor='none', edgecolor='black')\n",
    "lms_du[lms_du.ZONE_ID.isin([1377])].plot(ax=ax, facecolor='none', edgecolor='red')\n",
    "\n",
    "ax.plot([], [], color='red',  label='LMS')\n",
    "ax.plot([], [], color='black', label='Buurt')\n",
    "plt.legend()\n"
   ]
  },
  {
   "cell_type": "markdown",
   "metadata": {},
   "source": [
    "Now try to return several 'buurts' but not based on centroid."
   ]
  },
  {
   "cell_type": "code",
   "execution_count": null,
   "metadata": {},
   "outputs": [],
   "source": [
    "lms_du_1377 = lms_du[lms_du.ZONE_ID.isin([1377])].sjoin_nearest(buurt[['BU_CODE', 'BU_NAAM', 'geometry']], \n",
    "                                                                how='left', distance_col='dist_zone')\n",
    "lms_du_1377"
   ]
  },
  {
   "cell_type": "code",
   "execution_count": null,
   "metadata": {},
   "outputs": [],
   "source": [
    "fig, ax = plt.subplots(1, 1)\n",
    "\n",
    "buurt[buurt.BU_CODE == list(lms_du_1377.BU_CODE)[0]].plot(ax=ax, facecolor='none', edgecolor='black')\n",
    "lms_du[lms_du.ZONE_ID.isin([1377])].plot(ax=ax, facecolor='none', edgecolor='red')\n",
    "\n",
    "ax.plot([], [], color='red',  label='LMS')\n",
    "ax.plot([], [], color='black', label='Buurt')\n",
    "plt.legend()\n"
   ]
  },
  {
   "cell_type": "code",
   "execution_count": null,
   "metadata": {},
   "outputs": [],
   "source": [
    "lms_du_1377 = lms_du_1377.iloc[0:1]"
   ]
  },
  {
   "cell_type": "markdown",
   "metadata": {},
   "source": [
    "When looping through the 4 possible buurten, The first seems to be the most logical option."
   ]
  },
  {
   "cell_type": "markdown",
   "metadata": {},
   "source": [
    "Now finally, merge the 2 new dataframes with the full one."
   ]
  },
  {
   "cell_type": "code",
   "execution_count": null,
   "metadata": {},
   "outputs": [],
   "source": [
    "new_gdf.loc[list(lms_du_916.index)[0]] = lms_du_916.iloc[0]"
   ]
  },
  {
   "cell_type": "code",
   "execution_count": null,
   "metadata": {},
   "outputs": [],
   "source": [
    "new_gdf.loc[list(lms_du_1377.index)[0]] = lms_du_1377.iloc[0]"
   ]
  },
  {
   "cell_type": "code",
   "execution_count": null,
   "metadata": {},
   "outputs": [],
   "source": [
    "new_gdf.tail()"
   ]
  },
  {
   "cell_type": "markdown",
   "metadata": {},
   "source": [
    "New rows are added"
   ]
  },
  {
   "cell_type": "code",
   "execution_count": null,
   "metadata": {},
   "outputs": [],
   "source": [
    "set(np.arange(1, 1407)) - set(new_gdf.ZONE_ID)"
   ]
  },
  {
   "cell_type": "markdown",
   "metadata": {},
   "source": [
    "And all LMS zones are now part of the geodataframe!"
   ]
  },
  {
   "cell_type": "markdown",
   "metadata": {},
   "source": [
    "### Calculate land-use percentage for each LMS zone"
   ]
  },
  {
   "cell_type": "code",
   "execution_count": null,
   "metadata": {},
   "outputs": [],
   "source": [
    "zone_id_list = list(set(new_gdf.ZONE_ID))"
   ]
  },
  {
   "cell_type": "code",
   "execution_count": null,
   "metadata": {},
   "outputs": [],
   "source": [
    "landuse_df = pd.DataFrame(columns=landuse.columns[4:])\n",
    "landuse_df = landuse_df.rename(columns={'Codering_3':'ZONE_ID'})\n",
    "landuse_df = landuse_df.set_index('ZONE_ID')\n",
    "\n",
    "for z in zone_id_list:\n",
    "\n",
    "    bu = new_gdf[new_gdf.ZONE_ID == z].BU_CODE # Get buurten from LMS zone\n",
    "    lms_bu = landuse[landuse.WijkenEnBuurten.isin(bu)] # Get landuses from buurten\n",
    "    tot_opp = lms_bu.iloc[:, 5].sum() # Get total area of buurten\n",
    "\n",
    "    land_use_arr = np.zeros(46)\n",
    "\n",
    "    for i in range(46):\n",
    "        land_use_arr[i] = np.round(lms_bu.iloc[:,i + 5].sum() / tot_opp, 3)\n",
    "\n",
    "    landuse_df.loc[z] = land_use_arr\n"
   ]
  },
  {
   "cell_type": "markdown",
   "metadata": {},
   "source": [
    "Also calculate total areas for each zone"
   ]
  },
  {
   "cell_type": "code",
   "execution_count": null,
   "metadata": {},
   "outputs": [],
   "source": [
    "landuse_df_area = pd.DataFrame(columns=landuse.columns[4:])\n",
    "landuse_df_area = landuse_df_area.rename(columns={'Codering_3':'ZONE_ID'})\n",
    "landuse_df_area = landuse_df_area.set_index('ZONE_ID')\n",
    "\n",
    "for z in zone_id_list:\n",
    "\n",
    "    bu = new_gdf[new_gdf.ZONE_ID == z].BU_CODE # Get buurten from LMS zone\n",
    "    lms_bu = landuse[landuse.WijkenEnBuurten.isin(bu)] # Get landuses from buurten\n",
    "    tot_opp = lms_bu.iloc[:, 5].sum() # Get total area of buurten\n",
    "\n",
    "    land_use_arr = np.zeros(46)\n",
    "\n",
    "    for i in range(46):\n",
    "        land_use_arr[i] = np.round(lms_bu.iloc[:,i + 5].sum(), 3)\n",
    "\n",
    "    landuse_df_area.loc[z] = land_use_arr\n"
   ]
  },
  {
   "cell_type": "code",
   "execution_count": null,
   "metadata": {},
   "outputs": [],
   "source": [
    "landuse_df"
   ]
  },
  {
   "cell_type": "code",
   "execution_count": null,
   "metadata": {},
   "outputs": [],
   "source": [
    "landuse_df_area"
   ]
  },
  {
   "cell_type": "markdown",
   "metadata": {},
   "source": [
    "## Save to csv"
   ]
  },
  {
   "cell_type": "code",
   "execution_count": null,
   "metadata": {},
   "outputs": [],
   "source": [
    "# landuse_df.to_csv(parent_dir + '\\\\Data\\\\New\\\\landuse_lms.csv')"
   ]
  },
  {
   "cell_type": "code",
   "execution_count": null,
   "metadata": {},
   "outputs": [],
   "source": [
    "# landuse_df_area.to_csv(parent_dir + '\\\\Data\\\\New\\\\landuse_lms_area.csv')"
   ]
  },
  {
   "cell_type": "code",
   "execution_count": null,
   "metadata": {},
   "outputs": [],
   "source": [
    "# new_gdf.to_file(parent_dir + '\\\\Data\\\\New\\\\buurt_lms_match.shp')"
   ]
  }
 ],
 "metadata": {
  "kernelspec": {
   "display_name": "geospatial",
   "language": "python",
   "name": "geospatial"
  },
  "language_info": {
   "codemirror_mode": {
    "name": "ipython",
    "version": 3
   },
   "file_extension": ".py",
   "mimetype": "text/x-python",
   "name": "python",
   "nbconvert_exporter": "python",
   "pygments_lexer": "ipython3",
   "version": "3.9.18"
  }
 },
 "nbformat": 4,
 "nbformat_minor": 2
}
