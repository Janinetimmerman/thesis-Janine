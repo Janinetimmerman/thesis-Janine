{
 "cells": [
  {
   "cell_type": "code",
   "execution_count": null,
   "metadata": {},
   "outputs": [],
   "source": [
    "import pandas as pd\n",
    "import geopandas as gpd\n",
    "import numpy as np\n",
    "import matplotlib.pyplot as plt\n",
    "import os\n",
    "\n",
    "%matplotlib inline"
   ]
  },
  {
   "cell_type": "code",
   "execution_count": null,
   "metadata": {},
   "outputs": [],
   "source": [
    "parent_dir = os.path.split(os.getcwd())[0] # Get parent directory"
   ]
  },
  {
   "cell_type": "code",
   "execution_count": null,
   "metadata": {},
   "outputs": [],
   "source": [
    "lms_pc4 = pd.read_excel(parent_dir + '\\\\Data\\LMS\\\\Zone data\\\\LMS Zonenummering 2018 met PC4.xlsx', index_col=0)\n",
    "lms_du = gpd.read_file(parent_dir + '\\\\Data\\\\New\\\\lms_zone_du_new.shp')\n",
    "ovin = pd.read_csv(parent_dir + '\\\\Data\\\\New\\\\merged_ovin.csv', index_col=0)"
   ]
  },
  {
   "cell_type": "markdown",
   "metadata": {},
   "source": [
    "Match LMS zones with PC4 using an existing file. Print some data inbetween to check if everything goes right."
   ]
  },
  {
   "cell_type": "code",
   "execution_count": null,
   "metadata": {},
   "outputs": [],
   "source": [
    "lms_du.head()"
   ]
  },
  {
   "cell_type": "code",
   "execution_count": null,
   "metadata": {},
   "outputs": [],
   "source": [
    "lms_pc4[~lms_pc4['PC4'].duplicated()].shape"
   ]
  },
  {
   "cell_type": "code",
   "execution_count": null,
   "metadata": {},
   "outputs": [],
   "source": [
    "lms_pc4[lms_pc4.LMS == 10][lms_pc4[lms_pc4.LMS == 10].duplicated(subset=['LMS', 'PC4'])]"
   ]
  },
  {
   "cell_type": "code",
   "execution_count": null,
   "metadata": {},
   "outputs": [],
   "source": [
    "lms_pc4_v2 = lms_pc4[~lms_pc4.duplicated(subset=['LMS', 'PC4'])].dropna()\n",
    "\n",
    "duplicated_pc4 = lms_pc4_v2[lms_pc4_v2['PC4'].duplicated(keep=False)]\n",
    "\n",
    "duplicated_pc4"
   ]
  },
  {
   "cell_type": "code",
   "execution_count": null,
   "metadata": {},
   "outputs": [],
   "source": [
    "unclear_pc4 = list(set(duplicated_pc4.PC4))"
   ]
  },
  {
   "cell_type": "code",
   "execution_count": null,
   "metadata": {},
   "outputs": [],
   "source": [
    "\n",
    "lms_pc4 = lms_pc4[~lms_pc4.duplicated(subset=['LMS', 'PC4'])].dropna()\n",
    "lms_pc4 = lms_pc4[~lms_pc4['PC4'].duplicated()]"
   ]
  },
  {
   "cell_type": "code",
   "execution_count": null,
   "metadata": {},
   "outputs": [],
   "source": [
    "lms_pc4.head()"
   ]
  },
  {
   "cell_type": "markdown",
   "metadata": {},
   "source": [
    "There is not a LMS zone for each PC4 zone!"
   ]
  },
  {
   "cell_type": "code",
   "execution_count": null,
   "metadata": {},
   "outputs": [],
   "source": [
    "s = set(lms_pc4['PC4'])"
   ]
  },
  {
   "cell_type": "code",
   "execution_count": null,
   "metadata": {},
   "outputs": [],
   "source": [
    "o = set(ovin['VertPC'])\n",
    "a = set(ovin['AankPC'])\n",
    "\n",
    "o = a | o"
   ]
  },
  {
   "cell_type": "code",
   "execution_count": null,
   "metadata": {},
   "outputs": [],
   "source": [
    "print(f'There are {len(o - s)} postal codes that are not linked to a LMS zone')\n",
    "np.array(list(o-s))"
   ]
  },
  {
   "cell_type": "markdown",
   "metadata": {},
   "source": [
    "Add degree of urbanisation to postal code"
   ]
  },
  {
   "cell_type": "code",
   "execution_count": null,
   "metadata": {},
   "outputs": [],
   "source": [
    "ovin.loc[:, 'VertZone'] = ovin['VertPC'].map(lms_pc4.set_index('PC4')['LMS'])\n",
    "ovin.loc[:, 'AankZone'] = ovin['AankPC'].map(lms_pc4.set_index('PC4')['LMS'])\n",
    "\n",
    "ovin.loc[:, 'VertDU'] = ovin['VertZone'].map(lms_du.set_index('ZONE_ID')['deg_urba'])\n",
    "ovin.loc[:, 'AankDU'] = ovin['AankZone'].map(lms_du.set_index('ZONE_ID')['deg_urba'])\n"
   ]
  },
  {
   "cell_type": "code",
   "execution_count": null,
   "metadata": {},
   "outputs": [],
   "source": [
    "ovin.head()"
   ]
  },
  {
   "cell_type": "code",
   "execution_count": null,
   "metadata": {},
   "outputs": [],
   "source": [
    "missing_DU = ovin[(ovin['VertDU'].isnull()) | (ovin['AankDU'].isnull())][['OPID', 'VertPC', 'AankPC', \n",
    "                                                                          'VertDU', 'AankDU', 'VertZone', 'AankZone']]\n",
    "\n",
    "len(missing_DU) / len(ovin) * 100"
   ]
  },
  {
   "cell_type": "code",
   "execution_count": null,
   "metadata": {},
   "outputs": [],
   "source": [
    "missing_DU_lst = list(set(ovin[(ovin['VertDU'].isnull())].VertPC) | set(ovin[(ovin['AankDU'].isnull())].AankPC))"
   ]
  },
  {
   "cell_type": "code",
   "execution_count": null,
   "metadata": {},
   "outputs": [],
   "source": [
    "missing_DU"
   ]
  },
  {
   "cell_type": "markdown",
   "metadata": {},
   "source": [
    "These postal codes need some extra attention when assigning a LMS zone. There are some PC4 zones that are mapped to multiple LMS zones and there are some PC4 zones that are not mapped to any zone.\n",
    "\n",
    "This will be solved in Notebook 4"
   ]
  },
  {
   "cell_type": "code",
   "execution_count": null,
   "metadata": {},
   "outputs": [],
   "source": [
    "unclearpc4 = np.array(unclear_pc4)\n",
    "missingpc4 = np.array(missing_DU_lst)\n",
    "\n",
    "np.savetxt(parent_dir + '\\\\Data\\\\New\\\\missingPC4.csv', missingpc4)\n",
    "np.savetxt(parent_dir + '\\\\Data\\\\New\\\\unclearPC4.csv', unclearpc4)\n"
   ]
  },
  {
   "cell_type": "code",
   "execution_count": null,
   "metadata": {},
   "outputs": [],
   "source": [
    "duplicated_pc4.to_csv(parent_dir + '\\\\Data\\\\New\\\\duplicatedPC4.csv')"
   ]
  },
  {
   "cell_type": "code",
   "execution_count": null,
   "metadata": {},
   "outputs": [],
   "source": [
    "np.loadtxt(parent_dir + '\\\\Data\\\\New\\\\missingPC4.csv')"
   ]
  },
  {
   "cell_type": "code",
   "execution_count": null,
   "metadata": {},
   "outputs": [],
   "source": [
    "np.loadtxt(parent_dir + '\\\\Data\\\\New\\\\unclearPC4.csv')"
   ]
  },
  {
   "cell_type": "code",
   "execution_count": null,
   "metadata": {},
   "outputs": [],
   "source": [
    "ovin[ovin.AankPC == 3868][['AankGem']]"
   ]
  },
  {
   "cell_type": "markdown",
   "metadata": {},
   "source": [
    "### Basic plots"
   ]
  },
  {
   "cell_type": "markdown",
   "metadata": {},
   "source": [
    "Making some basic plots using the DU to test if everything works."
   ]
  },
  {
   "cell_type": "code",
   "execution_count": null,
   "metadata": {},
   "outputs": [],
   "source": [
    "# Calculate the number of trips for each mode and each DU\n",
    "mode_vert_DU = np.zeros((6, 8))\n",
    "mode_aank_DU = np.zeros((6, 8))\n",
    "\n",
    "for i in range(1, 9):\n",
    "    mode_vert_DU[:, i - 1] = ovin[ovin.KHvm == i].groupby(['VertDU']).FactorV_final.sum()\n",
    "    mode_aank_DU[:, i - 1] = ovin[ovin.KHvm == i].groupby(['AankDU']).FactorV_final.sum()\n"
   ]
  },
  {
   "cell_type": "code",
   "execution_count": null,
   "metadata": {},
   "outputs": [],
   "source": [
    "tot_trip_DU = np.sum(mode_vert_DU, axis=1)\n",
    "tot_trip_DU"
   ]
  },
  {
   "cell_type": "code",
   "execution_count": null,
   "metadata": {},
   "outputs": [],
   "source": [
    "labels = ['Car driver', 'Car passenger', 'Train', \n",
    "          'BTM', 'Moped', '(e-)Bike', 'Walking', 'Other']\n",
    "\n",
    "du = np.arange(1, 7)"
   ]
  },
  {
   "cell_type": "code",
   "execution_count": null,
   "metadata": {},
   "outputs": [],
   "source": [
    "f, ax = plt.subplots(1, 2)\n",
    "f.set_figwidth(10)\n",
    "\n",
    "direction = [mode_vert_DU, mode_aank_DU]\n",
    "direction_label = ['Departing', 'Arrival']\n",
    "\n",
    "for i in range(2):\n",
    "    ax[i].bar(du, direction[i][:, 0] / tot_trip_DU, label='Car driver', color='firebrick')\n",
    "    ax[i].bar(du, direction[i][:, 1] / tot_trip_DU, label='Car passenger', \n",
    "              bottom=direction[i][:, 0] / tot_trip_DU, color='salmon')\n",
    "    ax[i].legend()\n",
    "\n",
    "    ax[i].set_xlabel('Degree of urbanisation')\n",
    "    ax[i].set_ylabel('Fraction of trips by car')\n",
    "    ax[i].set_title(f'{direction_label[i]} degree of urbanisation')\n",
    "\n",
    "    ax[i].set_ylim(0, 0.55)\n",
    "    ax[i].set_yticks(np.arange(0, 0.6, 0.05))\n",
    "    ax[i].set_axisbelow(True)\n",
    "    ax[i].grid(axis='y')\n",
    "\n",
    "f.suptitle('Car trips by degree of urbanisation');"
   ]
  },
  {
   "cell_type": "code",
   "execution_count": null,
   "metadata": {},
   "outputs": [],
   "source": [
    "f, ax = plt.subplots(1, 2)\n",
    "f.set_figwidth(10)\n",
    "\n",
    "direction = [mode_vert_DU, mode_aank_DU]\n",
    "direction_label = ['Departing', 'Arrival']\n",
    "\n",
    "for i in range(2):\n",
    "    ax[i].bar(du, direction[i][:, 2] / tot_trip_DU, label='Train', color='firebrick')\n",
    "    ax[i].bar(du, direction[i][:, 3] / tot_trip_DU, label='BTM', \n",
    "              bottom=direction[i][:, 2] / tot_trip_DU, color='salmon')\n",
    "    ax[i].legend()\n",
    "\n",
    "    ax[i].set_xlabel('Degree of urbanisation')\n",
    "    ax[i].set_ylabel('Fraction of trips by public transport')\n",
    "    ax[i].set_title(f'{direction_label[i]} degree of urbanisation')\n",
    "\n",
    "    ax[i].set_ylim(0, 0.2)\n",
    "    ax[i].set_yticks(np.arange(0, 0.25, 0.025))\n",
    "    ax[i].set_axisbelow(True)\n",
    "    ax[i].grid(axis='y')\n",
    "\n",
    "f.suptitle('Public transport trips by degree of urbanisation');"
   ]
  },
  {
   "cell_type": "code",
   "execution_count": null,
   "metadata": {},
   "outputs": [],
   "source": [
    "f, ax = plt.subplots(1, 2)\n",
    "f.set_figwidth(10)\n",
    "\n",
    "direction = [mode_vert_DU, mode_aank_DU]\n",
    "direction_label = ['Departing', 'Arrival']\n",
    "\n",
    "for i in range(2):\n",
    "    ax[i].bar(du, direction[i][:, 5] / tot_trip_DU, label='(e-)Bike', color='firebrick')\n",
    "    ax[i].bar(du, direction[i][:, 6] / tot_trip_DU, label='Walking', \n",
    "              bottom=direction[i][:, 5] / tot_trip_DU, color='salmon')\n",
    "    ax[i].legend()\n",
    "\n",
    "    ax[i].set_xlabel('Degree of urbanisation')\n",
    "    ax[i].set_ylabel('Fraction of trips by active modes')\n",
    "    ax[i].set_title(f'{direction_label[i]} degree of urbanisation')\n",
    "\n",
    "    ax[i].set_ylim(0, 0.55)\n",
    "    ax[i].set_yticks(np.arange(0, 0.6, 0.05))\n",
    "    ax[i].set_axisbelow(True)\n",
    "    ax[i].grid(axis='y')\n",
    "\n",
    "f.suptitle('Active mode trips by degree of urbanisation');"
   ]
  },
  {
   "cell_type": "code",
   "execution_count": null,
   "metadata": {},
   "outputs": [],
   "source": [
    "f, ax = plt.subplots(1, 3)\n",
    "f.set_figwidth(10)\n",
    "\n",
    "direction = [mode_vert_DU, mode_aank_DU]\n",
    "direction_label = ['Car', 'Public transport', 'Active modes']\n",
    "mode_labels = ['Car driver', 'Car passenger', 'Train', 'BTM', '(e-)Bike', 'Walking']\n",
    "mode_lst = [0, 2, 5]\n",
    "\n",
    "for i in range(3):\n",
    "    ax[i].bar(du, direction[0][:, mode_lst[i]] / tot_trip_DU, label=mode_labels[i * 2], color='firebrick')\n",
    "    ax[i].bar(du, direction[0][:, mode_lst[i] + 1] / tot_trip_DU, label=mode_labels[i * 2 + 1], \n",
    "              bottom=direction[0][:, mode_lst[i]] / tot_trip_DU, color='salmon')\n",
    "    ax[i].legend()\n",
    "\n",
    "    ax[i].set_xlabel('Degree of urbanisation')\n",
    "    ax[0].set_ylabel(f'Fraction of trips')\n",
    "    ax[i].set_title(f'{direction_label[i]}')\n",
    "\n",
    "    ax[i].set_ylim(0, 0.55)\n",
    "    ax[i].set_yticks(np.arange(0, 0.6, 0.05))\n",
    "    ax[i].set_xticks(np.arange(1, 7))\n",
    "    ax[i].set_axisbelow(True)\n",
    "    ax[i].grid(axis='y')\n",
    "\n",
    "f.suptitle('Ratio of trips for different modes by degree of urbanisation');"
   ]
  },
  {
   "cell_type": "markdown",
   "metadata": {},
   "source": [
    "## Save to csv"
   ]
  },
  {
   "cell_type": "code",
   "execution_count": null,
   "metadata": {},
   "outputs": [],
   "source": [
    "# ovin.to_csv(parent_dir + '\\\\Data\\\\New\\\\Ovin_DU_new.csv')"
   ]
  },
  {
   "cell_type": "code",
   "execution_count": null,
   "metadata": {},
   "outputs": [],
   "source": [
    "# lms_pc4.to_csv(parent_dir + '\\\\Data\\\\New\\\\lms_pc4_match_new.csv')"
   ]
  }
 ],
 "metadata": {
  "kernelspec": {
   "display_name": "geospatial",
   "language": "python",
   "name": "geospatial"
  },
  "language_info": {
   "codemirror_mode": {
    "name": "ipython",
    "version": 3
   },
   "file_extension": ".py",
   "mimetype": "text/x-python",
   "name": "python",
   "nbconvert_exporter": "python",
   "pygments_lexer": "ipython3",
   "version": "3.9.18"
  }
 },
 "nbformat": 4,
 "nbformat_minor": 2
}
