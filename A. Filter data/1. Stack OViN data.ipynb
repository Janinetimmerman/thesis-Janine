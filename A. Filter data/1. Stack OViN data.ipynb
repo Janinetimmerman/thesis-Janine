{
 "cells": [
  {
   "cell_type": "markdown",
   "metadata": {},
   "source": [
    "## Stack OViN"
   ]
  },
  {
   "cell_type": "markdown",
   "metadata": {},
   "source": [
    "To avoid Covid data, years before 2020 will be used.\n",
    "\n",
    "Start with 2013-2017 (OViN), can maybe add 2018-2019 (ODiN) later??\n",
    "\n",
    "For OViN -> 2017 base year"
   ]
  },
  {
   "cell_type": "code",
   "execution_count": null,
   "metadata": {},
   "outputs": [],
   "source": [
    "import pandas as pd\n",
    "import numpy as np\n",
    "import os\n",
    "\n",
    "%matplotlib inline"
   ]
  },
  {
   "cell_type": "markdown",
   "metadata": {},
   "source": [
    "Load the data"
   ]
  },
  {
   "cell_type": "code",
   "execution_count": null,
   "metadata": {},
   "outputs": [],
   "source": [
    "parent_dir = os.path.split(os.getcwd())[0]"
   ]
  },
  {
   "cell_type": "code",
   "execution_count": null,
   "metadata": {},
   "outputs": [],
   "source": [
    "ovin13 = pd.read_csv(parent_dir + '\\Data\\ODiN_OViN\\OViN2013_Databestand.tab', delimiter='\\t')\n",
    "ovin14 = pd.read_csv(parent_dir + '\\Data\\ODiN_OViN\\OViN2014_Databestand.tab', delimiter='\\t')\n",
    "ovin15 = pd.read_csv(parent_dir + '\\Data\\ODiN_OViN\\OViN2015_Databestand.tab', delimiter='\\t')\n",
    "ovin16 = pd.read_csv(parent_dir + '\\Data\\ODiN_OViN\\OViN2016_Databestand.tab', delimiter='\\t')\n",
    "ovin17 = pd.read_csv(parent_dir + '\\Data\\ODiN_OViN\\OViN2017_Databestand.tab', delimiter='\\t')\n"
   ]
  },
  {
   "cell_type": "markdown",
   "metadata": {},
   "source": [
    "Total population for each year. (Source cbs.statline)"
   ]
  },
  {
   "cell_type": "code",
   "execution_count": null,
   "metadata": {},
   "outputs": [],
   "source": [
    "tot_pop = {2013:16804432, 2014:16865008, 2015:16939923, 2016:17030314, \n",
    "           2017:17131296, 2018:17231624, 2019:17344874}"
   ]
  },
  {
   "cell_type": "markdown",
   "metadata": {},
   "source": [
    "Determine weightfactors for each year (2017 is base year)"
   ]
  },
  {
   "cell_type": "code",
   "execution_count": null,
   "metadata": {},
   "outputs": [],
   "source": [
    "weight_pop = {}\n",
    "\n",
    "for key in tot_pop:\n",
    "    weight_pop[key] = tot_pop[2017] / tot_pop[key]"
   ]
  },
  {
   "cell_type": "markdown",
   "metadata": {},
   "source": [
    "Filter workdays"
   ]
  },
  {
   "cell_type": "code",
   "execution_count": null,
   "metadata": {},
   "outputs": [],
   "source": [
    "ovin = {2013: ovin13,\n",
    "        2014: ovin14,\n",
    "        2015: ovin15,\n",
    "        2016: ovin16,\n",
    "        2017: ovin17}"
   ]
  },
  {
   "cell_type": "code",
   "execution_count": null,
   "metadata": {},
   "outputs": [],
   "source": [
    "ovin[2017]= ovin[2017].rename(columns={'op':'OP'}) # Rename 'OP' column"
   ]
  },
  {
   "cell_type": "code",
   "execution_count": null,
   "metadata": {},
   "outputs": [],
   "source": [
    "tot_ovin_pop = {}\n",
    "\n",
    "for year in ovin:\n",
    "    \n",
    "    tot_ovin_pop[year] = ovin[year][ovin[year].OP == 1].FactorP.sum()\n",
    "\n",
    "tot_ovin_pop"
   ]
  },
  {
   "cell_type": "code",
   "execution_count": null,
   "metadata": {},
   "outputs": [],
   "source": [
    "ovin[2013]"
   ]
  },
  {
   "cell_type": "markdown",
   "metadata": {},
   "source": [
    "Select and remove holidays"
   ]
  },
  {
   "cell_type": "code",
   "execution_count": null,
   "metadata": {},
   "outputs": [],
   "source": [
    "holiday = [[1, 1], [5, 5], [25, 12], [26, 12]]\n",
    "holiday_dict = {2013:[[30, 4], [1, 4], [9, 5], [10, 5], [20, 5]],\n",
    "                2014:[[27, 4], [21, 4], [29, 5], [30, 5], [9 ,6]],\n",
    "                2015:[[27, 4], [6, 4], [14 ,5], [15, 5], [25, 5]],\n",
    "                2016:[[27, 4], [28, 3], [6, 5], [16, 5]],\n",
    "                2017:[[27, 4], [17, 4], [25, 5], [26, 5], [5, 6]]}"
   ]
  },
  {
   "cell_type": "code",
   "execution_count": null,
   "metadata": {},
   "outputs": [],
   "source": [
    "# Loop over all years\n",
    "for year in ovin:\n",
    "    holiday_dict[year] = holiday + holiday_dict[year]\n",
    "\n",
    "    # Loop over all holidays\n",
    "    for day in holiday_dict[year]:\n",
    "        \n",
    "        # If day is already removed, ignore checks\n",
    "        if len(ovin[year][(ovin[year].Dag == day[0]) & (ovin[year].Maand == day[1])]) == 0:\n",
    "            pass\n",
    "        \n",
    "        # If holiday is on a Tuesday, also remove the Monday\n",
    "        elif (ovin[year][(ovin[year].Dag == day[0]) & (ovin[year].Maand == day[1])].iloc[0].Weekdag == 3):\n",
    "            print(f'{day} is on Tuesday in {year}')\n",
    "            if day[0] > 1:  \n",
    "                ovin[year] = ovin[year][(ovin[year].Dag != day[0] - 1) | (ovin[year].Maand != day[1])]\n",
    "                \n",
    "    \t# If holiday is on a Thurday, also remove the Thurday\n",
    "        elif (ovin[year][(ovin[year].Dag == day[0]) & (ovin[year].Maand == day[1])].iloc[0].Weekdag == 5):\n",
    "            print(f'{day} is on Thursday in {year}')\n",
    "            holiday_dict[year].append([day[0] + 1, day[1]])\n",
    "            ovin[year] = ovin[year][(ovin[year].Dag != day[0] + 1) | (ovin[year].Maand != day[1])]\n",
    "\n",
    "        # Remove the holiday\n",
    "        ovin[year] = ovin[year][(ovin[year].Dag != day[0]) | (ovin[year].Maand != day[1])]\n",
    "    \n",
    "    ovin[year] = ovin[year][ovin[year]['Weekdag'].isin(np.arange(2, 7))] # Keep only the workdays for each year\n",
    "\n",
    "    "
   ]
  },
  {
   "cell_type": "markdown",
   "metadata": {},
   "source": [
    "### Create new weight factors"
   ]
  },
  {
   "cell_type": "markdown",
   "metadata": {},
   "source": [
    "1. Reweigh FactorV to workday"
   ]
  },
  {
   "cell_type": "markdown",
   "metadata": {},
   "source": [
    "First, get the number of workdays"
   ]
  },
  {
   "cell_type": "code",
   "execution_count": null,
   "metadata": {},
   "outputs": [],
   "source": [
    "workday_dict = {}\n",
    "\n",
    "for year in ovin:\n",
    "    workdays = 0\n",
    "    \n",
    "    for month in range(1, 13):\n",
    "        workdays += len(set(ovin[year][ovin[year].Maand == month].Dag))\n",
    "    \n",
    "    workday_dict[year] = workdays\n",
    "\n",
    "workday_dict"
   ]
  },
  {
   "cell_type": "markdown",
   "metadata": {},
   "source": [
    "And then calculate Factor for each workday"
   ]
  },
  {
   "cell_type": "code",
   "execution_count": null,
   "metadata": {},
   "outputs": [],
   "source": [
    "for year in ovin:\n",
    "\n",
    "    ovin[year]['FactorV_wd'] = ovin[year]['FactorV'] / workday_dict[year]"
   ]
  },
  {
   "cell_type": "markdown",
   "metadata": {},
   "source": [
    "2. Scale FactorV_wd to base year"
   ]
  },
  {
   "cell_type": "code",
   "execution_count": null,
   "metadata": {},
   "outputs": [],
   "source": [
    "for year in ovin:\n",
    "\n",
    "    ovin[year]['FactorV_wd_bj'] = ovin[year]['FactorV_wd'] * weight_pop[year]\n"
   ]
  },
  {
   "cell_type": "markdown",
   "metadata": {},
   "source": [
    "3. Make data representative for whole OViN population"
   ]
  },
  {
   "cell_type": "code",
   "execution_count": null,
   "metadata": {},
   "outputs": [],
   "source": [
    "# Determine tot persons in OViN year:\n",
    "ovin_pop = {}\n",
    "\n",
    "for year in ovin:\n",
    "    ovin_pop[year] = ovin[year][ovin[year].OP == 1].FactorV_wd_bj.sum()\n",
    "\n",
    "ovin_pop"
   ]
  },
  {
   "cell_type": "markdown",
   "metadata": {},
   "source": [
    "Keep only verplaatsingen data points that indicate a new verplaatsing (so people who make no verplaatsingen are omited)"
   ]
  },
  {
   "cell_type": "code",
   "execution_count": null,
   "metadata": {},
   "outputs": [],
   "source": [
    "for year in ovin:\n",
    "    ovin[year] = ovin[year][~ovin[year].Verpl.isnull()]\n",
    "    ovin[year] = ovin[year][ovin[year].Verpl != 0]\n",
    "# ovin[2013][~ovin[2013].Verpl.isnull()]"
   ]
  },
  {
   "cell_type": "code",
   "execution_count": null,
   "metadata": {},
   "outputs": [],
   "source": [
    "ovin[2013][ovin[2013].Verpl == 0]"
   ]
  },
  {
   "cell_type": "code",
   "execution_count": null,
   "metadata": {},
   "outputs": [],
   "source": [
    "# Determine tot verplaatsingen\n",
    "ovin_verpl = {}\n",
    "\n",
    "for year in ovin:\n",
    "    ovin_verpl[year] = ovin[year].FactorV_wd_bj.sum()\n",
    "\n",
    "ovin_verpl\n"
   ]
  },
  {
   "cell_type": "code",
   "execution_count": null,
   "metadata": {},
   "outputs": [],
   "source": [
    "# Determine no. of verpl per person\n",
    "verplPP = {}\n",
    "\n",
    "for year in ovin:\n",
    "    verplPP[year] = ovin_verpl[year] / ovin_pop[year]\n",
    "\n",
    "\n",
    "verplPP"
   ]
  },
  {
   "cell_type": "code",
   "execution_count": null,
   "metadata": {},
   "outputs": [],
   "source": [
    "# Determine tot verpl\n",
    "totAB_Verpl = {}\n",
    "\n",
    "for year in ovin:\n",
    "    totAB_Verpl[year] = verplPP[year] * tot_ovin_pop[year]\n",
    "\n",
    "\n",
    "totAB_Verpl"
   ]
  },
  {
   "cell_type": "code",
   "execution_count": null,
   "metadata": {},
   "outputs": [],
   "source": [
    "ovin[2013].FactorV_wd_bj.sum()"
   ]
  },
  {
   "cell_type": "code",
   "execution_count": null,
   "metadata": {},
   "outputs": [],
   "source": [
    "tot_verpl = np.sum(list(totAB_Verpl.values()))\n",
    "\n",
    "share_verpl = {}\n",
    "\n",
    "for year in ovin:\n",
    "    share_verpl[year] = totAB_Verpl[year] / tot_verpl\n",
    "\n",
    "\n",
    "share_verpl"
   ]
  },
  {
   "cell_type": "markdown",
   "metadata": {},
   "source": [
    "Divide all factors thourgh 5, to get the same total number of verplaatsingen whens stacking the dataset"
   ]
  },
  {
   "cell_type": "code",
   "execution_count": null,
   "metadata": {},
   "outputs": [],
   "source": [
    "for year in ovin:\n",
    "    ovin[year]['FactorV_wd_stack'] = ovin[year]['FactorV_wd_bj'] / 5"
   ]
  },
  {
   "cell_type": "code",
   "execution_count": null,
   "metadata": {},
   "outputs": [],
   "source": [
    "ovin_tot = pd.concat([ovin[2013], ovin[2014], ovin[2015], ovin[2016], ovin[2017]], ignore_index=True)"
   ]
  },
  {
   "cell_type": "code",
   "execution_count": null,
   "metadata": {},
   "outputs": [],
   "source": [
    "ovin_tot.FactorV_wd_stack.sum()"
   ]
  },
  {
   "cell_type": "code",
   "execution_count": null,
   "metadata": {},
   "outputs": [],
   "source": [
    "ovin_verpl"
   ]
  },
  {
   "cell_type": "markdown",
   "metadata": {},
   "source": [
    "## Missing postcodes"
   ]
  },
  {
   "cell_type": "code",
   "execution_count": null,
   "metadata": {},
   "outputs": [],
   "source": [
    "missing_PC = ovin_tot[(ovin_tot['AankPC'] == '0000') | (ovin_tot['VertPC'] == '0000') | \n",
    "                      (ovin_tot['AankPC'] == 0) | (ovin_tot['VertPC'] == 0)| \n",
    "                      (ovin_tot['AankPC'] == '0') | (ovin_tot['VertPC'] == '0')]\n",
    "print(len(missing_PC))\n",
    "\n",
    "scale = len(ovin_tot) / (len(ovin_tot) - (len(missing_PC)))\n",
    "scale = ovin_tot.FactorV_wd_stack.sum() / (ovin_tot.FactorV_wd_stack.sum() - missing_PC.FactorV_wd_stack.sum())\n",
    "print(scale)\n",
    "\n",
    "ovin_tot['FactorV_final'] = ovin_tot['FactorV_wd_stack'] * scale\n",
    "                "
   ]
  },
  {
   "cell_type": "code",
   "execution_count": null,
   "metadata": {},
   "outputs": [],
   "source": [
    "missing_PC[['AankPC', 'VertPC']]"
   ]
  },
  {
   "cell_type": "code",
   "execution_count": null,
   "metadata": {},
   "outputs": [],
   "source": [
    "# Delete missing values\n",
    "ovin_tot = ovin_tot[~((ovin_tot['AankPC'] == '0000') | (ovin_tot['VertPC'] == '0000') | \n",
    "                      (ovin_tot['AankPC'] == 0) | (ovin_tot['VertPC'] == 0)| \n",
    "                      (ovin_tot['AankPC'] == '0') | (ovin_tot['VertPC'] == '0'))]"
   ]
  },
  {
   "cell_type": "code",
   "execution_count": null,
   "metadata": {},
   "outputs": [],
   "source": [
    "ovin_tot"
   ]
  },
  {
   "cell_type": "markdown",
   "metadata": {},
   "source": [
    "## Save data"
   ]
  },
  {
   "cell_type": "code",
   "execution_count": null,
   "metadata": {},
   "outputs": [],
   "source": [
    "ovin_tot.to_csv(parent_dir + '\\\\Data\\\\New\\\\merged_ovin.csv')"
   ]
  }
 ],
 "metadata": {
  "kernelspec": {
   "display_name": "geospatial",
   "language": "python",
   "name": "geospatial"
  },
  "language_info": {
   "codemirror_mode": {
    "name": "ipython",
    "version": 3
   },
   "file_extension": ".py",
   "mimetype": "text/x-python",
   "name": "python",
   "nbconvert_exporter": "python",
   "pygments_lexer": "ipython3",
   "version": "3.9.18"
  }
 },
 "nbformat": 4,
 "nbformat_minor": 2
}
