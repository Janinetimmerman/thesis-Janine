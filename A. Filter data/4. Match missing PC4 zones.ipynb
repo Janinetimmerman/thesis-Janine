{
 "cells": [
  {
   "cell_type": "markdown",
   "metadata": {},
   "source": [
    "In this notebook the all PC4 zones are matched to LMS zones that could not be matched easily. "
   ]
  },
  {
   "cell_type": "code",
   "execution_count": null,
   "metadata": {},
   "outputs": [],
   "source": [
    "import pandas as pd\n",
    "import geopandas as gpd\n",
    "import numpy as np\n",
    "import matplotlib.pyplot as plt\n",
    "import os\n",
    "\n",
    "%matplotlib inline"
   ]
  },
  {
   "cell_type": "markdown",
   "metadata": {},
   "source": [
    "Load all neccesary files"
   ]
  },
  {
   "cell_type": "code",
   "execution_count": null,
   "metadata": {},
   "outputs": [],
   "source": [
    "parent_dir = os.path.split(os.getcwd())[0] # Get parent directory"
   ]
  },
  {
   "cell_type": "code",
   "execution_count": null,
   "metadata": {},
   "outputs": [],
   "source": [
    "lms_zones = gpd.read_file(parent_dir + '\\\\Data\\\\New\\\\lms_zone_du.shp') # load shapefile lms zones with DU\n",
    "pc4 = gpd.read_file(parent_dir + '\\Data\\PC4 2022\\cbs_pc4_2019_vol.gpkg') # load PC4 zones according to the CBS\n",
    "\n",
    "# Lists of pc4 zpnes without match\n",
    "missingPC4 = np.loadtxt(parent_dir + '\\\\Data\\\\New\\\\missingPC4.csv')\n",
    "doublePC4 = pd.read_csv(parent_dir + '\\\\Data\\\\New\\\\duplicatedPC4.csv')"
   ]
  },
  {
   "cell_type": "code",
   "execution_count": null,
   "metadata": {},
   "outputs": [],
   "source": [
    "lms_du = gpd.read_file(parent_dir + '\\\\Data\\\\New\\\\lms_zone_du_new.shp')\n",
    "lms_pc4 = pd.read_csv(parent_dir + '\\\\Data\\\\New\\\\lms_pc4_match_new.csv')"
   ]
  },
  {
   "cell_type": "code",
   "execution_count": null,
   "metadata": {},
   "outputs": [],
   "source": [
    "ovin = pd.read_csv(parent_dir + '\\\\Data\\\\New\\\\Ovin_final.csv', index_col=0)"
   ]
  },
  {
   "cell_type": "markdown",
   "metadata": {},
   "source": [
    "Get centroids of PC4 zones"
   ]
  },
  {
   "cell_type": "code",
   "execution_count": null,
   "metadata": {},
   "outputs": [],
   "source": [
    "pc4_cent = pc4[['postcode4', 'geometry']]\n",
    "pc4_cent.loc[:, 'geometry'] = pc4.geometry.centroid"
   ]
  },
  {
   "cell_type": "code",
   "execution_count": null,
   "metadata": {},
   "outputs": [],
   "source": [
    "lms_zones.crs ='EPSG:28992' # give LMS zones right coordinate system"
   ]
  },
  {
   "cell_type": "markdown",
   "metadata": {},
   "source": [
    "These plots can be used to plot the PC4zones and corresponding LMS zones for the PC4 zones that are matched twice."
   ]
  },
  {
   "cell_type": "code",
   "execution_count": null,
   "metadata": {},
   "outputs": [],
   "source": [
    "double_arr = np.array(list(set(doublePC4.PC4)))\n",
    "\n",
    "x = double_arr[36]  # 16 25"
   ]
  },
  {
   "cell_type": "code",
   "execution_count": null,
   "metadata": {},
   "outputs": [],
   "source": [
    "lms_arr = np.array(doublePC4[doublePC4.PC4 == x].LMS)\n",
    "x = str(x)[:4]"
   ]
  },
  {
   "cell_type": "code",
   "execution_count": null,
   "metadata": {},
   "outputs": [],
   "source": [
    "f, ax = plt.subplots(1, 1)\n",
    "\n",
    "for zone in lms_arr:\n",
    "    new_gdf = lms_zones[lms_zones.ZONE_ID == zone]\n",
    "    lms_plot = new_gdf.plot(ax=ax, facecolor='none', edgecolor='lightgrey', linewidth=4)\n",
    "\n",
    "pc4_plot = pc4[pc4['postcode4'] == x].plot(ax=ax, facecolor='none', edgecolor='red', linestyle='--', linewidth=2)\n",
    "pc4_cent[pc4_cent['postcode4'] == x].plot(ax=ax, label='Centroid PC4 zone')\n",
    "\n",
    "ax.plot([], [], label='LMS zones', color='grey')\n",
    "ax.plot([], [], label='PC4 zones', color='red', linestyle='--')\n",
    "ax.set_xticks([])\n",
    "ax.set_yticks([])\n",
    "ax.set_title('3 LMS zones within 1 PC4 zone')\n",
    "plt.legend()\n"
   ]
  },
  {
   "cell_type": "markdown",
   "metadata": {},
   "source": [
    "Next, look at the zones without any LMS zone match. This is matched manually."
   ]
  },
  {
   "cell_type": "code",
   "execution_count": null,
   "metadata": {},
   "outputs": [],
   "source": [
    "match_gdf = lms_zones.sjoin_nearest(pc4_cent, how='left', distance_col='dist_zone')"
   ]
  },
  {
   "cell_type": "code",
   "execution_count": null,
   "metadata": {},
   "outputs": [],
   "source": [
    "x = str(missingPC4[1])[:4]\n",
    "x"
   ]
  },
  {
   "cell_type": "code",
   "execution_count": null,
   "metadata": {},
   "outputs": [],
   "source": [
    "empty_pc = []\n",
    "match_arr = np.zeros((len(missingPC4), 2))\n",
    "i = 0\n",
    "\n",
    "for pc in missingPC4:\n",
    "\n",
    "    x = str(pc)[:4]\n",
    "\n",
    "    match = match_gdf[match_gdf['postcode4'] == x]\n",
    "    \n",
    "\n",
    "    f, ax = plt.subplots(1, 1)\n",
    "\n",
    "    lms_plot = match.plot(ax=ax, facecolor='none', edgecolor='lightgrey', linewidth=4)\n",
    "    pc4_plot = pc4[pc4['postcode4'] == x].plot(ax=ax, facecolor='none', edgecolor='red', linestyle='--', linewidth=2)\n",
    "    pc4_cent[pc4_cent['postcode4'] == x].plot(ax=ax, label='Centroid PC4 zone')\n",
    "\n",
    "    ax.plot([], [], label='LMS zones', color='grey')\n",
    "    ax.plot([], [], label='PC4 zones', color='red', linestyle='--')\n",
    "    ax.set_xticks([])\n",
    "    ax.set_yticks([])\n",
    "    \n",
    "    if len(match.ZONE_ID) == 1:\n",
    "        ax.set_title(f'Postal code {x} and LMS zone {int(match.ZONE_ID.iloc[0])}')\n",
    "        match_arr[i, :] = [int(x), int(match.ZONE_ID.iloc[0])]\n",
    "\n",
    "    elif len(match.ZONE_ID) == 0:\n",
    "        ax.set_title(f'No match could be found for: {x}')\n",
    "        empty_pc.append(x)\n",
    "    else:\n",
    "        ax.set_title(f'Postal code {x} has been matched with {np.array(match.ZONE_ID)}')\n",
    "    plt.legend()\n",
    "\n",
    "    i += 1\n",
    "\n",
    "    # break"
   ]
  },
  {
   "cell_type": "code",
   "execution_count": null,
   "metadata": {},
   "outputs": [],
   "source": [
    "match_arr = match_arr[match_arr != 0].reshape(33, 2)"
   ]
  },
  {
   "cell_type": "code",
   "execution_count": null,
   "metadata": {},
   "outputs": [],
   "source": [
    "match_df = pd.DataFrame(match_arr, columns=['PC4', 'LMS'])"
   ]
  },
  {
   "cell_type": "code",
   "execution_count": null,
   "metadata": {},
   "outputs": [],
   "source": [
    "match_df = lms_pc4.merge(match_df, how='outer', on=['PC4', 'LMS'])"
   ]
  },
  {
   "cell_type": "markdown",
   "metadata": {},
   "source": [
    "Add final matches to the OViN combined dataframe."
   ]
  },
  {
   "cell_type": "code",
   "execution_count": null,
   "metadata": {},
   "outputs": [],
   "source": [
    "ovin.loc[:, 'VertZone'] = ovin['VertPC'].map(match_df.set_index('PC4')['LMS'])\n",
    "ovin.loc[:, 'AankZone'] = ovin['AankPC'].map(match_df.set_index('PC4')['LMS'])\n",
    "\n",
    "ovin.loc[:, 'VertDU'] = ovin['VertZone'].map(lms_du.set_index('ZONE_ID')['deg_urba'])\n",
    "ovin.loc[:, 'AankDU'] = ovin['AankZone'].map(lms_du.set_index('ZONE_ID')['deg_urba'])\n"
   ]
  },
  {
   "cell_type": "markdown",
   "metadata": {},
   "source": [
    "There are still 152 trips with a missing zone. These will also be removed."
   ]
  },
  {
   "cell_type": "code",
   "execution_count": null,
   "metadata": {},
   "outputs": [],
   "source": [
    "ovin = ovin[~((ovin.VertZone.isnull()) | (ovin.AankZone.isnull()))]"
   ]
  },
  {
   "cell_type": "code",
   "execution_count": null,
   "metadata": {},
   "outputs": [],
   "source": [
    "ovin[ovin.OP == 1]"
   ]
  },
  {
   "cell_type": "markdown",
   "metadata": {},
   "source": [
    "## Save to csv"
   ]
  },
  {
   "cell_type": "code",
   "execution_count": null,
   "metadata": {},
   "outputs": [],
   "source": [
    "# ovin.to_csv(parent_dir + '\\\\Data\\\\New\\\\Ovin_DU_newv2.csv')"
   ]
  }
 ],
 "metadata": {
  "kernelspec": {
   "display_name": "geospatial",
   "language": "python",
   "name": "geospatial"
  },
  "language_info": {
   "codemirror_mode": {
    "name": "ipython",
    "version": 3
   },
   "file_extension": ".py",
   "mimetype": "text/x-python",
   "name": "python",
   "nbconvert_exporter": "python",
   "pygments_lexer": "ipython3",
   "version": "3.9.18"
  }
 },
 "nbformat": 4,
 "nbformat_minor": 2
}
