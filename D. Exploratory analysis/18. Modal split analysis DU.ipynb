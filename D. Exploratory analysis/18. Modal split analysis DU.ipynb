{
 "cells": [
  {
   "cell_type": "code",
   "execution_count": null,
   "metadata": {},
   "outputs": [],
   "source": [
    "import pandas as pd\n",
    "import geopandas as gpd\n",
    "import numpy as np\n",
    "import matplotlib.pyplot as plt\n",
    "import os\n",
    "from matplotlib.colors import ListedColormap\n",
    "\n",
    "\n",
    "%matplotlib inline"
   ]
  },
  {
   "cell_type": "code",
   "execution_count": null,
   "metadata": {},
   "outputs": [],
   "source": [
    "parent_dir = os.path.split(os.getcwd())[0]"
   ]
  },
  {
   "cell_type": "code",
   "execution_count": null,
   "metadata": {},
   "outputs": [],
   "source": [
    "zones = gpd.read_file(parent_dir + '\\\\Data\\\\New\\\\lms_zone_du_new.shp')\n",
    "ovin_tb = pd.read_csv(parent_dir + '\\\\Data\\\\New\\\\lms_zone_ovin_travel_behaviour.csv', index_col=0)\n",
    "lms_tb = pd.read_csv(parent_dir + '\\\\Data\\\\New\\\\lms_zone_lms_modal_split.csv', index_col=0)"
   ]
  },
  {
   "cell_type": "code",
   "execution_count": null,
   "metadata": {},
   "outputs": [],
   "source": [
    "lms_orig = pd.read_csv(parent_dir + '\\\\Data\\\\New\\\\lms_modal_split_orig_abs.csv', index_col=0)\n",
    "lms_dest = pd.read_csv(parent_dir + '\\\\Data\\\\New\\\\lms_modal_split_dest_abs.csv', index_col=0)"
   ]
  },
  {
   "cell_type": "code",
   "execution_count": null,
   "metadata": {},
   "outputs": [],
   "source": [
    "lms_tot = lms_orig.iloc[:, 1:8].sum(axis=1) # Total trips for each zone"
   ]
  },
  {
   "cell_type": "code",
   "execution_count": null,
   "metadata": {},
   "outputs": [],
   "source": [
    "lms_tb2 = lms_tb.iloc[:, 1:8].copy()\n",
    "lms_tb2.iloc[:, 3] = lms_tb2.iloc[:, 3:5].sum(axis=1)\n",
    "lms_tb2 = lms_tb2.drop(columns='Tram/Metro_o')\n",
    "lms_tb2['Factor'] = lms_tot"
   ]
  },
  {
   "cell_type": "code",
   "execution_count": null,
   "metadata": {},
   "outputs": [],
   "source": [
    "lms_tb2"
   ]
  },
  {
   "cell_type": "markdown",
   "metadata": {},
   "source": [
    "### Get travel behaviour for each DU"
   ]
  },
  {
   "cell_type": "code",
   "execution_count": null,
   "metadata": {},
   "outputs": [],
   "source": [
    "lms_du = np.zeros((6, 6))\n",
    "ovin_du = np.zeros((6, 6))\n",
    "\n",
    "for du in range(1, 7):\n",
    "\n",
    "    zone_list = zones[zones.deg_urba == du].ZONE_ID # Get all zones with certain DU\n",
    "    \n",
    "    # Determine percentagese for LMS\n",
    "    lms_sum = lms_orig[lms_orig.ZONE_ID.isin(zone_list)].sum()[1:] # Get total trips of each mode\n",
    "    lms_tot = lms_sum.sum()\n",
    "\n",
    "    p = lms_sum / lms_tot * 100\n",
    "    p.iloc[3] = p.iloc[3:5].sum() # Combine btm\n",
    "    p = p.iloc[np.r_[0:4, 5:7]] # Remove metro row\n",
    "\n",
    "    lms_du[du - 1, :] = p\n",
    "\n",
    "    # Determine percentages for OViN\n",
    "    ovin_df = ovin_tb[ovin_tb.ZONE_ID.isin(zone_list)].iloc[:, np.r_[1:7, 29]] # Get right ovin data\n",
    "\n",
    "    for i in range(6): # Loop over modes and calculate weighted average\n",
    "        ovin_du[du - 1, i] = (ovin_df.iloc[:, i] * ovin_df.iloc[:, -1]).sum() / ovin_df.iloc[:, -1].sum()\n"
   ]
  },
  {
   "cell_type": "code",
   "execution_count": null,
   "metadata": {},
   "outputs": [],
   "source": [
    "ovin_df"
   ]
  },
  {
   "cell_type": "code",
   "execution_count": null,
   "metadata": {},
   "outputs": [],
   "source": [
    "ovin_tb.iloc[:, np.r_[1:7, 29]]"
   ]
  },
  {
   "cell_type": "code",
   "execution_count": null,
   "metadata": {},
   "outputs": [],
   "source": [
    "def reindex_df(df, weight_col):\n",
    "    \"\"\"expand the dataframe to prepare for resampling\n",
    "    result is 1 row per count per sample\"\"\"\n",
    "    df = df.reindex(df.index.repeat(df[weight_col]))\n",
    "    df.reset_index(drop=True, inplace=True)\n",
    "    return(df)"
   ]
  },
  {
   "cell_type": "markdown",
   "metadata": {},
   "source": [
    "## Plot"
   ]
  },
  {
   "cell_type": "code",
   "execution_count": null,
   "metadata": {},
   "outputs": [],
   "source": [
    "du_list = np.arange(1, 7)"
   ]
  },
  {
   "cell_type": "code",
   "execution_count": null,
   "metadata": {},
   "outputs": [],
   "source": [
    "np.max([lms_du.max(), ovin_du.max()])\n",
    "\n",
    "(ovin_du - lms_du).max()"
   ]
  },
  {
   "cell_type": "code",
   "execution_count": null,
   "metadata": {},
   "outputs": [],
   "source": [
    "mode_labels = ['Car driver', 'Car passenger', 'Train',\n",
    "          'BTM', '(e)-Bike', 'Walking']"
   ]
  },
  {
   "cell_type": "code",
   "execution_count": null,
   "metadata": {},
   "outputs": [],
   "source": [
    "f, ax = plt.subplots(3, 6)\n",
    "f.set_figwidth(15)\n",
    "f.set_figheight(15)\n",
    "\n",
    "\n",
    "max_val = [np.max([lms_du.max(), ovin_du.max()]), 10, 80]\n",
    "min_val = [0, -10, -50]\n",
    "step = [5, 2, 10]\n",
    "\n",
    "ax[1, 5].plot([], [], color=\"#D55E00\", label='OViN', linewidth=5)\n",
    "ax[1, 5].plot([], [], color=\"#0072B2\", label='LMS', linewidth=5)\n",
    "ax[1, 5].plot([], [], color=\"#009E73\", label='Absolute difference OViN - LMS', linewidth=5)\n",
    "ax[1, 5].plot([], [], color=\"#E69F00\", label='Relative difference OViN - LMS', linewidth=5)\n",
    "\n",
    "handles, labels = ax[1, 5].get_legend_handles_labels()\n",
    "\n",
    "\n",
    "for i in range(3):\n",
    "\n",
    "    for j in range(6):\n",
    "\n",
    "        if i == 0:\n",
    "            ax[0, j].bar(du_list - 0.2, ovin_du[:, j], color=\"#D55E00\", width=0.35)\n",
    "            \n",
    "            ax[0, j].bar(du_list + 0.2, lms_du[:, j], color=\"#0072B2\", width=0.35)\n",
    "            \n",
    "            ax[1, j].bar(du_list, (-ovin_du[:, j] + lms_du[:, j]), color=\"#009E73\")\n",
    "\n",
    "            ax[2, j].bar(du_list, (-ovin_du[:, j] + lms_du[:, j]) / ovin_du[:, j] * 100, color=\"#E69F00\")\n",
    "\n",
    "\n",
    "            # ax[0, j].set_title(f'{mode_labels[j]}')\n",
    "            # ax[1, j].set_title(f'{mode_labels[j]}')\n",
    "        \n",
    "        # if i == 2:\n",
    "        ax[i, j].set_xlabel('Degree of urbanisation')\n",
    "        \n",
    "        ax[i, j].set_title(f'{mode_labels[j]}')\n",
    "        ax[i, j].set_axisbelow(True)\n",
    "        ax[i, j].grid(axis='y')\n",
    "\n",
    "        \n",
    "        \n",
    "\n",
    "        if i == 3:\n",
    "            for k in range(6):\n",
    "                ax[i, j].boxplot(reindex_df(ovin_tb[zones.deg_urba.isin([1 + k])].iloc[:, np.r_[1 + j, 29]].dropna(),\n",
    "                                         'Factor_o').iloc[:, 0], positions=[k + 0.8], showfliers=False, \n",
    "                                         medianprops=dict(color=\"#D55E00\", linewidth=2))\n",
    "                \n",
    "\n",
    "                ax[i, j].boxplot(reindex_df(lms_tb2[zones.deg_urba.isin([1 + k])].dropna(),\n",
    "                                         'Factor').iloc[:, j], positions=[k + 1.2], showfliers=False, \n",
    "                                         medianprops=dict(color=\"#0072B2\", linewidth=2))\n",
    "                \n",
    "                \n",
    "                ax[i, j].set_ylim(0, 60)\n",
    "        \n",
    "        ax[i, j].set_yticks(np.arange(min_val[i], max_val[i] + step[i], step[i]))\n",
    "        ax[i, j].set_xticks(np.arange(1, 7))\n",
    "\n",
    "\n",
    "ax[0, 0].set_ylabel('Share of trips made by mode [%]')\n",
    "ax[1, 0].set_ylabel('Absolute difference OViN - LMS [%-point]')\n",
    "ax[2, 0].set_ylabel('Relative difference OViN - LMS [%]')\n",
    "\n",
    "\n",
    "\n",
    "\n",
    "f.legend(handles, labels, loc='upper right', bbox_to_anchor=(0.9, 1.0))\n",
    "f.suptitle('(Difference in) modal split LMS and OViN \\nfor degree of urbanisation of the origin zone',\n",
    "           fontsize='xx-large');"
   ]
  },
  {
   "cell_type": "code",
   "execution_count": null,
   "metadata": {},
   "outputs": [],
   "source": [
    "ovin_tb[zones.deg_urba.isin([1])].iloc[:, np.r_[1 + 0, 29]]"
   ]
  },
  {
   "cell_type": "code",
   "execution_count": null,
   "metadata": {},
   "outputs": [],
   "source": [
    "ListedColormap([\"#E69F00\", \"#56B4E9\", \"#009E73\", \"#F0E442\", \"#0072B2\", \"#D55E00\", \"#CC79A7\", \"#000000\"])"
   ]
  },
  {
   "cell_type": "code",
   "execution_count": null,
   "metadata": {},
   "outputs": [],
   "source": []
  }
 ],
 "metadata": {
  "kernelspec": {
   "display_name": "geospatial",
   "language": "python",
   "name": "geospatial"
  },
  "language_info": {
   "codemirror_mode": {
    "name": "ipython",
    "version": 3
   },
   "file_extension": ".py",
   "mimetype": "text/x-python",
   "name": "python",
   "nbconvert_exporter": "python",
   "pygments_lexer": "ipython3",
   "version": "3.9.18"
  }
 },
 "nbformat": 4,
 "nbformat_minor": 2
}
