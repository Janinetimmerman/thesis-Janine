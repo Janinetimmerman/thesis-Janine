{
 "cells": [
  {
   "cell_type": "code",
   "execution_count": null,
   "metadata": {},
   "outputs": [],
   "source": [
    "import pandas as pd\n",
    "import geopandas as gpd\n",
    "import numpy as np\n",
    "import matplotlib.pyplot as plt\n",
    "import os\n",
    "\n",
    "%matplotlib inline"
   ]
  },
  {
   "cell_type": "code",
   "execution_count": null,
   "metadata": {},
   "outputs": [],
   "source": [
    "parent_dir = os.path.split(os.getcwd())[0]"
   ]
  },
  {
   "cell_type": "code",
   "execution_count": null,
   "metadata": {},
   "outputs": [],
   "source": [
    "zones = gpd.read_file(parent_dir + '\\\\Data\\\\New\\\\lms_zone_du_new.shp')\n",
    "ovin_tb = pd.read_csv(parent_dir + '\\\\Data\\\\New\\\\lms_zone_ovin_travel_behaviour.csv', index_col=0)\n",
    "lms_tb = pd.read_csv(parent_dir + '\\\\Data\\\\New\\\\lms_zone_lms_modal_split.csv', index_col=0)"
   ]
  },
  {
   "cell_type": "code",
   "execution_count": null,
   "metadata": {},
   "outputs": [],
   "source": [
    "zones['Count'] = np.zeros(len(zones))"
   ]
  },
  {
   "cell_type": "code",
   "execution_count": null,
   "metadata": {},
   "outputs": [],
   "source": [
    "zones.loc[ovin_tb.Count_o > 20, 'Count'] = 1 # Mark all zones with 20 or less data points"
   ]
  },
  {
   "cell_type": "markdown",
   "metadata": {},
   "source": [
    "## Functions for plotting and selecting data"
   ]
  },
  {
   "cell_type": "code",
   "execution_count": null,
   "metadata": {},
   "outputs": [],
   "source": [
    "def select_zones(name_list, area_type='GEM_NAAM', du=None):\n",
    "    \"\"\"Select the zones to use\n",
    "    \n",
    "    Area types:\n",
    "    - \"GEM_NAAM\"\n",
    "    - \"PROV\"\n",
    "    \"\"\"\n",
    "\n",
    "    zone_df = zones[zones[area_type].isin(name_list)]\n",
    "\n",
    "    if du is not None:\n",
    "        zone_df = zone_df[zone_df['deg_urba'] == du]\n",
    "\n",
    "    return zone_df"
   ]
  },
  {
   "cell_type": "code",
   "execution_count": null,
   "metadata": {},
   "outputs": [],
   "source": [
    "def select_ovin_lms(zone, direction='o'):\n",
    "    \"\"\"\n",
    "    Select the zones in the ovin and lms dataframe\n",
    "\n",
    "    - 'o' is origin\n",
    "    - 'd' is destination\n",
    "    \"\"\"\n",
    "\n",
    "    # Make arrays of all zones_IDs in that zone\n",
    "    zone_arr = np.array(zone['ZONE_ID'])\n",
    "\n",
    "    ovin_df = ovin_tb[ovin_tb.ZONE_ID.isin(zone_arr)]\n",
    "    lms_df = lms_tb[lms_tb.ZONE_ID.isin(zone_arr)]\n",
    "\n",
    "    if direction == 'o':\n",
    "        ovin_df = ovin_df.iloc[:, np.r_[0:7]]\n",
    "        lms_df = lms_df.iloc[:, np.r_[0:8]]\n",
    "\n",
    "    elif direction == 'd':\n",
    "        ovin_df = ovin_df.iloc[:, np.r_[0, 7:13]]\n",
    "        lms_df = lms_df.iloc[:, np.r_[0, 8:15]]\n",
    "    \n",
    "    else:\n",
    "        print('No valid direction')\n",
    "    \n",
    "    return ovin_df, lms_df"
   ]
  },
  {
   "cell_type": "code",
   "execution_count": null,
   "metadata": {},
   "outputs": [],
   "source": [
    "pd.options.mode.chained_assignment = None"
   ]
  },
  {
   "cell_type": "code",
   "execution_count": null,
   "metadata": {},
   "outputs": [],
   "source": [
    "def select_modes(zone, ovin_df, lms_df, modes='c-btm-a'):\n",
    "    \"\"\"\n",
    "    Create zone dataframe with the right modes\n",
    "    \"\"\"\n",
    "\n",
    "    if modes == 'c-btm-a':\n",
    "\n",
    "        zone.loc[:, 'car_ovin'] = ovin_df.iloc[:, 1:3].sum(axis=1)\n",
    "        zone.loc[:, 'car_lms'] = lms_df.iloc[:, 1:3].sum(axis=1)\n",
    "        zone.loc[:, 'car_diff'] = ovin_df.iloc[:, 1:3].sum(axis=1) - lms_df.iloc[:, 1:3].sum(axis=1)\n",
    "\n",
    "        zone.loc[:, 'btm_ovin'] = ovin_df.iloc[:, 3:5].sum(axis=1)\n",
    "        zone.loc[:, 'btm_lms'] = lms_df.iloc[:, 3:6].sum(axis=1)\n",
    "        zone.loc[:, 'btm_diff'] = ovin_df.iloc[:, 3:5].sum(axis=1) - lms_df.iloc[:, 3:6].sum(axis=1)\n",
    "\n",
    "        zone.loc[:, 'active_ovin'] = ovin_df.iloc[:, 5:].sum(axis=1)\n",
    "        zone.loc[:, 'active_lms'] = lms_df.iloc[:, 6:].sum(axis=1)\n",
    "        zone.loc[:, 'active_diff'] = ovin_df.iloc[:, 5:].sum(axis=1) - lms_df.iloc[:, 6:].sum(axis=1)\n",
    "\n",
    "    elif modes == 'all':\n",
    "\n",
    "        zone.loc[:, 'card_ovin'] = ovin_df.iloc[:, 1:2].sum(axis=1)\n",
    "        zone.loc[:, 'card_lms'] = lms_df.iloc[:, 1:2].sum(axis=1)\n",
    "        zone.loc[:, 'card_diff'] = (- ovin_df.iloc[:, 1:2].sum(axis=1) + lms_df.iloc[:, 1:2].sum(axis=1)) / ovin_df.iloc[:, 1:2].sum(axis=1) * 100\n",
    "        # zone.loc[:, 'card_diff'] = (ovin_df.iloc[:, 1:2].sum(axis=1) - lms_df.iloc[:, 1:2].sum(axis=1))\n",
    "\n",
    "        zone.loc[:, 'carp_ovin'] = ovin_df.iloc[:, 2:3].sum(axis=1)\n",
    "        zone.loc[:, 'carp_lms'] = lms_df.iloc[:, 2:3].sum(axis=1)\n",
    "        zone.loc[:, 'carp_diff'] = (- ovin_df.iloc[:, 2:3].sum(axis=1) + lms_df.iloc[:, 2:3].sum(axis=1)) / ovin_df.iloc[:, 2:3].sum(axis=1) * 100\n",
    "        # zone.loc[:, 'carp_diff'] = (ovin_df.iloc[:, 2:3].sum(axis=1) - lms_df.iloc[:, 2:3].sum(axis=1)) \n",
    "\n",
    "        zone.loc[:, 'train_ovin'] = ovin_df.iloc[:, 3:4].sum(axis=1)\n",
    "        zone.loc[:, 'train_lms'] = lms_df.iloc[:, 3:4].sum(axis=1)\n",
    "        zone.loc[:, 'train_diff'] = (- ovin_df.iloc[:, 3:4].sum(axis=1) + lms_df.iloc[:, 3:4].sum(axis=1)) / ovin_df.iloc[:, 3:4].sum(axis=1) * 100\n",
    "        # zone.loc[:, 'train_diff'] = (ovin_df.iloc[:, 3:4].sum(axis=1) - lms_df.iloc[:, 3:4].sum(axis=1))\n",
    "\n",
    "\n",
    "        zone.loc[:, 'btm_ovin'] = ovin_df.iloc[:, 4:5].sum(axis=1)\n",
    "        zone.loc[:, 'btm_lms'] = lms_df.iloc[:, 4:6].sum(axis=1)\n",
    "        zone.loc[:, 'btm_diff'] = (- ovin_df.iloc[:, 4:5].sum(axis=1) + lms_df.iloc[:, 4:6].sum(axis=1)) / ovin_df.iloc[:, 4:5].sum(axis=1) * 100\n",
    "        # zone.loc[:, 'btm_diff'] = (ovin_df.iloc[:, 4:5].sum(axis=1) - lms_df.iloc[:, 4:6].sum(axis=1)) \n",
    "\n",
    "        zone.loc[:, 'bike_ovin'] = ovin_df.iloc[:, 5:6].sum(axis=1)\n",
    "        zone.loc[:, 'bike_lms'] = lms_df.iloc[:, 6:7].sum(axis=1)\n",
    "        zone.loc[:, 'bike_diff'] = (- ovin_df.iloc[:, 5:6].sum(axis=1) + lms_df.iloc[:, 6:7].sum(axis=1)) / ovin_df.iloc[:, 5:6].sum(axis=1) * 100\n",
    "        # zone.loc[:, 'bike_diff'] = (ovin_df.iloc[:, 5:6].sum(axis=1) - lms_df.iloc[:, 6:7].sum(axis=1))\n",
    "\n",
    "\n",
    "        zone.loc[:, 'walk_ovin'] = ovin_df.iloc[:, 6:7].sum(axis=1)\n",
    "        zone.loc[:, 'walk_lms'] = lms_df.iloc[:, 7:8].sum(axis=1)\n",
    "        zone.loc[:, 'walk_diff'] = (- ovin_df.iloc[:, 6:7].sum(axis=1) + lms_df.iloc[:, 7:8].sum(axis=1)) / ovin_df.iloc[:, 6:7].sum(axis=1) * 100\n",
    "        # zone.loc[:, 'walk_diff'] = (ovin_df.iloc[:, 6:7].sum(axis=1) - lms_df.iloc[:, 7:8].sum(axis=1))\n",
    "\n",
    " \n",
    "    \n",
    "    zone[zone == np.inf] = np.nan\n",
    "\n",
    "    return zone\n",
    "\n"
   ]
  },
  {
   "cell_type": "code",
   "execution_count": null,
   "metadata": {},
   "outputs": [],
   "source": [
    "def plot_modal_split(zone, location, d='o', size=9,\n",
    "                     labels=['Car', 'Public transport', 'Active modes']):\n",
    "\n",
    "    f, ax = plt.subplots(int(size / 3), 3)\n",
    "    f.set_figwidth(13)\n",
    "    f.set_figheight(size + 3)\n",
    "\n",
    "    # Get colormaps\n",
    "    # cmap_du = plt.get_cmap('YlOrRd', 6)\n",
    "    \n",
    "    \n",
    "    k = 0\n",
    "    for i in range(int(size / 3)):\n",
    "        zone_count = zone[zone.Count == 1]\n",
    "        \n",
    "        cmap_trip = plt.get_cmap('YlGn')\n",
    "        min_val = np.min([zone_count.iloc[:, -size + k].min(), zone_count.iloc[:, -size + k + 1].min()])\n",
    "        max_val = np.max([zone_count.iloc[:, -size + k].max(), zone_count.iloc[:, -size + k + 1].max()])\n",
    "        min_val = 0\n",
    "        max_val = np.round(max_val / 5) * 5\n",
    "\n",
    "        for j in range(3):\n",
    "            \n",
    "            legend_label = f'Percentage of \\n{labels[i]} trips'\n",
    "            legend_label = f'Share of trips made by\\n{labels[i]} [%]'\n",
    "            if i < 2:\n",
    "                legend_label = f'Share of trips made by\\n{labels[i]}s [%]'\n",
    "\n",
    "            if j == 0:\n",
    "                source = 'OViN'\n",
    "            elif j == 1:\n",
    "                source = 'LMS'\n",
    "            elif j == 2:\n",
    "                source = '\\nOViN - LMS difference'\n",
    "                \n",
    "                \n",
    "\n",
    "                max_val = np.max([zone_count.iloc[:, -size + k].max(), np.abs(zone_count.iloc[:, -size + k].min())])\n",
    "                min_val = -max_val\n",
    "\n",
    "                max_val = np.round(max_val / 5) * 5\n",
    "                min_val = -max_val\n",
    "        \n",
    "\n",
    "                max_val = 100\n",
    "                min_val = -100\n",
    "                cmap_trip = plt.get_cmap('RdBu_r')\n",
    "                # cmap_trip = plt.get_cmap('RdBu')\n",
    "\n",
    "\n",
    "                legend_label = f'%-points difference\\nbetween OViN and LMS'\n",
    "                legend_label = f'% difference \\nbetween OViN and LMS'\n",
    "            \n",
    "            label = f'{labels[i]} : {source}'\n",
    "\n",
    "            zone.plot(ax=ax[i, j], column=zone.columns[-size + k], vmin=min_val, vmax=max_val,\n",
    "                       cmap=cmap_trip, legend=True,\n",
    "                       legend_kwds={'label': legend_label})\n",
    "            \n",
    "            if len(zone[zone.Count == 0]) > 0:\n",
    "                zone[zone.Count == 0].plot(ax=ax[i, j], facecolor='lightskyblue', edgecolor='black', linewidth=0.1)\n",
    "            \n",
    "            if j == 2:\n",
    "                zone[zone.iloc[:, -size + k].isnull()].plot(ax=ax[i, j], facecolor='lightskyblue', edgecolor='black', linewidth=0.1)\n",
    "\n",
    "\n",
    "            ax[i, j].set_title(label)\n",
    "\n",
    "            if j != 2:\n",
    "                ax[i, j].set_facecolor('lightskyblue')\n",
    "            if j == 2:\n",
    "                ax[i, j].set_facecolor('xkcd:light grey blue')\n",
    "                ax[i, j].set_facecolor('lightskyblue')\n",
    "\n",
    "\n",
    "            ax[i, j].set_xticks([])\n",
    "            ax[i, j].set_yticks([])\n",
    "\n",
    "            k += 1\n",
    "    \n",
    "    if d == 'o':\n",
    "        dir = 'origin'\n",
    "    else:\n",
    "        dir = 'destination'\n",
    "\n",
    "    if isinstance(location[0], int):\n",
    "        location = ['Province'] \n",
    "    # f.suptitle(f'Modal split {\" \".join(location)} for {dir} zone', fontsize=20)\n",
    "\n"
   ]
  },
  {
   "cell_type": "code",
   "execution_count": null,
   "metadata": {},
   "outputs": [],
   "source": [
    "a = [1, 2]\n",
    "\n",
    "isinstance(a[0], int)"
   ]
  },
  {
   "cell_type": "code",
   "execution_count": null,
   "metadata": {},
   "outputs": [],
   "source": [
    "def execute(area, area_type='GEM_NAAM', size=9, \n",
    "            modes='c-btm-a',\n",
    "            labels=['Car', 'Public transport', 'Active modes']):\n",
    "    \n",
    "    \n",
    "    zone = select_zones(area, area_type=area_type)\n",
    "    ovin_df, lms_df = select_ovin_lms(zone)\n",
    "    \n",
    "    zone = select_modes(zone, ovin_df, lms_df, modes=modes)\n",
    "    plot_modal_split(zone, area, size=size, labels=labels)\n",
    "\n",
    "    return zone\n"
   ]
  },
  {
   "cell_type": "code",
   "execution_count": null,
   "metadata": {},
   "outputs": [],
   "source": [
    "import warnings\n",
    "warnings.simplefilter(action='ignore', category=FutureWarning)"
   ]
  },
  {
   "cell_type": "code",
   "execution_count": null,
   "metadata": {},
   "outputs": [],
   "source": [
    "area = ['Amsterdam']\n",
    "area = ['Den Haag', 'Zoetermeer', 'Leiden', 'Delft']\n",
    "# area = \n",
    "\n",
    "z = execute(area, size=18, modes='all',\n",
    "        labels=['Car driver', 'Car passenger', 'Train',\n",
    "                'BTM', '(e)-Bike', 'Walking'])"
   ]
  },
  {
   "cell_type": "markdown",
   "metadata": {},
   "source": [
    "# DU"
   ]
  },
  {
   "cell_type": "code",
   "execution_count": null,
   "metadata": {},
   "outputs": [],
   "source": [
    "f, ax = plt.subplots(1, 1)\n",
    "f.set_figwidth(11)\n",
    "f.set_figheight(5)\n",
    "\n",
    "cmap = plt.get_cmap('YlOrRd', lut=6)\n",
    "\n",
    "zones[zones.PROV.isin([10])].plot(ax=ax, column='deg_urba', cmap=cmap, vmin=1, vmax=6,\n",
    "         legend=True, legend_kwds={\"label\": \"Degree of urbanisation\"})\n",
    "\n",
    "ax.set_xticks([])\n",
    "ax.set_yticks([])\n",
    "ax.set_facecolor('lightskyblue')\n",
    "ax.set_title(f'Degree of urbanisation for Zeeland');"
   ]
  },
  {
   "cell_type": "code",
   "execution_count": null,
   "metadata": {},
   "outputs": [],
   "source": [
    "area = ['Den Haag', 'Zoetermeer', 'Leiden', 'Delft']\n",
    "area = ['Amsterdam']\n"
   ]
  },
  {
   "cell_type": "code",
   "execution_count": null,
   "metadata": {},
   "outputs": [],
   "source": [
    "f, ax = plt.subplots(1, 1)\n",
    "f.set_figwidth(11)\n",
    "f.set_figheight(5)\n",
    "\n",
    "cmap = plt.get_cmap('YlOrRd', lut=6)\n",
    "\n",
    "zones[zones.GEM_NAAM.isin(area)].plot(ax=ax, column='deg_urba', cmap=cmap, vmin=1, vmax=6,\n",
    "         legend=True, legend_kwds={\"label\": \"Degree of urbanisation\"})\n",
    "\n",
    "ax.set_xticks([])\n",
    "ax.set_yticks([])\n",
    "ax.set_facecolor('lightskyblue')\n",
    "ax.set_title(f'Degree of urbanisation for Amsterdam');"
   ]
  },
  {
   "cell_type": "code",
   "execution_count": null,
   "metadata": {},
   "outputs": [],
   "source": []
  }
 ],
 "metadata": {
  "kernelspec": {
   "display_name": "geospatial",
   "language": "python",
   "name": "geospatial"
  },
  "language_info": {
   "codemirror_mode": {
    "name": "ipython",
    "version": 3
   },
   "file_extension": ".py",
   "mimetype": "text/x-python",
   "name": "python",
   "nbconvert_exporter": "python",
   "pygments_lexer": "ipython3",
   "version": "3.9.18"
  }
 },
 "nbformat": 4,
 "nbformat_minor": 2
}
