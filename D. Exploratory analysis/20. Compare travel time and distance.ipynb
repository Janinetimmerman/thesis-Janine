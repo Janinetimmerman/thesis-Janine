{
 "cells": [
  {
   "cell_type": "code",
   "execution_count": null,
   "metadata": {},
   "outputs": [],
   "source": [
    "import pandas as pd\n",
    "import geopandas as gpd\n",
    "import numpy as np\n",
    "import matplotlib.pyplot as plt\n",
    "import os\n",
    "\n",
    "%matplotlib inline"
   ]
  },
  {
   "cell_type": "code",
   "execution_count": null,
   "metadata": {},
   "outputs": [],
   "source": [
    "parent_dir = os.path.split(os.getcwd())[0]"
   ]
  },
  {
   "cell_type": "code",
   "execution_count": null,
   "metadata": {},
   "outputs": [],
   "source": [
    "zones = gpd.read_file(parent_dir + '\\\\Data\\\\New\\\\lms_zone_du_new.shp')\n",
    "ovin_tb = pd.read_csv(parent_dir + '\\\\Data\\\\New\\\\lms_zone_ovin_travel_behaviour.csv', index_col=0)\n",
    "lms_tb = pd.read_csv(parent_dir + '\\\\Data\\\\New\\\\lms_zone_lms_modal_split.csv', index_col=0)\n",
    "lms_tt_td = pd.read_csv(parent_dir + '\\\\Data\\\\New\\\\lms_zone_lms_tt_td.csv')"
   ]
  },
  {
   "cell_type": "code",
   "execution_count": null,
   "metadata": {},
   "outputs": [],
   "source": [
    "ovin = pd.read_csv(parent_dir + '\\\\Data\\\\New\\\\Ovin_final.csv', index_col=0)"
   ]
  },
  {
   "cell_type": "code",
   "execution_count": null,
   "metadata": {},
   "outputs": [],
   "source": [
    "lms_orig = pd.read_csv(parent_dir + '\\\\Data\\\\New\\\\lms_modal_split_orig_abs.csv', index_col=0)\n",
    "lms_dest = pd.read_csv(parent_dir + '\\\\Data\\\\New\\\\lms_modal_split_dest_abs.csv', index_col=0)"
   ]
  },
  {
   "cell_type": "markdown",
   "metadata": {},
   "source": [
    "## Get average tt and td for each zone"
   ]
  },
  {
   "cell_type": "code",
   "execution_count": null,
   "metadata": {},
   "outputs": [],
   "source": [
    "lms_tb['Bus_o'] = lms_tb.iloc[:, 4:6].sum(axis=1)"
   ]
  },
  {
   "cell_type": "code",
   "execution_count": null,
   "metadata": {},
   "outputs": [],
   "source": [
    "lms_tb = lms_tb.drop(columns='Tram/Metro_o')"
   ]
  },
  {
   "cell_type": "code",
   "execution_count": null,
   "metadata": {},
   "outputs": [],
   "source": [
    "distance = np.zeros(1406)\n",
    "time = np.zeros(1406)\n",
    "\n",
    "for i in range(6):\n",
    "    dist = np.array(lms_tb.iloc[:, i + 1] * lms_tt_td.iloc[:, i + 1])\n",
    "    dist[dist != dist] = 0\n",
    "\n",
    "    distance += dist\n",
    "\n",
    "    t = np.array(lms_tb.iloc[:, i + 1] * lms_tt_td.iloc[:, i + 7])\n",
    "    t[t != t] = 0\n",
    "    time += t\n",
    "\n",
    "distance = distance / 100\n",
    "time = time / 100"
   ]
  },
  {
   "cell_type": "code",
   "execution_count": null,
   "metadata": {},
   "outputs": [],
   "source": [
    "time"
   ]
  },
  {
   "cell_type": "markdown",
   "metadata": {},
   "source": [
    "## Get average for each DU"
   ]
  },
  {
   "cell_type": "code",
   "execution_count": null,
   "metadata": {},
   "outputs": [],
   "source": [
    "tot_trips = lms_orig.sum(axis=1)"
   ]
  },
  {
   "cell_type": "code",
   "execution_count": null,
   "metadata": {},
   "outputs": [],
   "source": [
    "du_time_lms = np.zeros(6)\n",
    "du_dist_lms = np.zeros(6)\n",
    "\n",
    "du_time_ovin = np.zeros(6)\n",
    "du_dist_ovin = np.zeros(6)\n",
    "\n",
    "for du in range(1, 7):\n",
    "    idx = zones[zones.deg_urba == du].index\n",
    "\n",
    "    # LMS\n",
    "    trips = tot_trips[idx]\n",
    "    t = time[idx]\n",
    "    dist = distance[idx]\n",
    "\n",
    "    du_time_lms[du - 1] = np.sum(trips * t) / np.sum(trips)\n",
    "    du_dist_lms[du - 1] = np.sum(trips * dist) / np.sum(trips)\n",
    "\n",
    "    # OViN\n",
    "    trips_ovin = ovin_tb.Factor_o[idx]\n",
    "    t_ovin = ovin_tb.Travel_time_o[idx]\n",
    "    dist_ovin = ovin_tb.Distance_o[idx]\n",
    "\n",
    "    du_time_ovin[du - 1] = np.sum(trips_ovin * t_ovin) / np.sum(trips_ovin)\n",
    "    du_dist_ovin[du - 1] = np.sum(trips_ovin * dist_ovin) / np.sum(trips_ovin)\n",
    "\n",
    "\n",
    "    "
   ]
  },
  {
   "cell_type": "code",
   "execution_count": null,
   "metadata": {},
   "outputs": [],
   "source": [
    "np.sum(trips_ovin * t_ovin) /  np.sum(trips_ovin)"
   ]
  },
  {
   "cell_type": "code",
   "execution_count": null,
   "metadata": {},
   "outputs": [],
   "source": [
    "du_dist_ovin"
   ]
  },
  {
   "cell_type": "markdown",
   "metadata": {},
   "source": [
    "## Plot"
   ]
  },
  {
   "cell_type": "code",
   "execution_count": null,
   "metadata": {},
   "outputs": [],
   "source": [
    "f, ax = plt.subplots(1, 2)\n",
    "f.set_figwidth(10)\n",
    "\n",
    "x = np.arange(1, 7)\n",
    "\n",
    "ax[0].bar(x - 0.2, du_dist_ovin, width=0.35, color='firebrick', label='OViN')\n",
    "ax[0].bar(x + 0.2, du_dist_lms, width=0.35, color='forestgreen', label='LMS')\n",
    "ax[0].set_xticks(x)\n",
    "ax[0].set_ylabel('Distance [km]')\n",
    "ax[0].legend()\n",
    "ax[0].set_title('Average travel distance OViN and LMS\\n by degree of urbanisation')\n",
    "ax[0].set_xlabel('Degree of urbanisation')\n",
    "ax[0].set_axisbelow(True)\n",
    "ax[0].grid(axis='y')\n",
    "\n",
    "ax[1].bar(x - 0.2, du_time_ovin, width=0.35, color='firebrick', label='OViN')\n",
    "ax[1].bar(x + 0.2, du_time_lms, width=0.35, color='forestgreen', label='LMS')\n",
    "ax[1].set_xticks(x)\n",
    "ax[1].set_ylabel('Travel time [min]')\n",
    "ax[1].legend()\n",
    "ax[1].set_title('Average travel time OViN and LMS\\n by degree of urbanisation')\n",
    "ax[1].set_xlabel('Degree of urbanisation')\n",
    "ax[1].set_axisbelow(True)\n",
    "ax[1].grid(axis='y')\n"
   ]
  },
  {
   "cell_type": "code",
   "execution_count": null,
   "metadata": {},
   "outputs": [],
   "source": []
  }
 ],
 "metadata": {
  "kernelspec": {
   "display_name": "geospatial",
   "language": "python",
   "name": "geospatial"
  },
  "language_info": {
   "codemirror_mode": {
    "name": "ipython",
    "version": 3
   },
   "file_extension": ".py",
   "mimetype": "text/x-python",
   "name": "python",
   "nbconvert_exporter": "python",
   "pygments_lexer": "ipython3",
   "version": "3.9.18"
  }
 },
 "nbformat": 4,
 "nbformat_minor": 2
}
