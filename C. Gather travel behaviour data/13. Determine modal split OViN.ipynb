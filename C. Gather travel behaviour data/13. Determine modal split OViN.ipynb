{
 "cells": [
  {
   "cell_type": "code",
   "execution_count": null,
   "metadata": {},
   "outputs": [],
   "source": [
    "import pandas as pd\n",
    "import geopandas as gpd\n",
    "import numpy as np\n",
    "import os\n",
    "\n",
    "%matplotlib inline"
   ]
  },
  {
   "cell_type": "code",
   "execution_count": null,
   "metadata": {},
   "outputs": [],
   "source": [
    "parent_dir = os.path.split(os.getcwd())[0]"
   ]
  },
  {
   "cell_type": "code",
   "execution_count": null,
   "metadata": {},
   "outputs": [],
   "source": [
    "odin = pd.read_csv(parent_dir + '\\\\Data\\\\New\\\\Ovin_final.csv',  index_col=0)\n",
    "zones = gpd.read_file(parent_dir + '\\\\Data\\\\New\\\\lms_zone_du_new.shp') # LMS Zone data"
   ]
  },
  {
   "cell_type": "markdown",
   "metadata": {},
   "source": [
    "Create dataframe to store results"
   ]
  },
  {
   "cell_type": "code",
   "execution_count": null,
   "metadata": {},
   "outputs": [],
   "source": [
    "tb_data = zones[['ZONE_ID']]"
   ]
  },
  {
   "cell_type": "markdown",
   "metadata": {},
   "source": [
    "## Modal Split"
   ]
  },
  {
   "cell_type": "markdown",
   "metadata": {},
   "source": [
    "For modal split, do not include \"moped\" or \"other\" in the modal split percentages. Calculate modal split for both origin and destination zone"
   ]
  },
  {
   "cell_type": "code",
   "execution_count": null,
   "metadata": {},
   "outputs": [],
   "source": [
    "odin_modal = odin[(~odin.KHvm.isin([5, 8])) & (~odin.KHvm.isnull())]"
   ]
  },
  {
   "cell_type": "code",
   "execution_count": null,
   "metadata": {},
   "outputs": [],
   "source": [
    "zone_type = ['VertZone', 'AankZone', 'WoonZone']\n",
    "labels_vert = [['Car_driver_o', 'Car_passenger_o', 'Train_o', 'BTM_o', 'Bike_o', 'Walk_o'],\n",
    "                ['Car_driver_d', 'Car_passenger_d', 'Train_d', 'BTM_d', 'Bike_d', 'Walk_d'],\n",
    "                ['Car_driver_w', 'Car_passenger_w', 'Train_w', 'BTM_w', 'Bike_w', 'Walk_w']]"
   ]
  },
  {
   "cell_type": "code",
   "execution_count": null,
   "metadata": {},
   "outputs": [],
   "source": [
    "aank_tot = odin_modal[['AankZone', 'FactorV_final']].groupby('AankZone').sum()\n",
    "vert_tot = odin_modal[['VertZone', 'FactorV_final']].groupby('VertZone').sum()\n",
    "woon_tot = odin_modal[['WoonZone', 'FactorV_final']].groupby('WoonZone').sum()\n",
    "\n",
    "\n",
    "tot_list = [vert_tot, aank_tot, woon_tot]"
   ]
  },
  {
   "cell_type": "code",
   "execution_count": null,
   "metadata": {},
   "outputs": [],
   "source": [
    "m_list = [1, 2, 3, 4, 6, 7]\n",
    "\n",
    "for i in range(3):\n",
    "\n",
    "    for m in range(len(m_list)):\n",
    "\n",
    "        split = odin_modal[odin_modal.KHvm == m_list[m]][[zone_type[i], 'FactorV_final']].groupby(zone_type[i]).sum()\n",
    "    \t\n",
    "        split = np.round(split / tot_list[i] * 100, 2)\n",
    "\n",
    "        tb_data = tb_data.merge(split, left_on='ZONE_ID', right_index=True, how='left')\n",
    "        tb_data = tb_data.rename(columns={'FactorV_final': labels_vert[i][m]})\n"
   ]
  },
  {
   "cell_type": "code",
   "execution_count": null,
   "metadata": {},
   "outputs": [],
   "source": [
    "tb_data"
   ]
  },
  {
   "cell_type": "markdown",
   "metadata": {},
   "source": [
    "## Travel time, distance and frequency"
   ]
  },
  {
   "cell_type": "code",
   "execution_count": null,
   "metadata": {},
   "outputs": [],
   "source": [
    "def f_op(x):\n",
    "    indices = ~np.isnan(x)\n",
    "    # print(indices.any())\n",
    "    if indices.any():\n",
    "        return np.average(x[indices], weights=odin[~odin.OPID.duplicated()].loc[x.index[indices], 'FactorV_final'])\n",
    "    else:\n",
    "        return np.nan\n",
    "\n",
    "def f(x):\n",
    "    indices = ~np.isnan(x)\n",
    "    # print(indices.any())\n",
    "    if indices.any():\n",
    "        return np.average(x[indices], weights=odin.loc[x.index[indices], 'FactorV_final'])\n",
    "    else:\n",
    "        return np.nan"
   ]
  },
  {
   "cell_type": "markdown",
   "metadata": {},
   "source": [
    "Calculate both the average time/ distance of trips and of the day (the latter is based on home zone)"
   ]
  },
  {
   "cell_type": "code",
   "execution_count": null,
   "metadata": {},
   "outputs": [],
   "source": [
    "tt_o = np.round(odin.groupby(['VertZone']).agg(Travel_time_o=('Reisduur', f)), 2)\n",
    "tt_d = np.round(odin.groupby(['AankZone']).agg(Travel_time_d=('Reisduur', f)), 2)\n",
    "td_o = np.round(odin.groupby(['VertZone']).agg(Distance_o=('AfstV', f)) / 10, 2)\n",
    "td_d = np.round(odin.groupby(['AankZone']).agg(Distance_d=('AfstV', f)) / 10, 2)\n",
    "\n",
    "\n",
    "\n",
    "tb_data = tb_data.merge(tt_o, left_on='ZONE_ID', right_index=True, how='left')\n",
    "tb_data = tb_data.merge(tt_d, left_on='ZONE_ID', right_index=True, how='left')\n",
    "tb_data = tb_data.merge(td_o, left_on='ZONE_ID', right_index=True, how='left')\n",
    "tb_data = tb_data.merge(td_d, left_on='ZONE_ID', right_index=True, how='left')\n"
   ]
  },
  {
   "cell_type": "code",
   "execution_count": null,
   "metadata": {},
   "outputs": [],
   "source": [
    "tb_data"
   ]
  },
  {
   "cell_type": "markdown",
   "metadata": {},
   "source": [
    "Determine total travel time, dist and frequency over the day based on home zone"
   ]
  },
  {
   "cell_type": "code",
   "execution_count": null,
   "metadata": {},
   "outputs": [],
   "source": [
    "tt_w = odin[~odin.OPID.duplicated()].groupby(['WoonZone']).agg(Travel_time_w=('ReisduurOP', f_op))\n",
    "td_w = odin[~odin.OPID.duplicated()].groupby(['WoonZone']).agg(Distance_w=('AfstandOP', f_op))\n",
    "freq_w = odin[~odin.OPID.duplicated()].groupby(['WoonZone']).agg(Freq_w=('AantVpl', f_op))\n"
   ]
  },
  {
   "cell_type": "code",
   "execution_count": null,
   "metadata": {},
   "outputs": [],
   "source": [
    "tb_data = tb_data.merge(np.round(tt_w, 2), left_on='ZONE_ID', right_index=True, how='left')\n",
    "tb_data = tb_data.merge(np.round(td_w / 10, 2), left_on='ZONE_ID', right_index=True, how='left')\n",
    "tb_data = tb_data.merge(np.round(freq_w, 2), left_on='ZONE_ID', right_index=True, how='left')\n"
   ]
  },
  {
   "cell_type": "code",
   "execution_count": null,
   "metadata": {},
   "outputs": [],
   "source": [
    "tb_data"
   ]
  },
  {
   "cell_type": "markdown",
   "metadata": {},
   "source": [
    "## Count number of datapoints for each zone"
   ]
  },
  {
   "cell_type": "code",
   "execution_count": null,
   "metadata": {},
   "outputs": [],
   "source": [
    "Count_o = odin_modal.VertZone.value_counts()\n",
    "Count_d = odin_modal.AankZone.value_counts()\n",
    "Count_w = odin_modal.WoonZone.value_counts()\n"
   ]
  },
  {
   "cell_type": "code",
   "execution_count": null,
   "metadata": {},
   "outputs": [],
   "source": [
    "tb_data = tb_data.merge(Count_o, left_on='ZONE_ID', right_index=True, how='left')\n",
    "tb_data = tb_data.rename(columns={'count':'Count_o'})\n",
    "tb_data = tb_data.merge(Count_d, left_on='ZONE_ID', right_index=True, how='left')\n",
    "tb_data = tb_data.rename(columns={'count':'Count_d'})\n",
    "tb_data = tb_data.merge(Count_w, left_on='ZONE_ID', right_index=True, how='left')\n",
    "tb_data = tb_data.rename(columns={'count':'Count_w'})\n",
    "\n"
   ]
  },
  {
   "cell_type": "code",
   "execution_count": null,
   "metadata": {},
   "outputs": [],
   "source": [
    "tb_data"
   ]
  },
  {
   "cell_type": "code",
   "execution_count": null,
   "metadata": {},
   "outputs": [],
   "source": [
    "tb_data.columns"
   ]
  },
  {
   "cell_type": "markdown",
   "metadata": {},
   "source": [
    "## Sum FactorV_final"
   ]
  },
  {
   "cell_type": "code",
   "execution_count": null,
   "metadata": {},
   "outputs": [],
   "source": [
    "factor_o = odin_modal[['VertZone', 'FactorV_final']].groupby('VertZone').sum()\n",
    "factor_d = odin_modal[['AankZone', 'FactorV_final']].groupby('AankZone').sum()\n",
    "factor_w = odin_modal[['WoonZone', 'FactorV_final']].groupby('WoonZone').sum()\n"
   ]
  },
  {
   "cell_type": "code",
   "execution_count": null,
   "metadata": {},
   "outputs": [],
   "source": [
    "tb_data = tb_data.merge(factor_o, left_on='ZONE_ID', right_index=True, how='left')\n",
    "tb_data = tb_data.rename(columns={'FactorV_final':'Factor_o'})\n",
    "tb_data = tb_data.merge(factor_d, left_on='ZONE_ID', right_index=True, how='left')\n",
    "tb_data = tb_data.rename(columns={'FactorV_final':'Factor_d'})\n",
    "tb_data = tb_data.merge(factor_w, left_on='ZONE_ID', right_index=True, how='left')\n",
    "tb_data = tb_data.rename(columns={'FactorV_final':'Factor_w'})"
   ]
  },
  {
   "cell_type": "code",
   "execution_count": null,
   "metadata": {},
   "outputs": [],
   "source": [
    "tb_data"
   ]
  },
  {
   "cell_type": "markdown",
   "metadata": {},
   "source": [
    "## Save to csv"
   ]
  },
  {
   "cell_type": "code",
   "execution_count": null,
   "metadata": {},
   "outputs": [],
   "source": [
    "tb_data.to_csv(parent_dir + '\\\\Data\\\\New\\\\lms_zone_ovin_travel_behaviour_newF.csv')"
   ]
  },
  {
   "cell_type": "code",
   "execution_count": null,
   "metadata": {},
   "outputs": [],
   "source": []
  }
 ],
 "metadata": {
  "kernelspec": {
   "display_name": "geospatial",
   "language": "python",
   "name": "geospatial"
  },
  "language_info": {
   "codemirror_mode": {
    "name": "ipython",
    "version": 3
   },
   "file_extension": ".py",
   "mimetype": "text/x-python",
   "name": "python",
   "nbconvert_exporter": "python",
   "pygments_lexer": "ipython3",
   "version": "3.9.18"
  }
 },
 "nbformat": 4,
 "nbformat_minor": 2
}
