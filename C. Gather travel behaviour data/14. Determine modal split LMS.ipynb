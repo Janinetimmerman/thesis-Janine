{
 "cells": [
  {
   "cell_type": "code",
   "execution_count": null,
   "metadata": {},
   "outputs": [],
   "source": [
    "import pandas as pd\n",
    "import geopandas as gpd\n",
    "import numpy as np\n",
    "import os\n",
    "\n",
    "%matplotlib inline"
   ]
  },
  {
   "cell_type": "code",
   "execution_count": null,
   "metadata": {},
   "outputs": [],
   "source": [
    "parent_dir = os.path.split(os.getcwd())[0]"
   ]
  },
  {
   "cell_type": "code",
   "execution_count": null,
   "metadata": {},
   "outputs": [],
   "source": [
    "zones = gpd.read_file(parent_dir + '\\\\Data\\\\New\\\\lms_zone_du_new.shp') # LMS Zone data"
   ]
  },
  {
   "cell_type": "code",
   "execution_count": null,
   "metadata": {},
   "outputs": [],
   "source": [
    "car_driver = pd.read_csv(parent_dir + '\\\\Data\\\\New\\\\LMS_results\\\\lms-car-driver', index_col=0)"
   ]
  },
  {
   "cell_type": "code",
   "execution_count": null,
   "metadata": {},
   "outputs": [],
   "source": [
    "car_pass = pd.read_csv(parent_dir + '\\\\Data\\\\LMS\\\\HB_matrices\\\\PAS_etmaal.dat', delimiter='\\t')\n",
    "train = pd.read_csv(parent_dir + '\\\\Data\\\\LMS\\\\HB_matrices\\\\TREIN_etmaal.dat', delimiter='\\t')\n",
    "bus = pd.read_csv(parent_dir + '\\\\Data\\\\LMS\\\\HB_matrices\\\\BUS_etmaal.dat', delimiter='\\t')\n",
    "hov = pd.read_csv(parent_dir + '\\\\Data\\\\LMS\\\\HB_matrices\\\\HOV_etmaal.dat', delimiter='\\t')\n",
    "bike = pd.read_csv(parent_dir + '\\\\Data\\\\LMS\\\\HB_matrices\\\\FIETS_etmaal.dat', delimiter='\\t')\n",
    "ebike = pd.read_csv(parent_dir + '\\\\Data\\\\LMS\\\\HB_matrices\\\\EBIKE_etmaal.dat', delimiter='\\t')\n",
    "walk = pd.read_csv(parent_dir + '\\\\Data\\\\LMS\\\\HB_matrices\\\\LOOP_etmaal.dat', delimiter='\\t')"
   ]
  },
  {
   "cell_type": "markdown",
   "metadata": {},
   "source": [
    "Merge ebike and normal bike"
   ]
  },
  {
   "cell_type": "code",
   "execution_count": null,
   "metadata": {},
   "outputs": [],
   "source": [
    "bike_final = bike.merge(ebike, on=['Orig', 'Dest'], how='outer')"
   ]
  },
  {
   "cell_type": "code",
   "execution_count": null,
   "metadata": {},
   "outputs": [],
   "source": [
    "bike_final['TRP'] = bike_final['TRP_x'] + bike_final['TRP_y']\n",
    "bike_final = bike_final[['Orig', 'Dest', 'TRP']]"
   ]
  },
  {
   "cell_type": "code",
   "execution_count": null,
   "metadata": {},
   "outputs": [],
   "source": [
    "mode_list = [car_driver, car_pass, train, bus, hov, bike_final, walk]"
   ]
  },
  {
   "cell_type": "code",
   "execution_count": null,
   "metadata": {},
   "outputs": [],
   "source": [
    "labels = ['Car driver', 'Car passenger', 'Train', 'Bus',\n",
    "          'Tram/Metro', '(e-)Bike', 'Walk']"
   ]
  },
  {
   "cell_type": "markdown",
   "metadata": {},
   "source": [
    "Remove trips to/from other countries"
   ]
  },
  {
   "cell_type": "code",
   "execution_count": null,
   "metadata": {},
   "outputs": [],
   "source": [
    "for i in range(len(mode_list)):\n",
    "    mode_list[i] = mode_list[i][(mode_list[i].Orig.isin(np.arange(1, 1407))) & (mode_list[i].Dest.isin(np.arange(1, 1407)))]"
   ]
  },
  {
   "cell_type": "code",
   "execution_count": null,
   "metadata": {},
   "outputs": [],
   "source": [
    "tb_data = zones[['ZONE_ID']]"
   ]
  },
  {
   "cell_type": "markdown",
   "metadata": {},
   "source": [
    "## Modal split"
   ]
  },
  {
   "cell_type": "markdown",
   "metadata": {},
   "source": [
    "Now determine the modal split, by looking at trips departing and arriving from each zone."
   ]
  },
  {
   "cell_type": "code",
   "execution_count": null,
   "metadata": {},
   "outputs": [],
   "source": [
    "orig_df = tb_data.copy()\n",
    "dest_df = tb_data.copy()\n",
    "\n",
    "for i in range(len(mode_list)):\n",
    "    new_df = mode_list[i].groupby('Orig').sum()\n",
    "    new_df = new_df.rename(columns={'TRP':labels[i] + '_o_a'})\n",
    "    new_df = new_df.rename(columns={'tot':labels[i] + '_o_a'}).iloc[:, -1]\n",
    "\n",
    "\n",
    "    orig_df = orig_df.merge(new_df, left_on='ZONE_ID', right_on='Orig', how='left')\n",
    "\n",
    "    new_df = mode_list[i].groupby('Dest').sum()\n",
    "    new_df = new_df.rename(columns={'TRP':labels[i] + '_d_a'})\n",
    "    new_df = new_df.rename(columns={'tot':labels[i] + '_d_a'}).iloc[:, -1]\n",
    "\n",
    "\n",
    "    dest_df = dest_df.merge(new_df, left_on='ZONE_ID', right_on='Dest', how='left')\n"
   ]
  },
  {
   "cell_type": "markdown",
   "metadata": {},
   "source": [
    "Save absolute values to csv"
   ]
  },
  {
   "cell_type": "code",
   "execution_count": null,
   "metadata": {},
   "outputs": [],
   "source": [
    "orig_df.to_csv(parent_dir + '\\\\Data\\\\New\\\\lms_modal_split_orig_abs.csv')\n",
    "dest_df.to_csv(parent_dir + '\\\\Data\\\\New\\\\lms_modal_split_dest_abs.csv')\n"
   ]
  },
  {
   "cell_type": "code",
   "execution_count": null,
   "metadata": {},
   "outputs": [],
   "source": [
    "tot_trips_o = orig_df.iloc[:, 1:].sum(axis=1)\n",
    "tot_trips_d = dest_df.iloc[:, 1:].sum(axis=1)"
   ]
  },
  {
   "cell_type": "code",
   "execution_count": null,
   "metadata": {},
   "outputs": [],
   "source": [
    "for i in range(len(mode_list)):\n",
    "\n",
    "    orig_df.loc[:, labels[i] + '_o'] = np.round(orig_df[labels[i] + '_o_a'] / tot_trips_o * 100, 2)\n",
    "    dest_df.loc[:, labels[i] + '_d'] = np.round(dest_df[labels[i] + '_d_a'] / tot_trips_d * 100, 2)\n"
   ]
  },
  {
   "cell_type": "code",
   "execution_count": null,
   "metadata": {},
   "outputs": [],
   "source": [
    "orig_df"
   ]
  },
  {
   "cell_type": "code",
   "execution_count": null,
   "metadata": {},
   "outputs": [],
   "source": [
    "dest_df"
   ]
  },
  {
   "cell_type": "code",
   "execution_count": null,
   "metadata": {},
   "outputs": [],
   "source": [
    "modal_split_df = orig_df.iloc[:, np.r_[0, 8:15]]"
   ]
  },
  {
   "cell_type": "code",
   "execution_count": null,
   "metadata": {},
   "outputs": [],
   "source": [
    "modal_split_df = modal_split_df.merge(dest_df.iloc[:, np.r_[0, 8:15]], on='ZONE_ID')"
   ]
  },
  {
   "cell_type": "code",
   "execution_count": null,
   "metadata": {},
   "outputs": [],
   "source": [
    "modal_split_df"
   ]
  },
  {
   "cell_type": "markdown",
   "metadata": {},
   "source": [
    "## To csv"
   ]
  },
  {
   "cell_type": "code",
   "execution_count": null,
   "metadata": {},
   "outputs": [],
   "source": [
    "# modal_split_df.to_csv(parent_dir + '\\\\Data\\\\New\\\\lms_zone_lms_modal_split.csv')"
   ]
  },
  {
   "cell_type": "code",
   "execution_count": null,
   "metadata": {},
   "outputs": [],
   "source": []
  }
 ],
 "metadata": {
  "kernelspec": {
   "display_name": "geospatial",
   "language": "python",
   "name": "geospatial"
  },
  "language_info": {
   "codemirror_mode": {
    "name": "ipython",
    "version": 3
   },
   "file_extension": ".py",
   "mimetype": "text/x-python",
   "name": "python",
   "nbconvert_exporter": "python",
   "pygments_lexer": "ipython3",
   "version": "3.9.18"
  }
 },
 "nbformat": 4,
 "nbformat_minor": 2
}
