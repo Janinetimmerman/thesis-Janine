{
 "cells": [
  {
   "cell_type": "code",
   "execution_count": null,
   "metadata": {},
   "outputs": [],
   "source": [
    "import pandas as pd\n",
    "import geopandas as gpd\n",
    "import numpy as np\n",
    "import matplotlib.pyplot as plt\n",
    "\n",
    "import os\n",
    "\n",
    "\n",
    "%matplotlib inline"
   ]
  },
  {
   "cell_type": "code",
   "execution_count": null,
   "metadata": {},
   "outputs": [],
   "source": [
    "parent_dir = os.path.split(os.getcwd())[0]"
   ]
  },
  {
   "cell_type": "code",
   "execution_count": null,
   "metadata": {},
   "outputs": [],
   "source": [
    "zones = gpd.read_file(parent_dir + '\\\\Data\\\\New\\\\lms_zone_du_new.shp') # LMS Zone data"
   ]
  },
  {
   "cell_type": "code",
   "execution_count": null,
   "metadata": {},
   "outputs": [],
   "source": [
    "ovin = pd.read_csv(parent_dir + '\\\\Data\\\\New\\\\Ovin_final.csv', index_col=0)"
   ]
  },
  {
   "cell_type": "code",
   "execution_count": null,
   "metadata": {},
   "outputs": [],
   "source": [
    "lms_orig = pd.read_csv(parent_dir + '\\\\Data\\\\New\\\\lms_modal_split_orig_abs.csv', index_col=0)"
   ]
  },
  {
   "cell_type": "code",
   "execution_count": null,
   "metadata": {},
   "outputs": [],
   "source": [
    "no_list = ['21', '31', '51']\n",
    "\n",
    "car_list = []\n",
    "\n",
    "for s in no_list:\n",
    "    path = '\\\\Data\\\\LMS\\\\HB_matrices\\\\AUTO\\\\TRP2' + s + '18_synth.txt'\n",
    "    car_list.append(pd.read_csv(parent_dir + path, delimiter='\\t'))\n",
    "\n",
    "\n",
    "car_final = car_list[0].copy()\n",
    "\n",
    "for i in range(1, len(car_list)):\n",
    "    car_list[i] = car_list[i].rename(columns={'VAR':i})\n",
    "    car_final = car_final.merge(car_list[i], on=['Orig', 'Dest'], how='outer')\n",
    "\n",
    "car_final['tot'] = car_final.iloc[:, 2:].sum(axis=1)\n",
    "car_final = car_final[['Orig', 'Dest', 'tot']]"
   ]
  },
  {
   "cell_type": "code",
   "execution_count": null,
   "metadata": {},
   "outputs": [],
   "source": [
    "no_list = ['23', '33', '53']\n",
    "\n",
    "car_list = []\n",
    "\n",
    "for s in no_list:\n",
    "    path = '\\\\Data\\\\LMS\\\\HB_matrices\\\\AUTO\\\\TRP2' + s + '18_synth.txt'\n",
    "    car_list.append(pd.read_csv(parent_dir + path, delimiter='\\t'))\n",
    "\n",
    "\n",
    "car_final3 = car_list[0].copy()\n",
    "\n",
    "for i in range(1, len(car_list)):\n",
    "    car_list[i] = car_list[i].rename(columns={'VAR':i})\n",
    "    car_final3 = car_final3.merge(car_list[i], on=['Orig', 'Dest'], how='outer')\n",
    "\n",
    "car_final3['tot'] = car_final3.iloc[:, 2:].sum(axis=1)\n",
    "car_final3 = car_final3[['Orig', 'Dest', 'tot']]"
   ]
  },
  {
   "cell_type": "code",
   "execution_count": null,
   "metadata": {},
   "outputs": [],
   "source": [
    "no_list = ['22', '32', '52']\n",
    "\n",
    "car_list = []\n",
    "\n",
    "for s in no_list:\n",
    "    path = '\\\\Data\\\\LMS\\\\HB_matrices\\\\AUTO\\\\TRP2' + s + '18_synth.txt'\n",
    "    car_list.append(pd.read_csv(parent_dir + path, delimiter='\\t'))\n",
    "\n",
    "\n",
    "car_final2 = car_list[0].copy()\n",
    "\n",
    "for i in range(1, len(car_list)):\n",
    "    car_list[i] = car_list[i].rename(columns={'VAR':i})\n",
    "    car_final2 = car_final2.merge(car_list[i], on=['Orig', 'Dest'], how='outer')\n",
    "\n",
    "car_final2['tot'] = car_final2.iloc[:, 2:].sum(axis=1)\n",
    "car_final2 = car_final2[['Orig', 'Dest', 'tot']]"
   ]
  },
  {
   "cell_type": "code",
   "execution_count": null,
   "metadata": {},
   "outputs": [],
   "source": [
    "car_driver = pd.read_csv(parent_dir + '\\\\Data\\\\New\\\\LMS_results\\\\lms-car-driver', index_col=0)"
   ]
  },
  {
   "cell_type": "code",
   "execution_count": null,
   "metadata": {},
   "outputs": [],
   "source": [
    "btm1 = pd.read_csv(parent_dir + '\\\\Data\\\\LMS\\\\HB_matrices\\\\BTM\\\\TRP9_118.dat', delimiter='\\t')\n",
    "btm2 = pd.read_csv(parent_dir + '\\\\Data\\\\LMS\\\\HB_matrices\\\\BTM\\\\TRP9_218.dat', delimiter='\\t')\n",
    "btm3 = pd.read_csv(parent_dir + '\\\\Data\\\\LMS\\\\HB_matrices\\\\BTM\\\\TRP9_318.dat', delimiter='\\t')\n"
   ]
  },
  {
   "cell_type": "code",
   "execution_count": null,
   "metadata": {},
   "outputs": [],
   "source": [
    "trein1 = pd.read_csv(parent_dir + '\\\\Data\\\\LMS\\\\dagdelen\\\\trp_trein1.dat', delimiter='\\t')\n",
    "trein2 = pd.read_csv(parent_dir + '\\\\Data\\\\LMS\\\\dagdelen\\\\trp_trein2.dat', delimiter='\\t')\n",
    "trein3 = pd.read_csv(parent_dir + '\\\\Data\\\\LMS\\\\dagdelen\\\\trp_trein3.dat', delimiter='\\t')\n"
   ]
  },
  {
   "cell_type": "code",
   "execution_count": null,
   "metadata": {},
   "outputs": [],
   "source": [
    "carpas1 = pd.read_csv(parent_dir + '\\\\Data\\\\LMS\\\\dagdelen\\\\trp_pas1.dat', delimiter='\\t')\n",
    "carpas2 = pd.read_csv(parent_dir + '\\\\Data\\\\LMS\\\\dagdelen\\\\trp_pas2.dat', delimiter='\\t')\n",
    "carpas3 = pd.read_csv(parent_dir + '\\\\Data\\\\LMS\\\\dagdelen\\\\trp_pas3.dat', delimiter='\\t')\n"
   ]
  },
  {
   "cell_type": "code",
   "execution_count": null,
   "metadata": {},
   "outputs": [],
   "source": [
    "ratio = car_final.tot / car_driver.tot\n",
    "ratio3 = car_final3.tot / car_driver.tot\n",
    "ratio2 = car_final2.tot / car_driver.tot\n"
   ]
  },
  {
   "cell_type": "code",
   "execution_count": null,
   "metadata": {},
   "outputs": [],
   "source": [
    "ratio = np.array(ratio)\n",
    "ratio[ratio == np.inf] = np.nan\n",
    "\n",
    "ratio3 = np.array(ratio3)\n",
    "ratio3[ratio3 == np.inf] = np.nan\n",
    "\n",
    "ratio2 = np.array(ratio2)\n",
    "ratio2[ratio2 == np.inf] = np.nan"
   ]
  },
  {
   "cell_type": "code",
   "execution_count": null,
   "metadata": {},
   "outputs": [],
   "source": [
    "plt.hist(ratio, bins=np.arange(0, 1, 0.01), density=True)\n",
    "plt.hist(ratio3, bins=np.arange(0, 1, 0.01), alpha=0.5, density=True);\n",
    "plt.hist(ratio2, bins=np.arange(0, 1, 0.01), alpha=0.5, density=True);\n",
    "\n",
    "# plt.hist(np.hstack([ratio, ratio2, ratio3]), bins=np.arange(0, 1, 0.01), alpha=0.5, density=True, cumulative=True);\n"
   ]
  },
  {
   "cell_type": "code",
   "execution_count": null,
   "metadata": {},
   "outputs": [],
   "source": [
    "car_final = car_final[(car_final.Orig.isin(np.arange(1, 1407))) & (car_final.Dest.isin(np.arange(1, 1407)))]\n",
    "car_final2 = car_final2[(car_final2.Orig.isin(np.arange(1, 1407))) & (car_final2.Dest.isin(np.arange(1, 1407)))]\n",
    "car_final3 = car_final3[(car_final3.Orig.isin(np.arange(1, 1407))) & (car_final3.Dest.isin(np.arange(1, 1407)))]\n"
   ]
  },
  {
   "cell_type": "code",
   "execution_count": null,
   "metadata": {},
   "outputs": [],
   "source": [
    "c1 = car_final.groupby('Orig').sum()\n",
    "c2 = car_final2.groupby('Orig').sum()\n",
    "c3 = car_final3.groupby('Orig').sum()\n"
   ]
  },
  {
   "cell_type": "code",
   "execution_count": null,
   "metadata": {},
   "outputs": [],
   "source": [
    "car_ratios = [c1, c2, c3]"
   ]
  },
  {
   "cell_type": "code",
   "execution_count": null,
   "metadata": {},
   "outputs": [],
   "source": [
    "day_parts = [[car_final, car_final2, car_final3],\n",
    "             [carpas1, carpas2, carpas3],\n",
    "             [trein1, trein2, trein3],\n",
    "             [btm1, btm2, btm3]]\n",
    "\n",
    "\n",
    "sum_day_parts = [[], [], [],[]]"
   ]
  },
  {
   "cell_type": "code",
   "execution_count": null,
   "metadata": {},
   "outputs": [],
   "source": [
    "for m in range(4):\n",
    "    for d in range(3):\n",
    "\n",
    "        day_parts[m][d] = day_parts[m][d][(day_parts[m][d].Orig.isin(np.arange(1, 1407))) & (day_parts[m][d].Dest.isin(np.arange(1, 1407)))]\n",
    "\n",
    "        sum_day_parts[m].append(day_parts[m][d].groupby('Orig').sum().iloc[:, -1])\n"
   ]
  },
  {
   "cell_type": "code",
   "execution_count": null,
   "metadata": {},
   "outputs": [],
   "source": [
    "lms_orig"
   ]
  },
  {
   "cell_type": "code",
   "execution_count": null,
   "metadata": {},
   "outputs": [],
   "source": [
    "sum_day_parts[3][2]"
   ]
  },
  {
   "cell_type": "markdown",
   "metadata": {},
   "source": [
    "## OViN day parts"
   ]
  },
  {
   "cell_type": "code",
   "execution_count": null,
   "metadata": {},
   "outputs": [],
   "source": [
    "ovin_modal = ovin[(~ovin.KHvm.isin([5, 8])) & (~ovin.KHvm.isnull())] # Delete trips with mopeds and 'other' or trips without mode\n",
    "\n",
    "ovin_mor = ovin_modal[ovin_modal.KVertTijd.isin([3, 4])]\n",
    "ovin_eve = ovin_modal[ovin_modal.KVertTijd.isin([9, 10])]\n",
    "ovin_rest = ovin_modal[ovin_modal.KVertTijd.isin([1, 2, 5, 6, 7, 8, 11, 12, 13])]\n",
    "\n",
    "ovin_list = [ovin_mor, ovin_rest, ovin_eve]\n",
    "\n",
    "tb_data = zones[['ZONE_ID']]"
   ]
  },
  {
   "cell_type": "markdown",
   "metadata": {},
   "source": [
    "Morning peak:  7 - 9\n",
    "Evening peak: 16 - 18\n",
    "Documentatie D1 5.3.2\n",
    "\n",
    "!! Nog nakijken welke trips bij welk dagdeel indelen!!"
   ]
  },
  {
   "cell_type": "code",
   "execution_count": null,
   "metadata": {},
   "outputs": [],
   "source": [
    "# vert_tot = odin_modal[['VertZone', 'FactorV_final']].groupby('VertZone').sum()\n",
    "\n",
    "m_list = [1, 2, 3, 4, 6, 7]\n",
    "\n",
    "labels_vert = [['Car_driver_mor', 'Car_passenger_mor', 'Train_mor', 'BTM_mor', 'Bike_mor', 'Walk_mor'],\n",
    "                ['Car_driver_rest', 'Car_passenger_rest', 'Train_rest', 'BTM_rest', 'Bike_rest', 'Walk_rest'],\n",
    "                ['Car_driver_eve', 'Car_passenger_eve', 'Train_eve', 'BTM_eve', 'Bike_eve', 'Walk_eve']]\n",
    "\n",
    "for i in range(3):\n",
    "\n",
    "    vert_tot = ovin_list[i][['VertZone', 'FactorV_final']].groupby('VertZone').sum()\n",
    "\n",
    "    for m in range(len(m_list)):\n",
    "\n",
    "        split = ovin_list[i][ovin_list[i].KHvm == m_list[m]][['VertZone', 'FactorV_final']].groupby('VertZone').sum()\n",
    "    \t\n",
    "        # split = np.round(split / vert_tot * 100, 2)\n",
    "\n",
    "        tb_data = tb_data.merge(split, left_on='ZONE_ID', right_index=True, how='left')\n",
    "        tb_data = tb_data.rename(columns={'FactorV_final': labels_vert[i][m]})\n",
    "\n"
   ]
  },
  {
   "cell_type": "code",
   "execution_count": null,
   "metadata": {},
   "outputs": [],
   "source": [
    "# ovin_list[i][ovin_list[i].KHvm == m_list[m]][['VertZone', 'FactorV_final']].groupby('VertZone').sum()"
   ]
  },
  {
   "cell_type": "code",
   "execution_count": null,
   "metadata": {},
   "outputs": [],
   "source": [
    "tb_data"
   ]
  },
  {
   "cell_type": "markdown",
   "metadata": {},
   "source": [
    "## Create DU graph"
   ]
  },
  {
   "cell_type": "code",
   "execution_count": null,
   "metadata": {},
   "outputs": [],
   "source": [
    "ovin_tb = pd.read_csv(parent_dir + '\\\\Data\\\\New\\\\lms_zone_ovin_travel_behaviour_newF.csv', index_col=0)\n",
    "lms_tb = pd.read_csv(parent_dir + '\\\\Data\\\\New\\\\lms_zone_lms_modal_split.csv', index_col=0)"
   ]
  },
  {
   "cell_type": "code",
   "execution_count": null,
   "metadata": {},
   "outputs": [],
   "source": [
    "lms_du = np.zeros((6, 6))\n",
    "ovin_du = np.zeros((6, 6))\n",
    "lms_part = np.zeros((6, 4, 3))\n",
    "lms_ratio = np.zeros((6, 4, 3))\n",
    "ovin_part = np.zeros((6, 4, 3))\n",
    "ovin_ratio = np.zeros((6, 4, 3))\n",
    "\n",
    "for du in range(1, 7):\n",
    "\n",
    "    zone_list = zones[zones.deg_urba == du].ZONE_ID # Get all zones with certain DU\n",
    "    \n",
    "    # Determine percentagese for LMS\n",
    "    lms_sum = lms_orig[lms_orig.ZONE_ID.isin(zone_list)].sum()[1:] # Get total trips of each mode\n",
    "    lms_tot = lms_sum.sum()\n",
    "\n",
    "    p = lms_sum / lms_tot * 100\n",
    "    p.iloc[3] = p.iloc[3:5].sum() # Combine btm\n",
    "    p = p.iloc[np.r_[0:4, 5:7]] # Remove metro row\n",
    "\n",
    "    lms_du[du - 1, :] = p\n",
    "\n",
    "    # Determine ratio dayparts\n",
    "    for m in range(4):\n",
    "        for c in range(3):\n",
    "            if m == 3:\n",
    "\n",
    "                lms_part[du - 1, m, c] = sum_day_parts[m][c][sum_day_parts[m][c].index.isin(zone_list)].sum() / lms_sum.iloc[m:m + 2].sum() * p.iloc[m]\n",
    "                lms_ratio[du - 1, m, c] = sum_day_parts[m][c][sum_day_parts[m][c].index.isin(zone_list)].sum() / lms_sum.iloc[m:m + 2].sum()\n",
    "\n",
    "            else:\n",
    "                lms_part[du - 1, m, c] = sum_day_parts[m][c][sum_day_parts[m][c].index.isin(zone_list)].sum() / lms_sum.iloc[m] * p.iloc[m]\n",
    "                lms_ratio[du - 1, m, c] = sum_day_parts[m][c][sum_day_parts[m][c].index.isin(zone_list)].sum() / lms_sum.iloc[m]\n",
    "\n",
    "\n",
    "\n",
    "    # Determine percentages for OViN\n",
    "    ovin_df = ovin_tb[ovin_tb.ZONE_ID.isin(zone_list)].iloc[:, np.r_[1:7, 29]] # Get right ovin data\n",
    "\n",
    "    for i in range(6): # Loop over modes and calculate weighted average\n",
    "        ovin_du[du - 1, i] = (ovin_df.iloc[:, i] * ovin_df.iloc[:, -1]).sum() / ovin_df.iloc[:, -1].sum()\n",
    "    \n",
    "        if i < 4:\n",
    "            for c in range(3):\n",
    "                ovin_df_part = np.array(tb_data[tb_data.ZONE_ID.isin(zone_list)].iloc[:, i + 1 + c * 6])\n",
    "                ovin_df_part[ovin_df_part != ovin_df_part] = 0\n",
    "                ovin_df_part = np.sum(ovin_df_part) / ovin_df.iloc[:, -1].sum()\n",
    "                ovin_ratio[du - 1, i, c] = ovin_df_part / ovin_du[du - 1, i] * 100\n",
    "                ovin_part[du - 1, i, c] = ovin_df_part \n",
    "\n",
    "\n",
    "tot_btm = lms_ratio[:, 3].sum(axis=1)\n",
    "tot_ovin = ovin_ratio.sum(axis=2)\n",
    "\n",
    "# Small rounding error, scale values to 1 for btm and OViN\n",
    "for i in range(3):\n",
    "    lms_ratio[:, 3, i] = lms_ratio[:, 3, i] / tot_btm\n",
    "\n",
    "    ovin_ratio[:, :, i] = ovin_ratio[:, :, i] / tot_ovin"
   ]
  },
  {
   "cell_type": "code",
   "execution_count": null,
   "metadata": {},
   "outputs": [],
   "source": [
    "du_list = np.arange(1, 7)\n",
    "mode_labels = ['Car driver', 'Car passenger', 'Train',\n",
    "          'BTM', '(e)-Bike', 'Walking']\n",
    "\n",
    "time_labels = ['Morning peak', 'Rest day', 'Evening peak']"
   ]
  },
  {
   "cell_type": "code",
   "execution_count": null,
   "metadata": {},
   "outputs": [],
   "source": [
    "f, ax = plt.subplots(1, 4)\n",
    "f.set_figwidth(18)\n",
    "f.set_figheight(6)\n",
    "\n",
    "f.suptitle('Share of trips departing with a certain mode during part of the day',\n",
    "           fontsize='xx-large')\n",
    "\n",
    "color_idx = ['darkred', 'darkolivegreen', 'orangered', 'olivedrab', 'lightsalmon', 'yellowgreen']\n",
    "\n",
    "for m in range(4):\n",
    "    for c in range(3):\n",
    "\n",
    "        if c > 0:\n",
    "            b = lms_ratio[:, m, 0:c].sum(axis=1)\n",
    "            bo = ovin_ratio[:, m, 0:c].sum(axis=1)\n",
    "        else:\n",
    "            b = None\n",
    "            bo = None\n",
    "\n",
    "        ax[m].bar(du_list - 0.2, ovin_ratio[:, m, c], label=f'{time_labels[c]} OViN', bottom=bo, width=0.35, color=color_idx[c * 2])\n",
    "        ax[m].bar(du_list + 0.2, lms_ratio[:, m, c], label=f'{time_labels[c]} LMS', bottom=b, width=0.35,  color=color_idx[c * 2 + 1])\n",
    "\n",
    "\n",
    "        ax[m].set_xticks(np.arange(1, 7))\n",
    "        ax[m].set_xlabel('Degree of urbanisation')\n",
    "        ax[m].set_title(mode_labels[m])\n",
    "        ax[m].set_ylim(0, 1)\n",
    "\n",
    "        ax[m].set_axisbelow(True)\n",
    "        ax[m].grid(axis='y')\n",
    "\n",
    "# ax[0].plot([], [], color='firebrick', label='OViN', linewidth=5)\n",
    "# ax[0].plot([], [], color='forestgreen', label='LMS', linewidth=5)\n",
    "# ax[0].plot([], [], color='steelblue', label='Difference OViN - LMS', linewidth=5)\n",
    "handles, labels = ax[0].get_legend_handles_labels()\n",
    "f.legend(handles, labels, loc='upper right', bbox_to_anchor=(0.9, 1.15))"
   ]
  },
  {
   "cell_type": "code",
   "execution_count": null,
   "metadata": {},
   "outputs": [],
   "source": [
    "f, ax = plt.subplots(2, 6)\n",
    "f.set_figwidth(15)\n",
    "f.set_figheight(8)\n",
    "\n",
    "\n",
    "max_val = [np.max([lms_du.max(), ovin_du.max()]), 80]\n",
    "min_val = [0, -50]\n",
    "step = [5, 10]\n",
    "\n",
    "ax[1, 5].plot([], [], color='firebrick', label='OViN', linewidth=5)\n",
    "ax[1, 5].plot([], [], color='forestgreen', label='LMS', linewidth=5)\n",
    "ax[1, 5].plot([], [], color='steelblue', label='Difference OViN - LMS', linewidth=5)\n",
    "handles, labels = ax[1, 5].get_legend_handles_labels()\n",
    "\n",
    "\n",
    "for i in range(2):\n",
    "\n",
    "    for j in range(6):\n",
    "\n",
    "        if i == 0:\n",
    "            ax[0, j].bar(du_list - 0.2, ovin_du[:, j], color='firebrick', width=0.35)\n",
    "            \n",
    "            ax[0, j].bar(du_list + 0.2, lms_du[:, j], color='forestgreen', width=0.35)\n",
    "            \n",
    "            ax[1, j].bar(du_list, (-ovin_du[:, j] + lms_du[:, j]) / ovin_du[:, j] * 100, color='steelblue')\n",
    "\n",
    "            ax[0, j].set_title(f'{mode_labels[j]}')\n",
    "            ax[1, j].set_title(f'{mode_labels[j]}')\n",
    "        \n",
    "        if i == 1:\n",
    "            ax[i, j].set_xlabel('Degree of urbanisation')\n",
    "\n",
    "        if (j < 4) & (i == 0):\n",
    "            for c in range(3):\n",
    "                if c > 0:\n",
    "                    b = lms_part[:, j, 0:c].sum(axis=1)\n",
    "                    bo = ovin_part[:, j, 0:c].sum(axis=1) * 100\n",
    "                else:\n",
    "                    b = None\n",
    "                    bo = None\n",
    "\n",
    "                ax[0, j].bar(du_list - 0.2, ovin_part[:, j, c] * 100, label=f'{time_labels[c]} OViN', bottom=bo, width=0.35, color=color_idx[c * 2])\n",
    "                ax[0, j].bar(du_list + 0.2, lms_part[:, j, c], label=f'{time_labels[c]} LMS', bottom=b, width=0.35,  color=color_idx[c * 2 + 1])\n",
    "\n",
    "            \n",
    "\n",
    "        \n",
    "\n",
    "        ax[i, j].set_axisbelow(True)\n",
    "        ax[i, j].grid(axis='y')\n",
    "        ax[i, j].set_yticks(np.arange(min_val[i], max_val[i] + step[i], step[i]))\n",
    "        ax[i, j].set_ylim(min_val[i], max_val[i] + step[i])\n",
    "        ax[i, j].set_xticks(np.arange(1, 7))\n",
    "\n",
    "ax[0, 1].legend(loc='upper left', bbox_to_anchor=(-1.8, 1.6))\n",
    "ax[0, 0].set_ylabel('Percentage of mode users')\n",
    "ax[1, 0].set_ylabel('Difference in mode use in %')\n",
    "\n",
    "\n",
    "\n",
    "f.legend(handles, labels, loc='upper right', bbox_to_anchor=(0.9, 1.05))\n",
    "f.suptitle('(Difference in) modal split LMS and OViN \\nfor degree of urbanisation of the origin zone',\n",
    "           fontsize='xx-large');"
   ]
  },
  {
   "cell_type": "code",
   "execution_count": null,
   "metadata": {},
   "outputs": [],
   "source": []
  }
 ],
 "metadata": {
  "kernelspec": {
   "display_name": "geospatial",
   "language": "python",
   "name": "geospatial"
  },
  "language_info": {
   "codemirror_mode": {
    "name": "ipython",
    "version": 3
   },
   "file_extension": ".py",
   "mimetype": "text/x-python",
   "name": "python",
   "nbconvert_exporter": "python",
   "pygments_lexer": "ipython3",
   "version": "3.9.18"
  }
 },
 "nbformat": 4,
 "nbformat_minor": 2
}
