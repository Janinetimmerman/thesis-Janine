{
 "cells": [
  {
   "cell_type": "code",
   "execution_count": null,
   "metadata": {},
   "outputs": [],
   "source": [
    "import pandas as pd\n",
    "import geopandas as gpd\n",
    "import numpy as np\n",
    "import matplotlib.pyplot as plt\n",
    "import matplotlib as mpl\n",
    "import scipy.stats as sst\n",
    "import os\n",
    "\n",
    "from sklearn.linear_model import LinearRegression\n",
    "\n",
    "%matplotlib inline"
   ]
  },
  {
   "cell_type": "code",
   "execution_count": null,
   "metadata": {},
   "outputs": [],
   "source": [
    "parent_dir = os.path.split(os.getcwd())[0]"
   ]
  },
  {
   "cell_type": "code",
   "execution_count": null,
   "metadata": {},
   "outputs": [],
   "source": [
    "zones = gpd.read_file(parent_dir + '\\\\Data\\\\New\\\\lms_zone_du_new.shp') # LMS Zone data"
   ]
  },
  {
   "cell_type": "code",
   "execution_count": null,
   "metadata": {},
   "outputs": [],
   "source": [
    "ovin = pd.read_csv(parent_dir + '\\\\Data\\\\New\\\\Ovin_final.csv', index_col=0)"
   ]
  },
  {
   "cell_type": "markdown",
   "metadata": {},
   "source": [
    "#### OD matrices"
   ]
  },
  {
   "cell_type": "code",
   "execution_count": null,
   "metadata": {},
   "outputs": [],
   "source": [
    "car_driver = pd.read_csv(parent_dir + '\\\\Data\\\\New\\\\LMS_results\\\\lms-car-driver', index_col=0)\n",
    "car_pass = pd.read_csv(parent_dir + '\\\\Data\\\\LMS\\\\HB_matrices\\\\PAS_etmaal.dat', delimiter='\\t')\n",
    "train = pd.read_csv(parent_dir + '\\\\Data\\\\LMS\\\\HB_matrices\\\\TREIN_etmaal.dat', delimiter='\\t')\n",
    "bus = pd.read_csv(parent_dir + '\\\\Data\\\\LMS\\\\HB_matrices\\\\BUS_etmaal.dat', delimiter='\\t')\n",
    "hov = pd.read_csv(parent_dir + '\\\\Data\\\\LMS\\\\HB_matrices\\\\HOV_etmaal.dat', delimiter='\\t')\n",
    "bike = pd.read_csv(parent_dir + '\\\\Data\\\\LMS\\\\HB_matrices\\\\FIETS_etmaal.dat', delimiter='\\t')\n",
    "ebike = pd.read_csv(parent_dir + '\\\\Data\\\\LMS\\\\HB_matrices\\\\EBIKE_etmaal.dat', delimiter='\\t')\n",
    "walk = pd.read_csv(parent_dir + '\\\\Data\\\\LMS\\\\HB_matrices\\\\LOOP_etmaal.dat', delimiter='\\t')"
   ]
  },
  {
   "cell_type": "code",
   "execution_count": null,
   "metadata": {},
   "outputs": [],
   "source": [
    "bike_final = bike.merge(ebike, on=['Orig', 'Dest'], how='outer')\n",
    "bike_final['TRP'] = bike_final['TRP_x'] + bike_final['TRP_y']\n",
    "bike_final = bike_final[['Orig', 'Dest', 'TRP']]"
   ]
  },
  {
   "cell_type": "markdown",
   "metadata": {},
   "source": [
    "### Travel times"
   ]
  },
  {
   "cell_type": "code",
   "execution_count": null,
   "metadata": {},
   "outputs": [],
   "source": [
    "car_time = pd.read_csv(parent_dir + \"\\\\Data\\\\LMS\\\\LOS_correct\\\\reistijd_auto_etmaal.csv\", delimiter=';',\n",
    "                        header=None, names=['Orig', 'Dest', 'Time'], decimal=',')"
   ]
  },
  {
   "cell_type": "code",
   "execution_count": null,
   "metadata": {},
   "outputs": [],
   "source": [
    "ov_time = pd.read_csv(parent_dir + \"\\\\Data\\\\LMS\\\\LOS_correct\\\\reistijd_ov_etmaal.csv\", delimiter=';',\n",
    "                        header=None, names=['Orig', 'Dest', 'Time'], decimal=',')"
   ]
  },
  {
   "cell_type": "code",
   "execution_count": null,
   "metadata": {},
   "outputs": [],
   "source": [
    "bike_time = pd.read_csv(parent_dir + \"\\\\Data\\\\LMS\\\\LOS_correct\\\\reistijd_fiets_etmaal.csv\", delimiter=';',\n",
    "                        header=None, names=['Orig', 'Dest', 'Time'], decimal=',')"
   ]
  },
  {
   "cell_type": "markdown",
   "metadata": {},
   "source": [
    "#### Distances"
   ]
  },
  {
   "cell_type": "code",
   "execution_count": null,
   "metadata": {},
   "outputs": [],
   "source": [
    "car_dist = pd.read_csv(parent_dir + '\\\\Data\\\\LMS\\LOS_correct\\\\afstand_auto_freeflow.csv', delimiter=';', header=None, \n",
    "                       names=['Orig', 'Dest', 'Dist'], decimal=',')\n",
    "\n",
    "car_dist['Dist'] = car_dist['Dist'] / 1000"
   ]
  },
  {
   "cell_type": "code",
   "execution_count": null,
   "metadata": {},
   "outputs": [],
   "source": [
    "btm_dist = pd.read_csv(parent_dir + \"\\\\Data\\\\LMS\\\\LOS_correct\\\\LOS9_118_LMS.ASC\", delimiter=r\"\\s+\", header=None,\n",
    "                       names=['Orig', 'Dest', 'Bus_time_il', 'bus_time_jl', 'bus_time_b', 'bus_time_tm', 'bus_wait_i', 'bus_time_o', 'bus_dist_ov', 'bus_dist_nt', 'bus_o', 'bus_cost',\n",
    "                              'tm_time_il', 'tm_time_jl', 'tm_time_b', 'tm_time_tm', 'tm_iwait', 'tm_time_o', 'tm_dist_ov', 'tm_dist_nt', 'tm_over', 'tm_cost'])\n"
   ]
  },
  {
   "cell_type": "code",
   "execution_count": null,
   "metadata": {},
   "outputs": [],
   "source": [
    "btm_dist = btm_dist[['Orig', 'Dest', 'bus_dist_ov', 'bus_dist_nt', 'tm_dist_ov', 'tm_dist_nt']]"
   ]
  },
  {
   "cell_type": "code",
   "execution_count": null,
   "metadata": {},
   "outputs": [],
   "source": [
    "bike_dist = pd.read_csv(parent_dir + \"\\\\Data\\\\LMS\\\\LOS_correct\\\\FIETS_LOOP\\\\LOS6__18LMS_fiets_km.txt\", delimiter=r\"\\s+\", header=None,\n",
    "                        names=['Orig', 'Dest', 'Dist'])"
   ]
  },
  {
   "cell_type": "markdown",
   "metadata": {},
   "source": [
    "Get intrazonal distance"
   ]
  },
  {
   "cell_type": "code",
   "execution_count": null,
   "metadata": {},
   "outputs": [],
   "source": [
    "inter_dist = bike_dist.groupby('Orig').min()"
   ]
  },
  {
   "cell_type": "code",
   "execution_count": null,
   "metadata": {},
   "outputs": [],
   "source": [
    "idx = bike_dist.groupby('Orig').idxmin().Dist\n",
    "bike_dist.loc[idx]"
   ]
  },
  {
   "cell_type": "code",
   "execution_count": null,
   "metadata": {},
   "outputs": [],
   "source": [
    "intra_dist = 0.5 * np.sqrt(zones.OPP / 100 /  np.pi)\n",
    "intra_dist"
   ]
  },
  {
   "cell_type": "code",
   "execution_count": null,
   "metadata": {},
   "outputs": [],
   "source": [
    "F = np.array(intra_dist) / np.array(inter_dist.Dist)\n",
    "F"
   ]
  },
  {
   "cell_type": "code",
   "execution_count": null,
   "metadata": {},
   "outputs": [],
   "source": [
    "intra_dist_arr = np.vstack([np.arange(1, 1407), np.arange(1, 1407), intra_dist]).T"
   ]
  },
  {
   "cell_type": "code",
   "execution_count": null,
   "metadata": {},
   "outputs": [],
   "source": [
    "intra_dist_pd = pd.DataFrame(intra_dist_arr, columns=['Orig', 'Dest', 'Dist'])"
   ]
  },
  {
   "cell_type": "code",
   "execution_count": null,
   "metadata": {},
   "outputs": [],
   "source": [
    "bike_dist = pd.concat([bike_dist, intra_dist_pd])"
   ]
  },
  {
   "cell_type": "markdown",
   "metadata": {},
   "source": [
    "Calculate intrazonal travel time bike"
   ]
  },
  {
   "cell_type": "code",
   "execution_count": null,
   "metadata": {},
   "outputs": [],
   "source": [
    "intra_time = bike_time.loc[idx].Time * F\n",
    "intra_time_arr = np.vstack([np.arange(1, 1407), np.arange(1, 1407), intra_time]).T\n",
    "intra_time_pd = pd.DataFrame(intra_time_arr, columns=['Orig', 'Dest', 'Time'])\n",
    "bike_time = pd.concat([bike_time, intra_time_pd])"
   ]
  },
  {
   "cell_type": "markdown",
   "metadata": {},
   "source": [
    "Remove trips to and from other countries"
   ]
  },
  {
   "cell_type": "code",
   "execution_count": null,
   "metadata": {},
   "outputs": [],
   "source": [
    "mode_list = [car_driver, car_pass, train, bus, hov, bike_final, walk]\n",
    "\n",
    "for i in range(len(mode_list)):\n",
    "    mode_list[i] = mode_list[i][(mode_list[i].Orig.isin(np.arange(1, 1407))) & (mode_list[i].Dest.isin(np.arange(1, 1407)))]"
   ]
  },
  {
   "cell_type": "code",
   "execution_count": null,
   "metadata": {},
   "outputs": [],
   "source": [
    "tb_data = zones[['ZONE_ID']] # Create df to store results"
   ]
  },
  {
   "cell_type": "code",
   "execution_count": null,
   "metadata": {},
   "outputs": [],
   "source": [
    "tb_data = tb_data.set_index('ZONE_ID')"
   ]
  },
  {
   "cell_type": "markdown",
   "metadata": {},
   "source": [
    "### Get distance for each zone"
   ]
  },
  {
   "cell_type": "markdown",
   "metadata": {},
   "source": [
    "car"
   ]
  },
  {
   "cell_type": "code",
   "execution_count": null,
   "metadata": {},
   "outputs": [],
   "source": [
    "mode_list[0] = mode_list[0].merge(car_dist, on=['Orig', 'Dest'], how='left')\n",
    "mode_list[0]['tot_dist'] = mode_list[0].tot * mode_list[0].Dist\n",
    "grouped = mode_list[0].groupby('Orig').sum()\n",
    "ave_dist = grouped.tot_dist / grouped.tot\n",
    "tb_data['Car_driver_dist_o'] = ave_dist"
   ]
  },
  {
   "cell_type": "markdown",
   "metadata": {},
   "source": [
    "Car passenger"
   ]
  },
  {
   "cell_type": "code",
   "execution_count": null,
   "metadata": {},
   "outputs": [],
   "source": [
    "mode_list[1] = mode_list[1].merge(car_dist, on=['Orig', 'Dest'], how='left')\n",
    "mode_list[1]['tot_dist'] = mode_list[1].TRP * mode_list[1].Dist\n",
    "grouped = mode_list[1].groupby('Orig').sum()\n",
    "ave_dist = grouped.tot_dist / grouped.TRP\n",
    "tb_data['Car_pass_dist_o'] = ave_dist\n"
   ]
  },
  {
   "cell_type": "markdown",
   "metadata": {},
   "source": [
    "bus"
   ]
  },
  {
   "cell_type": "code",
   "execution_count": null,
   "metadata": {},
   "outputs": [],
   "source": [
    "btm_dist"
   ]
  },
  {
   "cell_type": "code",
   "execution_count": null,
   "metadata": {},
   "outputs": [],
   "source": [
    "btm = mode_list[3].merge(mode_list[4], on=['Orig', 'Dest'], how='outer')\n",
    "btm['TRP'] = btm[['TRP_x', 'TRP_y']].sum(axis=1)\n",
    "btm"
   ]
  },
  {
   "cell_type": "code",
   "execution_count": null,
   "metadata": {},
   "outputs": [],
   "source": [
    "btm = btm.merge(btm_dist, on=['Orig', 'Dest'], how='left')"
   ]
  },
  {
   "cell_type": "code",
   "execution_count": null,
   "metadata": {},
   "outputs": [],
   "source": [
    "btm.dropna()"
   ]
  },
  {
   "cell_type": "code",
   "execution_count": null,
   "metadata": {},
   "outputs": [],
   "source": [
    "btm['dist_bus'] = btm[['bus_dist_ov', 'bus_dist_nt']].sum(axis=1)\n",
    "btm['dist_tm'] = btm[['tm_dist_ov', 'tm_dist_nt']].sum(axis=1)\n"
   ]
  },
  {
   "cell_type": "code",
   "execution_count": null,
   "metadata": {},
   "outputs": [],
   "source": [
    "## btm added to df later"
   ]
  },
  {
   "cell_type": "markdown",
   "metadata": {},
   "source": [
    "Train. To simplify, first determine travel time based on distance using linear regression on OViN data. Because travel times OV are known. If results seem interesting, do a more in depth analysis."
   ]
  },
  {
   "cell_type": "code",
   "execution_count": null,
   "metadata": {},
   "outputs": [],
   "source": [
    "tr = ovin[ovin.KHvm.isin([3])][['AfstV', 'VertZone', 'AankZone', 'KHvm', 'Reisduur']]"
   ]
  },
  {
   "cell_type": "code",
   "execution_count": null,
   "metadata": {},
   "outputs": [],
   "source": [
    "tr"
   ]
  },
  {
   "cell_type": "code",
   "execution_count": null,
   "metadata": {},
   "outputs": [],
   "source": [
    "tr_afst = np.vstack([np.ones(len(tr)), tr.AfstV / 10]).T"
   ]
  },
  {
   "cell_type": "code",
   "execution_count": null,
   "metadata": {},
   "outputs": [],
   "source": [
    "regr = LinearRegression()\n",
    "regr.fit(tr_afst, tr.Reisduur / 60)"
   ]
  },
  {
   "cell_type": "code",
   "execution_count": null,
   "metadata": {},
   "outputs": [],
   "source": [
    "x = np.arange(0, 400, 100)\n",
    "\n",
    "plt.scatter(tr.AfstV / 10, tr.Reisduur / 60, alpha=0.1)\n",
    "plt.plot(x, regr.intercept_ + x * regr.coef_[1], color='red', linestyle='--')\n",
    "plt.xlabel('Distance [km]')\n",
    "plt.ylabel('Travel time [h]')"
   ]
  },
  {
   "cell_type": "code",
   "execution_count": null,
   "metadata": {},
   "outputs": [],
   "source": [
    "ov_time['train_dist'] = (ov_time.Time / 60 - regr.intercept_) / regr.coef_[1]"
   ]
  },
  {
   "cell_type": "code",
   "execution_count": null,
   "metadata": {},
   "outputs": [],
   "source": [
    "mode_list[2] = mode_list[2].merge(ov_time, on=['Orig', 'Dest'], how='left')\n",
    "mode_list[2]['tot'] = mode_list[2].TRP * mode_list[2].train_dist\n",
    "grouped = mode_list[2].groupby('Orig').sum()\n",
    "ave_dist = grouped.tot / grouped.TRP\n",
    "tb_data['Train_dist_o'] = ave_dist\n"
   ]
  },
  {
   "cell_type": "markdown",
   "metadata": {},
   "source": [
    "btm"
   ]
  },
  {
   "cell_type": "code",
   "execution_count": null,
   "metadata": {},
   "outputs": [],
   "source": [
    "btm['tot_bus'] = btm.TRP_x * btm.dist_bus\n",
    "btm['tot_tm'] = btm.TRP_y * btm.dist_tm\n",
    "btm['tot'] = btm[['tot_bus', 'tot_tm']].sum(axis=1)\n",
    "grouped = btm.groupby('Orig').sum()\n",
    "ave_dist = grouped.tot / grouped.TRP\n",
    "tb_data['BTM_dist_o'] = ave_dist"
   ]
  },
  {
   "cell_type": "code",
   "execution_count": null,
   "metadata": {},
   "outputs": [],
   "source": [
    "tb_data"
   ]
  },
  {
   "cell_type": "markdown",
   "metadata": {},
   "source": [
    "Biking"
   ]
  },
  {
   "cell_type": "code",
   "execution_count": null,
   "metadata": {},
   "outputs": [],
   "source": [
    "mode_list[5] = mode_list[5].merge(bike_dist, on=['Orig', 'Dest'], how='left')"
   ]
  },
  {
   "cell_type": "code",
   "execution_count": null,
   "metadata": {},
   "outputs": [],
   "source": [
    "mode_list[5]['tot'] = mode_list[5].TRP * mode_list[5].Dist\n",
    "grouped = mode_list[5].groupby('Orig').sum()\n",
    "ave_dist = grouped.tot / grouped.TRP\n",
    "tb_data['Bike_dist_o'] = ave_dist\n"
   ]
  },
  {
   "cell_type": "markdown",
   "metadata": {},
   "source": [
    "Walking"
   ]
  },
  {
   "cell_type": "code",
   "execution_count": null,
   "metadata": {},
   "outputs": [],
   "source": [
    "mode_list[6] = mode_list[6].merge(bike_dist, on=['Orig', 'Dest'], how='left')"
   ]
  },
  {
   "cell_type": "code",
   "execution_count": null,
   "metadata": {},
   "outputs": [],
   "source": [
    "mode_list[6]['tot'] = mode_list[6].TRP * mode_list[6].Dist\n",
    "grouped = mode_list[6].groupby('Orig').sum()\n",
    "ave_dist = grouped.tot / grouped.TRP\n",
    "tb_data['Walk_dist_o'] = ave_dist"
   ]
  },
  {
   "cell_type": "code",
   "execution_count": null,
   "metadata": {},
   "outputs": [],
   "source": [
    "tb_data"
   ]
  },
  {
   "cell_type": "markdown",
   "metadata": {},
   "source": [
    "## Travel time"
   ]
  },
  {
   "cell_type": "markdown",
   "metadata": {},
   "source": [
    "Car driver"
   ]
  },
  {
   "cell_type": "code",
   "execution_count": null,
   "metadata": {},
   "outputs": [],
   "source": [
    "mode_list[0] = mode_list[0].merge(car_time, on=['Orig', 'Dest'], how='left')\n"
   ]
  },
  {
   "cell_type": "code",
   "execution_count": null,
   "metadata": {},
   "outputs": [],
   "source": [
    "mode_list[0]['tot_time'] = mode_list[0].tot * mode_list[0].Time\n",
    "grouped = mode_list[0].groupby('Orig').sum()\n",
    "ave_dist = grouped.tot_time / grouped.tot\n",
    "tb_data['Car_driver_time_o'] = ave_dist\n"
   ]
  },
  {
   "cell_type": "markdown",
   "metadata": {},
   "source": [
    "Car passenger"
   ]
  },
  {
   "cell_type": "code",
   "execution_count": null,
   "metadata": {},
   "outputs": [],
   "source": [
    "mode_list[1] = mode_list[1].merge(car_time, on=['Orig', 'Dest'], how='left')"
   ]
  },
  {
   "cell_type": "code",
   "execution_count": null,
   "metadata": {},
   "outputs": [],
   "source": [
    "mode_list[1]['tot_time'] = mode_list[1].TRP * mode_list[1].Time\n",
    "grouped = mode_list[1].groupby('Orig').sum()\n",
    "ave_dist = grouped.tot_time / grouped.TRP\n",
    "tb_data['Car_pass_time_o'] = ave_dist\n"
   ]
  },
  {
   "cell_type": "markdown",
   "metadata": {},
   "source": [
    "Train"
   ]
  },
  {
   "cell_type": "code",
   "execution_count": null,
   "metadata": {},
   "outputs": [],
   "source": [
    "mode_list[2]['tot_time'] = mode_list[2].TRP * mode_list[2].Time\n",
    "grouped = mode_list[2].groupby('Orig').sum()\n",
    "ave_dist = grouped.tot_time / grouped.TRP\n",
    "tb_data['Train_time_o'] = ave_dist"
   ]
  },
  {
   "cell_type": "markdown",
   "metadata": {},
   "source": [
    "btm"
   ]
  },
  {
   "cell_type": "code",
   "execution_count": null,
   "metadata": {},
   "outputs": [],
   "source": [
    "btm = btm.merge(ov_time, on=['Orig', 'Dest'], how='left')"
   ]
  },
  {
   "cell_type": "code",
   "execution_count": null,
   "metadata": {},
   "outputs": [],
   "source": [
    "btm['tot_time'] = btm.TRP * btm.Time\n",
    "grouped = btm.groupby('Orig').sum()\n",
    "ave_dist = grouped.tot_time / grouped.TRP\n",
    "tb_data['BTM_time_o'] = ave_dist"
   ]
  },
  {
   "cell_type": "markdown",
   "metadata": {},
   "source": [
    "Bike"
   ]
  },
  {
   "cell_type": "code",
   "execution_count": null,
   "metadata": {},
   "outputs": [],
   "source": [
    "mode_list[5] = mode_list[5].merge(bike_time, on=['Orig', 'Dest'], how='left')"
   ]
  },
  {
   "cell_type": "code",
   "execution_count": null,
   "metadata": {},
   "outputs": [],
   "source": [
    "mode_list[5]['tot_time'] = mode_list[5].TRP * mode_list[5].Time\n",
    "grouped = mode_list[5].groupby('Orig').sum()\n",
    "ave_dist = grouped.tot_time / grouped.TRP\n",
    "tb_data['Bike_time_o'] = ave_dist"
   ]
  },
  {
   "cell_type": "markdown",
   "metadata": {},
   "source": [
    "Walk"
   ]
  },
  {
   "cell_type": "code",
   "execution_count": null,
   "metadata": {},
   "outputs": [],
   "source": [
    "tb_data['Walk_time_o'] = tb_data.Walk_dist_o / 5 * 60"
   ]
  },
  {
   "cell_type": "code",
   "execution_count": null,
   "metadata": {},
   "outputs": [],
   "source": [
    "tb_data = np.round(tb_data, 2)"
   ]
  },
  {
   "cell_type": "markdown",
   "metadata": {},
   "source": [
    "## save data"
   ]
  },
  {
   "cell_type": "code",
   "execution_count": null,
   "metadata": {},
   "outputs": [],
   "source": [
    "tb_data.to_csv(parent_dir + '\\\\Data\\\\New\\\\lms_zone_lms_tt_td.csv')"
   ]
  },
  {
   "cell_type": "code",
   "execution_count": null,
   "metadata": {},
   "outputs": [],
   "source": []
  }
 ],
 "metadata": {
  "kernelspec": {
   "display_name": "geospatial",
   "language": "python",
   "name": "geospatial"
  },
  "language_info": {
   "codemirror_mode": {
    "name": "ipython",
    "version": 3
   },
   "file_extension": ".py",
   "mimetype": "text/x-python",
   "name": "python",
   "nbconvert_exporter": "python",
   "pygments_lexer": "ipython3",
   "version": "3.9.18"
  }
 },
 "nbformat": 4,
 "nbformat_minor": 2
}
